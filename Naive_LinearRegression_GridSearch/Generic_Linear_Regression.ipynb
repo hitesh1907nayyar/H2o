{
 "cells": [
  {
   "cell_type": "code",
   "execution_count": 1,
   "metadata": {},
   "outputs": [],
   "source": [
    "import h2o"
   ]
  },
  {
   "cell_type": "code",
   "execution_count": 2,
   "metadata": {},
   "outputs": [
    {
     "name": "stdout",
     "output_type": "stream",
     "text": [
      "Checking whether there is an H2O instance running at http://localhost:54321. connected.\n"
     ]
    },
    {
     "data": {
      "text/html": [
       "<div style=\"overflow:auto\"><table style=\"width:50%\"><tr><td>H2O cluster uptime:</td>\n",
       "<td>7 mins 07 secs</td></tr>\n",
       "<tr><td>H2O cluster timezone:</td>\n",
       "<td>Asia/Kolkata</td></tr>\n",
       "<tr><td>H2O data parsing timezone:</td>\n",
       "<td>UTC</td></tr>\n",
       "<tr><td>H2O cluster version:</td>\n",
       "<td>3.20.0.4</td></tr>\n",
       "<tr><td>H2O cluster version age:</td>\n",
       "<td>5 days </td></tr>\n",
       "<tr><td>H2O cluster name:</td>\n",
       "<td>H2O_from_python_hitesh_n_sclyky</td></tr>\n",
       "<tr><td>H2O cluster total nodes:</td>\n",
       "<td>1</td></tr>\n",
       "<tr><td>H2O cluster free memory:</td>\n",
       "<td>78.9 Mb</td></tr>\n",
       "<tr><td>H2O cluster total cores:</td>\n",
       "<td>4</td></tr>\n",
       "<tr><td>H2O cluster allowed cores:</td>\n",
       "<td>4</td></tr>\n",
       "<tr><td>H2O cluster status:</td>\n",
       "<td>locked, healthy</td></tr>\n",
       "<tr><td>H2O connection url:</td>\n",
       "<td>http://localhost:54321</td></tr>\n",
       "<tr><td>H2O connection proxy:</td>\n",
       "<td>None</td></tr>\n",
       "<tr><td>H2O internal security:</td>\n",
       "<td>False</td></tr>\n",
       "<tr><td>H2O API Extensions:</td>\n",
       "<td>Algos, AutoML, Core V3, Core V4</td></tr>\n",
       "<tr><td>Python version:</td>\n",
       "<td>3.6.5 final</td></tr></table></div>"
      ],
      "text/plain": [
       "--------------------------  -------------------------------\n",
       "H2O cluster uptime:         7 mins 07 secs\n",
       "H2O cluster timezone:       Asia/Kolkata\n",
       "H2O data parsing timezone:  UTC\n",
       "H2O cluster version:        3.20.0.4\n",
       "H2O cluster version age:    5 days\n",
       "H2O cluster name:           H2O_from_python_hitesh_n_sclyky\n",
       "H2O cluster total nodes:    1\n",
       "H2O cluster free memory:    78.9 Mb\n",
       "H2O cluster total cores:    4\n",
       "H2O cluster allowed cores:  4\n",
       "H2O cluster status:         locked, healthy\n",
       "H2O connection url:         http://localhost:54321\n",
       "H2O connection proxy:\n",
       "H2O internal security:      False\n",
       "H2O API Extensions:         Algos, AutoML, Core V3, Core V4\n",
       "Python version:             3.6.5 final\n",
       "--------------------------  -------------------------------"
      ]
     },
     "metadata": {},
     "output_type": "display_data"
    }
   ],
   "source": [
    "h2o.init()"
   ]
  },
  {
   "cell_type": "code",
   "execution_count": 3,
   "metadata": {},
   "outputs": [
    {
     "name": "stdout",
     "output_type": "stream",
     "text": [
      "Parse progress: |█████████████████████████████████████████████████████████| 100%\n"
     ]
    }
   ],
   "source": [
    "#File from which input needs to be taken\n",
    "#url  = \"h2o_General_Linear_Regression_csv\"\n",
    "smoking = h2o.import_file('h2o_General_Linear_Regression_csv.csv', destination_frame = \"smoking\")"
   ]
  },
  {
   "cell_type": "code",
   "execution_count": 4,
   "metadata": {},
   "outputs": [
    {
     "data": {
      "text/html": [
       "<table>\n",
       "<thead>\n",
       "<tr><th>       </th><th>C1   </th><th>C2       </th><th>C3                </th><th>C4                </th><th>C5                </th></tr>\n",
       "</thead>\n",
       "<tbody>\n",
       "<tr><td>type   </td><td>enum </td><td>enum     </td><td>int               </td><td>int               </td><td>int               </td></tr>\n",
       "<tr><td>mins   </td><td>     </td><td>         </td><td>98.0              </td><td>2.0               </td><td>13.0              </td></tr>\n",
       "<tr><td>mean   </td><td>     </td><td>         </td><td>1559.2222222222224</td><td>253.61111111111114</td><td>204.27777777777777</td></tr>\n",
       "<tr><td>maxs   </td><td>     </td><td>         </td><td>6062.0            </td><td>1001.0            </td><td>557.0             </td></tr>\n",
       "<tr><td>sigma  </td><td>     </td><td>         </td><td>1563.05457561443  </td><td>262.5974951221821 </td><td>161.18624739476488</td></tr>\n",
       "<tr><td>zeros  </td><td>     </td><td>         </td><td>0                 </td><td>0                 </td><td>0                 </td></tr>\n",
       "<tr><td>missing</td><td>0    </td><td>0        </td><td>0                 </td><td>0                 </td><td>0                 </td></tr>\n",
       "<tr><td>0      </td><td>40-44</td><td>No       </td><td>656.0             </td><td>18.0              </td><td>27.0              </td></tr>\n",
       "<tr><td>1      </td><td>45-59</td><td>No       </td><td>359.0             </td><td>22.0              </td><td>61.0              </td></tr>\n",
       "<tr><td>2      </td><td>50-54</td><td>No       </td><td>249.0             </td><td>19.0              </td><td>76.0              </td></tr>\n",
       "<tr><td>3      </td><td>55-59</td><td>No       </td><td>632.0             </td><td>55.0              </td><td>87.0              </td></tr>\n",
       "<tr><td>4      </td><td>60-64</td><td>No       </td><td>1067.0            </td><td>117.0             </td><td>109.0             </td></tr>\n",
       "<tr><td>5      </td><td>65-69</td><td>No       </td><td>897.0             </td><td>170.0             </td><td>189.0             </td></tr>\n",
       "<tr><td>6      </td><td>70-74</td><td>No       </td><td>668.0             </td><td>179.0             </td><td>267.0             </td></tr>\n",
       "<tr><td>7      </td><td>75-79</td><td>No       </td><td>361.0             </td><td>120.0             </td><td>332.0             </td></tr>\n",
       "<tr><td>8      </td><td>80   </td><td>No       </td><td>274.0             </td><td>120.0             </td><td>437.0             </td></tr>\n",
       "<tr><td>9      </td><td>40-44</td><td>CigarPipe</td><td>145.0             </td><td>2.0               </td><td>13.0              </td></tr>\n",
       "</tbody>\n",
       "</table>"
      ]
     },
     "metadata": {},
     "output_type": "display_data"
    }
   ],
   "source": [
    "smoking.summary()"
   ]
  },
  {
   "cell_type": "code",
   "execution_count": 5,
   "metadata": {},
   "outputs": [
    {
     "data": {
      "text/html": [
       "<table>\n",
       "<thead>\n",
       "<tr><th>C1   </th><th>C2       </th><th style=\"text-align: right;\">  C3</th><th style=\"text-align: right;\">  C4</th><th style=\"text-align: right;\">  C5</th></tr>\n",
       "</thead>\n",
       "<tbody>\n",
       "<tr><td>40-44</td><td>No       </td><td style=\"text-align: right;\"> 656</td><td style=\"text-align: right;\">  18</td><td style=\"text-align: right;\">  27</td></tr>\n",
       "<tr><td>45-59</td><td>No       </td><td style=\"text-align: right;\"> 359</td><td style=\"text-align: right;\">  22</td><td style=\"text-align: right;\">  61</td></tr>\n",
       "<tr><td>50-54</td><td>No       </td><td style=\"text-align: right;\"> 249</td><td style=\"text-align: right;\">  19</td><td style=\"text-align: right;\">  76</td></tr>\n",
       "<tr><td>55-59</td><td>No       </td><td style=\"text-align: right;\"> 632</td><td style=\"text-align: right;\">  55</td><td style=\"text-align: right;\">  87</td></tr>\n",
       "<tr><td>60-64</td><td>No       </td><td style=\"text-align: right;\">1067</td><td style=\"text-align: right;\"> 117</td><td style=\"text-align: right;\"> 109</td></tr>\n",
       "<tr><td>65-69</td><td>No       </td><td style=\"text-align: right;\"> 897</td><td style=\"text-align: right;\"> 170</td><td style=\"text-align: right;\"> 189</td></tr>\n",
       "<tr><td>70-74</td><td>No       </td><td style=\"text-align: right;\"> 668</td><td style=\"text-align: right;\"> 179</td><td style=\"text-align: right;\"> 267</td></tr>\n",
       "<tr><td>75-79</td><td>No       </td><td style=\"text-align: right;\"> 361</td><td style=\"text-align: right;\"> 120</td><td style=\"text-align: right;\"> 332</td></tr>\n",
       "<tr><td>80   </td><td>No       </td><td style=\"text-align: right;\"> 274</td><td style=\"text-align: right;\"> 120</td><td style=\"text-align: right;\"> 437</td></tr>\n",
       "<tr><td>40-44</td><td>CigarPipe</td><td style=\"text-align: right;\"> 145</td><td style=\"text-align: right;\">   2</td><td style=\"text-align: right;\">  13</td></tr>\n",
       "</tbody>\n",
       "</table>"
      ]
     },
     "metadata": {},
     "output_type": "display_data"
    },
    {
     "data": {
      "text/plain": []
     },
     "execution_count": 5,
     "metadata": {},
     "output_type": "execute_result"
    }
   ],
   "source": [
    "smoking.head(10)"
   ]
  },
  {
   "cell_type": "code",
   "execution_count": 6,
   "metadata": {},
   "outputs": [
    {
     "data": {
      "text/plain": [
       "56132.00000000001"
      ]
     },
     "execution_count": 6,
     "metadata": {},
     "output_type": "execute_result"
    }
   ],
   "source": [
    "smoking[:,\"C3\"].sum()"
   ]
  },
  {
   "cell_type": "code",
   "execution_count": 7,
   "metadata": {},
   "outputs": [],
   "source": [
    "from h2o.estimators.glm import H2OGeneralizedLinearEstimator "
   ]
  },
  {
   "cell_type": "code",
   "execution_count": 8,
   "metadata": {},
   "outputs": [
    {
     "name": "stdout",
     "output_type": "stream",
     "text": [
      "<class 'h2o.frame.H2OFrame'>\n"
     ]
    },
    {
     "data": {
      "text/html": [
       "<table>\n",
       "<thead>\n",
       "<tr><th>C1   </th><th>C2       </th></tr>\n",
       "</thead>\n",
       "<tbody>\n",
       "<tr><td>40-44</td><td>No       </td></tr>\n",
       "<tr><td>45-59</td><td>No       </td></tr>\n",
       "<tr><td>50-54</td><td>No       </td></tr>\n",
       "<tr><td>55-59</td><td>No       </td></tr>\n",
       "<tr><td>60-64</td><td>No       </td></tr>\n",
       "<tr><td>65-69</td><td>No       </td></tr>\n",
       "<tr><td>70-74</td><td>No       </td></tr>\n",
       "<tr><td>75-79</td><td>No       </td></tr>\n",
       "<tr><td>80   </td><td>No       </td></tr>\n",
       "<tr><td>40-44</td><td>CigarPipe</td></tr>\n",
       "</tbody>\n",
       "</table>"
      ]
     },
     "metadata": {},
     "output_type": "display_data"
    },
    {
     "name": "stdout",
     "output_type": "stream",
     "text": [
      "\n"
     ]
    },
    {
     "data": {
      "text/html": [
       "<table>\n",
       "<thead>\n",
       "<tr><th style=\"text-align: right;\">  C4</th></tr>\n",
       "</thead>\n",
       "<tbody>\n",
       "<tr><td style=\"text-align: right;\">  18</td></tr>\n",
       "<tr><td style=\"text-align: right;\">  22</td></tr>\n",
       "<tr><td style=\"text-align: right;\">  19</td></tr>\n",
       "<tr><td style=\"text-align: right;\">  55</td></tr>\n",
       "<tr><td style=\"text-align: right;\"> 117</td></tr>\n",
       "<tr><td style=\"text-align: right;\"> 170</td></tr>\n",
       "<tr><td style=\"text-align: right;\"> 179</td></tr>\n",
       "<tr><td style=\"text-align: right;\"> 120</td></tr>\n",
       "<tr><td style=\"text-align: right;\"> 120</td></tr>\n",
       "<tr><td style=\"text-align: right;\">   2</td></tr>\n",
       "</tbody>\n",
       "</table>"
      ]
     },
     "metadata": {},
     "output_type": "display_data"
    },
    {
     "name": "stdout",
     "output_type": "stream",
     "text": [
      "\n"
     ]
    }
   ],
   "source": [
    "x1 = smoking[[\"C1\",\"C2\"]]\n",
    "y1 = smoking[\"C4\"]\n",
    "print(type(y1))\n",
    "print(x1)\n",
    "print(y1)"
   ]
  },
  {
   "cell_type": "code",
   "execution_count": 9,
   "metadata": {},
   "outputs": [
    {
     "name": "stdout",
     "output_type": "stream",
     "text": [
      "glm Model Build progress: |███████████████████████████████████████████████| 100%\n"
     ]
    }
   ],
   "source": [
    "m = H2OGeneralizedLinearEstimator(\n",
    "        family = \"poisson\",\n",
    "        model_id = \"smoking_p\")\n",
    "m.train([\"C1\",\"C2\"],\"C4\",smoking)"
   ]
  },
  {
   "cell_type": "code",
   "execution_count": 10,
   "metadata": {},
   "outputs": [
    {
     "name": "stdout",
     "output_type": "stream",
     "text": [
      "\n",
      "ModelMetricsRegressionGLM: glm\n",
      "** Reported on test data. **\n",
      "\n",
      "MSE: 13936.126377185583\n",
      "RMSE: 118.05137177172311\n",
      "MAE: 98.18145439478798\n",
      "RMSLE: 1.0864511531060328\n",
      "R^2: 0.7921282969225727\n",
      "Mean Residual Deviance: 58.144304460795134\n",
      "Null degrees of freedom: 35\n",
      "Residual degrees of freedom: 23\n",
      "Null deviance: 8434.40760401343\n",
      "Residual deviance: 2093.194960588625\n",
      "AIC: 2359.1965622777843\n"
     ]
    },
    {
     "data": {
      "text/plain": []
     },
     "execution_count": 10,
     "metadata": {},
     "output_type": "execute_result"
    }
   ],
   "source": [
    "m.model_performance(smoking)"
   ]
  },
  {
   "cell_type": "code",
   "execution_count": 11,
   "metadata": {},
   "outputs": [
    {
     "data": {
      "text/plain": [
       "{'Intercept': 5.318534120063202,\n",
       " 'C1.40-44': -0.49324165698634204,\n",
       " 'C1.45-59': -0.4386218437795293,\n",
       " 'C1.50-54': -0.355964281610909,\n",
       " 'C1.55-59': 0.059544531461504846,\n",
       " 'C1.60-64': 0.6090570560266286,\n",
       " 'C1.65-69': 0.5682437338050903,\n",
       " 'C1.70-74': 0.2570298394709667,\n",
       " 'C1.75-79': 0.0,\n",
       " 'C1.80': -0.1142044558790758,\n",
       " 'C2.CigCigarPipe': 0.6475720792489206,\n",
       " 'C2.CigarPipe': -0.4278781220050689,\n",
       " 'C2.Cigonly': 0.3670979184577057,\n",
       " 'C2.No': -0.5867918757015573}"
      ]
     },
     "execution_count": 11,
     "metadata": {},
     "output_type": "execute_result"
    }
   ],
   "source": [
    "m.coef()"
   ]
  },
  {
   "cell_type": "code",
   "execution_count": 12,
   "metadata": {},
   "outputs": [
    {
     "name": "stdout",
     "output_type": "stream",
     "text": [
      "glm Model Build progress: |███████████████████████████████████████████████| 100%\n"
     ]
    }
   ],
   "source": [
    "m2 = H2OGeneralizedLinearEstimator(\n",
    "        family = \"poisson\",\n",
    "        model_id = \"smoking_p2\")\n",
    "m2.train(\"C2\",\"C4\",smoking)"
   ]
  },
  {
   "cell_type": "code",
   "execution_count": 13,
   "metadata": {},
   "outputs": [
    {
     "name": "stdout",
     "output_type": "stream",
     "text": [
      "\n",
      "ModelMetricsRegressionGLM: glm\n",
      "** Reported on test data. **\n",
      "\n",
      "MSE: 43857.32238540292\n",
      "RMSE: 209.42139906275796\n",
      "MAE: 162.41779312312684\n",
      "RMSLE: 1.329863319713733\n",
      "R^2: 0.34582278820360357\n",
      "Mean Residual Deviance: 139.92897427060498\n",
      "Null degrees of freedom: 35\n",
      "Residual degrees of freedom: 31\n",
      "Null deviance: 8434.40760401343\n",
      "Residual deviance: 5037.44307374178\n",
      "AIC: 5287.444675430943\n"
     ]
    },
    {
     "data": {
      "text/plain": []
     },
     "execution_count": 13,
     "metadata": {},
     "output_type": "execute_result"
    }
   ],
   "source": [
    "m2.model_performance(smoking)"
   ]
  },
  {
   "cell_type": "code",
   "execution_count": 14,
   "metadata": {},
   "outputs": [
    {
     "data": {
      "text/plain": [
       "{'Intercept': 5.40419025656096,\n",
       " 'C2.CigCigarPipe': 0.6476224362914103,\n",
       " 'C2.CigarPipe': -0.4278306720728011,\n",
       " 'C2.Cigonly': 0.36714852251659025,\n",
       " 'C2.No': -0.5867431364085149}"
      ]
     },
     "execution_count": 14,
     "metadata": {},
     "output_type": "execute_result"
    }
   ],
   "source": [
    "m2.coef()"
   ]
  },
  {
   "cell_type": "code",
   "execution_count": null,
   "metadata": {},
   "outputs": [],
   "source": []
  }
 ],
 "metadata": {
  "kernelspec": {
   "display_name": "Python 3",
   "language": "python",
   "name": "python3"
  },
  "language_info": {
   "codemirror_mode": {
    "name": "ipython",
    "version": 3
   },
   "file_extension": ".py",
   "mimetype": "text/x-python",
   "name": "python",
   "nbconvert_exporter": "python",
   "pygments_lexer": "ipython3",
   "version": "3.6.5"
  }
 },
 "nbformat": 4,
 "nbformat_minor": 2
}
