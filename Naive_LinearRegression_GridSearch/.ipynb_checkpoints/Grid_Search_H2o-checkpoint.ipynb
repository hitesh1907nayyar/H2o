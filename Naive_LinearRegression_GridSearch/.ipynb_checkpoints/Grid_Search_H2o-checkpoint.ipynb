{
 "cells": [
  {
   "cell_type": "code",
   "execution_count": 1,
   "metadata": {},
   "outputs": [],
   "source": [
    "import h2o\n",
    "import h2o.grid\n",
    "import pandas as pd"
   ]
  },
  {
   "cell_type": "code",
   "execution_count": 2,
   "metadata": {},
   "outputs": [
    {
     "name": "stdout",
     "output_type": "stream",
     "text": [
      "Checking whether there is an H2O instance running at http://localhost:54321..... not found.\n",
      "Attempting to start a local H2O server...\n",
      "; Java HotSpot(TM) Client VM (build 25.171-b11, mixed mode)\n"
     ]
    },
    {
     "name": "stderr",
     "output_type": "stream",
     "text": [
      "c:\\users\\hitesh_n\\appdata\\local\\programs\\python\\python36-32\\lib\\site-packages\\h2o\\backend\\server.py:331: UserWarning:   You have a 32-bit version of Java. H2O works best with 64-bit Java.\n",
      "  Please download the latest 64-bit Java SE JDK from Oracle.\n",
      "\n",
      "  warn(\"  You have a 32-bit version of Java. H2O works best with 64-bit Java.\\n\"\n"
     ]
    },
    {
     "name": "stdout",
     "output_type": "stream",
     "text": [
      "  Starting server from c:\\users\\hitesh_n\\appdata\\local\\programs\\python\\python36-32\\lib\\site-packages\\h2o\\backend\\bin\\h2o.jar\n",
      "  Ice root: C:\\Users\\hitesh_n\\AppData\\Local\\Temp\\tmp15yg6d2v\n",
      "  JVM stdout: C:\\Users\\hitesh_n\\AppData\\Local\\Temp\\tmp15yg6d2v\\h2o_hitesh_n_started_from_python.out\n",
      "  JVM stderr: C:\\Users\\hitesh_n\\AppData\\Local\\Temp\\tmp15yg6d2v\\h2o_hitesh_n_started_from_python.err\n",
      "  Server is running at http://127.0.0.1:54323\n",
      "Connecting to H2O server at http://127.0.0.1:54323... successful.\n"
     ]
    },
    {
     "data": {
      "text/html": [
       "<div style=\"overflow:auto\"><table style=\"width:50%\"><tr><td>H2O cluster uptime:</td>\n",
       "<td>03 secs</td></tr>\n",
       "<tr><td>H2O cluster timezone:</td>\n",
       "<td>Asia/Kolkata</td></tr>\n",
       "<tr><td>H2O data parsing timezone:</td>\n",
       "<td>UTC</td></tr>\n",
       "<tr><td>H2O cluster version:</td>\n",
       "<td>3.20.0.4</td></tr>\n",
       "<tr><td>H2O cluster version age:</td>\n",
       "<td>6 days </td></tr>\n",
       "<tr><td>H2O cluster name:</td>\n",
       "<td>H2O_from_python_hitesh_n_6t5aze</td></tr>\n",
       "<tr><td>H2O cluster total nodes:</td>\n",
       "<td>1</td></tr>\n",
       "<tr><td>H2O cluster free memory:</td>\n",
       "<td>247.5 Mb</td></tr>\n",
       "<tr><td>H2O cluster total cores:</td>\n",
       "<td>0</td></tr>\n",
       "<tr><td>H2O cluster allowed cores:</td>\n",
       "<td>0</td></tr>\n",
       "<tr><td>H2O cluster status:</td>\n",
       "<td>accepting new members, healthy</td></tr>\n",
       "<tr><td>H2O connection url:</td>\n",
       "<td>http://127.0.0.1:54323</td></tr>\n",
       "<tr><td>H2O connection proxy:</td>\n",
       "<td>None</td></tr>\n",
       "<tr><td>H2O internal security:</td>\n",
       "<td>False</td></tr>\n",
       "<tr><td>H2O API Extensions:</td>\n",
       "<td>Algos, AutoML, Core V3, Core V4</td></tr>\n",
       "<tr><td>Python version:</td>\n",
       "<td>3.6.5 final</td></tr></table></div>"
      ],
      "text/plain": [
       "--------------------------  -------------------------------\n",
       "H2O cluster uptime:         03 secs\n",
       "H2O cluster timezone:       Asia/Kolkata\n",
       "H2O data parsing timezone:  UTC\n",
       "H2O cluster version:        3.20.0.4\n",
       "H2O cluster version age:    6 days\n",
       "H2O cluster name:           H2O_from_python_hitesh_n_6t5aze\n",
       "H2O cluster total nodes:    1\n",
       "H2O cluster free memory:    247.5 Mb\n",
       "H2O cluster total cores:    0\n",
       "H2O cluster allowed cores:  0\n",
       "H2O cluster status:         accepting new members, healthy\n",
       "H2O connection url:         http://127.0.0.1:54323\n",
       "H2O connection proxy:\n",
       "H2O internal security:      False\n",
       "H2O API Extensions:         Algos, AutoML, Core V3, Core V4\n",
       "Python version:             3.6.5 final\n",
       "--------------------------  -------------------------------"
      ]
     },
     "metadata": {},
     "output_type": "display_data"
    }
   ],
   "source": [
    "h2o.init()"
   ]
  },
  {
   "cell_type": "code",
   "execution_count": 3,
   "metadata": {},
   "outputs": [
    {
     "name": "stdout",
     "output_type": "stream",
     "text": [
      "Parse progress: |█████████████████████████████████████████████████████████| 100%\n"
     ]
    },
    {
     "data": {
      "text/plain": [
       "h2o.frame.H2OFrame"
      ]
     },
     "execution_count": 3,
     "metadata": {},
     "output_type": "execute_result"
    }
   ],
   "source": [
    "url = \"https://h2o-public-test-data.s3.amazonaws.com/smalldata/airlines/allyears2k_headers.zip\"\n",
    "data = h2o.import_file(url)\n",
    "type(data)"
   ]
  },
  {
   "cell_type": "code",
   "execution_count": 4,
   "metadata": {},
   "outputs": [
    {
     "data": {
      "text/html": [
       "<table>\n",
       "<thead>\n",
       "<tr><th style=\"text-align: right;\">  Year</th><th style=\"text-align: right;\">  Month</th><th style=\"text-align: right;\">  DayofMonth</th><th style=\"text-align: right;\">  DayOfWeek</th><th style=\"text-align: right;\">  DepTime</th><th style=\"text-align: right;\">  CRSDepTime</th><th style=\"text-align: right;\">  ArrTime</th><th style=\"text-align: right;\">  CRSArrTime</th><th>UniqueCarrier  </th><th style=\"text-align: right;\">  FlightNum</th><th>TailNum  </th><th style=\"text-align: right;\">  ActualElapsedTime</th><th style=\"text-align: right;\">  CRSElapsedTime</th><th style=\"text-align: right;\">  AirTime</th><th style=\"text-align: right;\">  ArrDelay</th><th style=\"text-align: right;\">  DepDelay</th><th>Origin  </th><th>Dest  </th><th style=\"text-align: right;\">  Distance</th><th style=\"text-align: right;\">  TaxiIn</th><th style=\"text-align: right;\">  TaxiOut</th><th style=\"text-align: right;\">  Cancelled</th><th>CancellationCode  </th><th style=\"text-align: right;\">  Diverted</th><th style=\"text-align: right;\">  CarrierDelay</th><th style=\"text-align: right;\">  WeatherDelay</th><th style=\"text-align: right;\">  NASDelay</th><th style=\"text-align: right;\">  SecurityDelay</th><th style=\"text-align: right;\">  LateAircraftDelay</th><th>IsArrDelayed  </th><th>IsDepDelayed  </th></tr>\n",
       "</thead>\n",
       "<tbody>\n",
       "<tr><td style=\"text-align: right;\">  1987</td><td style=\"text-align: right;\">     10</td><td style=\"text-align: right;\">          14</td><td style=\"text-align: right;\">          3</td><td style=\"text-align: right;\">      741</td><td style=\"text-align: right;\">         730</td><td style=\"text-align: right;\">      912</td><td style=\"text-align: right;\">         849</td><td>PS             </td><td style=\"text-align: right;\">       1451</td><td>NA       </td><td style=\"text-align: right;\">                 91</td><td style=\"text-align: right;\">              79</td><td style=\"text-align: right;\">      nan</td><td style=\"text-align: right;\">        23</td><td style=\"text-align: right;\">        11</td><td>SAN     </td><td>SFO   </td><td style=\"text-align: right;\">       447</td><td style=\"text-align: right;\">     nan</td><td style=\"text-align: right;\">      nan</td><td style=\"text-align: right;\">          0</td><td>NA                </td><td style=\"text-align: right;\">         0</td><td style=\"text-align: right;\">           nan</td><td style=\"text-align: right;\">           nan</td><td style=\"text-align: right;\">       nan</td><td style=\"text-align: right;\">            nan</td><td style=\"text-align: right;\">                nan</td><td>YES           </td><td>YES           </td></tr>\n",
       "<tr><td style=\"text-align: right;\">  1987</td><td style=\"text-align: right;\">     10</td><td style=\"text-align: right;\">          15</td><td style=\"text-align: right;\">          4</td><td style=\"text-align: right;\">      729</td><td style=\"text-align: right;\">         730</td><td style=\"text-align: right;\">      903</td><td style=\"text-align: right;\">         849</td><td>PS             </td><td style=\"text-align: right;\">       1451</td><td>NA       </td><td style=\"text-align: right;\">                 94</td><td style=\"text-align: right;\">              79</td><td style=\"text-align: right;\">      nan</td><td style=\"text-align: right;\">        14</td><td style=\"text-align: right;\">        -1</td><td>SAN     </td><td>SFO   </td><td style=\"text-align: right;\">       447</td><td style=\"text-align: right;\">     nan</td><td style=\"text-align: right;\">      nan</td><td style=\"text-align: right;\">          0</td><td>NA                </td><td style=\"text-align: right;\">         0</td><td style=\"text-align: right;\">           nan</td><td style=\"text-align: right;\">           nan</td><td style=\"text-align: right;\">       nan</td><td style=\"text-align: right;\">            nan</td><td style=\"text-align: right;\">                nan</td><td>YES           </td><td>NO            </td></tr>\n",
       "<tr><td style=\"text-align: right;\">  1987</td><td style=\"text-align: right;\">     10</td><td style=\"text-align: right;\">          17</td><td style=\"text-align: right;\">          6</td><td style=\"text-align: right;\">      741</td><td style=\"text-align: right;\">         730</td><td style=\"text-align: right;\">      918</td><td style=\"text-align: right;\">         849</td><td>PS             </td><td style=\"text-align: right;\">       1451</td><td>NA       </td><td style=\"text-align: right;\">                 97</td><td style=\"text-align: right;\">              79</td><td style=\"text-align: right;\">      nan</td><td style=\"text-align: right;\">        29</td><td style=\"text-align: right;\">        11</td><td>SAN     </td><td>SFO   </td><td style=\"text-align: right;\">       447</td><td style=\"text-align: right;\">     nan</td><td style=\"text-align: right;\">      nan</td><td style=\"text-align: right;\">          0</td><td>NA                </td><td style=\"text-align: right;\">         0</td><td style=\"text-align: right;\">           nan</td><td style=\"text-align: right;\">           nan</td><td style=\"text-align: right;\">       nan</td><td style=\"text-align: right;\">            nan</td><td style=\"text-align: right;\">                nan</td><td>YES           </td><td>YES           </td></tr>\n",
       "<tr><td style=\"text-align: right;\">  1987</td><td style=\"text-align: right;\">     10</td><td style=\"text-align: right;\">          18</td><td style=\"text-align: right;\">          7</td><td style=\"text-align: right;\">      729</td><td style=\"text-align: right;\">         730</td><td style=\"text-align: right;\">      847</td><td style=\"text-align: right;\">         849</td><td>PS             </td><td style=\"text-align: right;\">       1451</td><td>NA       </td><td style=\"text-align: right;\">                 78</td><td style=\"text-align: right;\">              79</td><td style=\"text-align: right;\">      nan</td><td style=\"text-align: right;\">        -2</td><td style=\"text-align: right;\">        -1</td><td>SAN     </td><td>SFO   </td><td style=\"text-align: right;\">       447</td><td style=\"text-align: right;\">     nan</td><td style=\"text-align: right;\">      nan</td><td style=\"text-align: right;\">          0</td><td>NA                </td><td style=\"text-align: right;\">         0</td><td style=\"text-align: right;\">           nan</td><td style=\"text-align: right;\">           nan</td><td style=\"text-align: right;\">       nan</td><td style=\"text-align: right;\">            nan</td><td style=\"text-align: right;\">                nan</td><td>NO            </td><td>NO            </td></tr>\n",
       "<tr><td style=\"text-align: right;\">  1987</td><td style=\"text-align: right;\">     10</td><td style=\"text-align: right;\">          19</td><td style=\"text-align: right;\">          1</td><td style=\"text-align: right;\">      749</td><td style=\"text-align: right;\">         730</td><td style=\"text-align: right;\">      922</td><td style=\"text-align: right;\">         849</td><td>PS             </td><td style=\"text-align: right;\">       1451</td><td>NA       </td><td style=\"text-align: right;\">                 93</td><td style=\"text-align: right;\">              79</td><td style=\"text-align: right;\">      nan</td><td style=\"text-align: right;\">        33</td><td style=\"text-align: right;\">        19</td><td>SAN     </td><td>SFO   </td><td style=\"text-align: right;\">       447</td><td style=\"text-align: right;\">     nan</td><td style=\"text-align: right;\">      nan</td><td style=\"text-align: right;\">          0</td><td>NA                </td><td style=\"text-align: right;\">         0</td><td style=\"text-align: right;\">           nan</td><td style=\"text-align: right;\">           nan</td><td style=\"text-align: right;\">       nan</td><td style=\"text-align: right;\">            nan</td><td style=\"text-align: right;\">                nan</td><td>YES           </td><td>YES           </td></tr>\n",
       "</tbody>\n",
       "</table>"
      ]
     },
     "metadata": {},
     "output_type": "display_data"
    },
    {
     "data": {
      "text/plain": []
     },
     "execution_count": 4,
     "metadata": {},
     "output_type": "execute_result"
    }
   ],
   "source": [
    "data.head(5)"
   ]
  },
  {
   "cell_type": "code",
   "execution_count": 5,
   "metadata": {},
   "outputs": [],
   "source": [
    "train,valid,test = data.split_frame([0.8,.1],seed = 69)"
   ]
  },
  {
   "cell_type": "code",
   "execution_count": 6,
   "metadata": {},
   "outputs": [
    {
     "name": "stdout",
     "output_type": "stream",
     "text": [
      "['Year', 'Month', 'DayofMonth', 'DayOfWeek', 'DepTime', 'CRSDepTime', 'ArrTime', 'CRSArrTime', 'UniqueCarrier', 'FlightNum', 'TailNum', 'ActualElapsedTime', 'CRSElapsedTime', 'AirTime', 'ArrDelay', 'DepDelay', 'Origin', 'Dest', 'Distance', 'TaxiIn', 'TaxiOut', 'Cancelled', 'CancellationCode', 'Diverted', 'CarrierDelay', 'WeatherDelay', 'NASDelay', 'SecurityDelay', 'LateAircraftDelay', 'IsArrDelayed', 'IsDepDelayed']\n"
     ]
    }
   ],
   "source": [
    "print(train.names)"
   ]
  },
  {
   "cell_type": "code",
   "execution_count": 7,
   "metadata": {},
   "outputs": [
    {
     "name": "stdout",
     "output_type": "stream",
     "text": [
      "35255/4272/4451\n"
     ]
    }
   ],
   "source": [
    "print(\"%d/%d/%d\"  % (train.nrows,valid.nrows,test.nrows))"
   ]
  },
  {
   "cell_type": "code",
   "execution_count": 9,
   "metadata": {},
   "outputs": [
    {
     "name": "stdout",
     "output_type": "stream",
     "text": [
      "['Year', 'Month', 'DayofMonth', 'DayOfWeek', 'DepTime', 'CRSDepTime', 'ArrTime', 'CRSArrTime', 'UniqueCarrier', 'FlightNum', 'TailNum', 'CRSElapsedTime', 'AirTime', 'Origin', 'Dest', 'Distance', 'TaxiIn', 'TaxiOut', 'Cancelled', 'CancellationCode', 'Diverted', 'LateAircraftDelay']\n"
     ]
    }
   ],
   "source": [
    "y =  'IsArrDelayed'\n",
    "ignorefileds = ['ArrDelay','DepDelay','CarrierDelay','WeatherDelay','NASDelay', 'SecurityDelay','SecurityDelay','IsArrDelayed',\n",
    "                'IsDepDelayed','ActualElapsedTime']\n",
    "xAll = []\n",
    "\n",
    "\n",
    "for i in train.names:\n",
    "    if i not in ignorefileds:\n",
    "        xAll.append(i)\n",
    "print(xAll)\n",
    "#type(xAll)"
   ]
  },
  {
   "cell_type": "code",
   "execution_count": 10,
   "metadata": {},
   "outputs": [],
   "source": [
    "from h2o.estimators.glm import H2OGeneralizedLinearEstimator "
   ]
  },
  {
   "cell_type": "code",
   "execution_count": 11,
   "metadata": {},
   "outputs": [
    {
     "name": "stdout",
     "output_type": "stream",
     "text": [
      "glm Model Build progress: |███████████████████████████████████████████████| 100%\n"
     ]
    }
   ],
   "source": [
    "m_def = H2OGeneralizedLinearEstimator(\n",
    "            family = \"binomial\")\n",
    "m_def.train(xAll,y,train,\n",
    "           validation_frame = valid)"
   ]
  },
  {
   "cell_type": "code",
   "execution_count": 12,
   "metadata": {},
   "outputs": [
    {
     "name": "stdout",
     "output_type": "stream",
     "text": [
      "Model Details\n",
      "=============\n",
      "H2OGeneralizedLinearEstimator :  Generalized Linear Modeling\n",
      "Model Key:  GLM_model_python_1533624537506_1\n",
      "\n",
      "\n",
      "ModelMetricsBinomialGLM: glm\n",
      "** Reported on train data. **\n",
      "\n",
      "MSE: 0.2121383903469817\n",
      "RMSE: 0.46058483512484616\n",
      "LogLoss: 0.6083885827338443\n",
      "Null degrees of freedom: 35254\n",
      "Residual degrees of freedom: 35240\n",
      "Null deviance: 48430.99057926656\n",
      "Residual deviance: 42897.478968563366\n",
      "AIC: 42927.478968563366\n",
      "AUC: 0.719978576758628\n",
      "Gini: 0.43995715351725595\n",
      "Confusion Matrix (Act/Pred) for max f1 @ threshold = 0.4227772487520759: \n"
     ]
    },
    {
     "data": {
      "text/html": [
       "<div style=\"overflow:auto\"><table style=\"width:50%\"><tr><td><b></b></td>\n",
       "<td><b>NO</b></td>\n",
       "<td><b>YES</b></td>\n",
       "<td><b>Error</b></td>\n",
       "<td><b>Rate</b></td></tr>\n",
       "<tr><td>NO</td>\n",
       "<td>4109.0</td>\n",
       "<td>11545.0</td>\n",
       "<td>0.7375</td>\n",
       "<td> (11545.0/15654.0)</td></tr>\n",
       "<tr><td>YES</td>\n",
       "<td>1524.0</td>\n",
       "<td>18077.0</td>\n",
       "<td>0.0778</td>\n",
       "<td> (1524.0/19601.0)</td></tr>\n",
       "<tr><td>Total</td>\n",
       "<td>5633.0</td>\n",
       "<td>29622.0</td>\n",
       "<td>0.3707</td>\n",
       "<td> (13069.0/35255.0)</td></tr></table></div>"
      ],
      "text/plain": [
       "       NO    YES    Error    Rate\n",
       "-----  ----  -----  -------  -----------------\n",
       "NO     4109  11545  0.7375   (11545.0/15654.0)\n",
       "YES    1524  18077  0.0778   (1524.0/19601.0)\n",
       "Total  5633  29622  0.3707   (13069.0/35255.0)"
      ]
     },
     "metadata": {},
     "output_type": "display_data"
    },
    {
     "name": "stdout",
     "output_type": "stream",
     "text": [
      "Maximum Metrics: Maximum metrics at their respective thresholds\n",
      "\n"
     ]
    },
    {
     "data": {
      "text/html": [
       "<div style=\"overflow:auto\"><table style=\"width:50%\"><tr><td><b>metric</b></td>\n",
       "<td><b>threshold</b></td>\n",
       "<td><b>value</b></td>\n",
       "<td><b>idx</b></td></tr>\n",
       "<tr><td>max f1</td>\n",
       "<td>0.4227772</td>\n",
       "<td>0.7344940</td>\n",
       "<td>316.0</td></tr>\n",
       "<tr><td>max f2</td>\n",
       "<td>0.3209050</td>\n",
       "<td>0.8634815</td>\n",
       "<td>367.0</td></tr>\n",
       "<tr><td>max f0point5</td>\n",
       "<td>0.5473595</td>\n",
       "<td>0.6899140</td>\n",
       "<td>218.0</td></tr>\n",
       "<tr><td>max accuracy</td>\n",
       "<td>0.5180507</td>\n",
       "<td>0.6538931</td>\n",
       "<td>244.0</td></tr>\n",
       "<tr><td>max precision</td>\n",
       "<td>0.9987505</td>\n",
       "<td>1.0</td>\n",
       "<td>0.0</td></tr>\n",
       "<tr><td>max recall</td>\n",
       "<td>0.2295640</td>\n",
       "<td>1.0</td>\n",
       "<td>396.0</td></tr>\n",
       "<tr><td>max specificity</td>\n",
       "<td>0.9987505</td>\n",
       "<td>1.0</td>\n",
       "<td>0.0</td></tr>\n",
       "<tr><td>max absolute_mcc</td>\n",
       "<td>0.6006415</td>\n",
       "<td>0.3080625</td>\n",
       "<td>175.0</td></tr>\n",
       "<tr><td>max min_per_class_accuracy</td>\n",
       "<td>0.5328391</td>\n",
       "<td>0.6485882</td>\n",
       "<td>230.0</td></tr>\n",
       "<tr><td>max mean_per_class_accuracy</td>\n",
       "<td>0.5473595</td>\n",
       "<td>0.6515624</td>\n",
       "<td>218.0</td></tr></table></div>"
      ],
      "text/plain": [
       "metric                       threshold    value     idx\n",
       "---------------------------  -----------  --------  -----\n",
       "max f1                       0.422777     0.734494  316\n",
       "max f2                       0.320905     0.863482  367\n",
       "max f0point5                 0.547359     0.689914  218\n",
       "max accuracy                 0.518051     0.653893  244\n",
       "max precision                0.99875      1         0\n",
       "max recall                   0.229564     1         396\n",
       "max specificity              0.99875      1         0\n",
       "max absolute_mcc             0.600641     0.308062  175\n",
       "max min_per_class_accuracy   0.532839     0.648588  230\n",
       "max mean_per_class_accuracy  0.547359     0.651562  218"
      ]
     },
     "metadata": {},
     "output_type": "display_data"
    },
    {
     "name": "stdout",
     "output_type": "stream",
     "text": [
      "Gains/Lift Table: Avg response rate: 55.60 %, avg score: 55.60 %\n",
      "\n"
     ]
    },
    {
     "data": {
      "text/html": [
       "<div style=\"overflow:auto\"><table style=\"width:50%\"><tr><td><b></b></td>\n",
       "<td><b>group</b></td>\n",
       "<td><b>cumulative_data_fraction</b></td>\n",
       "<td><b>lower_threshold</b></td>\n",
       "<td><b>lift</b></td>\n",
       "<td><b>cumulative_lift</b></td>\n",
       "<td><b>response_rate</b></td>\n",
       "<td><b>score</b></td>\n",
       "<td><b>cumulative_response_rate</b></td>\n",
       "<td><b>cumulative_score</b></td>\n",
       "<td><b>capture_rate</b></td>\n",
       "<td><b>cumulative_capture_rate</b></td>\n",
       "<td><b>gain</b></td>\n",
       "<td><b>cumulative_gain</b></td></tr>\n",
       "<tr><td></td>\n",
       "<td>1</td>\n",
       "<td>0.0100128</td>\n",
       "<td>0.9743633</td>\n",
       "<td>1.7986327</td>\n",
       "<td>1.7986327</td>\n",
       "<td>1.0</td>\n",
       "<td>0.9835677</td>\n",
       "<td>1.0</td>\n",
       "<td>0.9835677</td>\n",
       "<td>0.0180093</td>\n",
       "<td>0.0180093</td>\n",
       "<td>79.8632723</td>\n",
       "<td>79.8632723</td></tr>\n",
       "<tr><td></td>\n",
       "<td>2</td>\n",
       "<td>0.0200255</td>\n",
       "<td>0.9461618</td>\n",
       "<td>1.7986327</td>\n",
       "<td>1.7986327</td>\n",
       "<td>1.0</td>\n",
       "<td>0.9660586</td>\n",
       "<td>1.0</td>\n",
       "<td>0.9748131</td>\n",
       "<td>0.0180093</td>\n",
       "<td>0.0360186</td>\n",
       "<td>79.8632723</td>\n",
       "<td>79.8632723</td></tr>\n",
       "<tr><td></td>\n",
       "<td>3</td>\n",
       "<td>0.0300099</td>\n",
       "<td>0.9065865</td>\n",
       "<td>1.7781937</td>\n",
       "<td>1.7918326</td>\n",
       "<td>0.9886364</td>\n",
       "<td>0.9213136</td>\n",
       "<td>0.9962193</td>\n",
       "<td>0.9570137</td>\n",
       "<td>0.0177542</td>\n",
       "<td>0.0537728</td>\n",
       "<td>77.8193715</td>\n",
       "<td>79.1832599</td></tr>\n",
       "<tr><td></td>\n",
       "<td>4</td>\n",
       "<td>0.0400227</td>\n",
       "<td>0.8781946</td>\n",
       "<td>1.7629658</td>\n",
       "<td>1.7846108</td>\n",
       "<td>0.9801700</td>\n",
       "<td>0.8912088</td>\n",
       "<td>0.9922041</td>\n",
       "<td>0.9405508</td>\n",
       "<td>0.0176522</td>\n",
       "<td>0.0714249</td>\n",
       "<td>76.2965785</td>\n",
       "<td>78.4610781</td></tr>\n",
       "<tr><td></td>\n",
       "<td>5</td>\n",
       "<td>0.0500071</td>\n",
       "<td>0.8583301</td>\n",
       "<td>1.6964377</td>\n",
       "<td>1.7670062</td>\n",
       "<td>0.9431818</td>\n",
       "<td>0.8678190</td>\n",
       "<td>0.9824163</td>\n",
       "<td>0.9260292</td>\n",
       "<td>0.0169379</td>\n",
       "<td>0.0883628</td>\n",
       "<td>69.6437682</td>\n",
       "<td>76.7006169</td></tr>\n",
       "<tr><td></td>\n",
       "<td>6</td>\n",
       "<td>0.1000142</td>\n",
       "<td>0.7828597</td>\n",
       "<td>1.6058128</td>\n",
       "<td>1.6864095</td>\n",
       "<td>0.8927964</td>\n",
       "<td>0.8217429</td>\n",
       "<td>0.9376064</td>\n",
       "<td>0.8738860</td>\n",
       "<td>0.0803020</td>\n",
       "<td>0.1686649</td>\n",
       "<td>60.5812766</td>\n",
       "<td>68.6409467</td></tr>\n",
       "<tr><td></td>\n",
       "<td>7</td>\n",
       "<td>0.1500213</td>\n",
       "<td>0.6863386</td>\n",
       "<td>1.4752257</td>\n",
       "<td>1.6160149</td>\n",
       "<td>0.8201929</td>\n",
       "<td>0.7343595</td>\n",
       "<td>0.8984685</td>\n",
       "<td>0.8273772</td>\n",
       "<td>0.0737717</td>\n",
       "<td>0.2424366</td>\n",
       "<td>47.5225705</td>\n",
       "<td>61.6014880</td></tr>\n",
       "<tr><td></td>\n",
       "<td>8</td>\n",
       "<td>0.2</td>\n",
       "<td>0.6418027</td>\n",
       "<td>1.2841544</td>\n",
       "<td>1.5330850</td>\n",
       "<td>0.7139614</td>\n",
       "<td>0.6608845</td>\n",
       "<td>0.8523614</td>\n",
       "<td>0.7857717</td>\n",
       "<td>0.0641804</td>\n",
       "<td>0.3066170</td>\n",
       "<td>28.4154350</td>\n",
       "<td>53.3085047</td></tr>\n",
       "<tr><td></td>\n",
       "<td>9</td>\n",
       "<td>0.3000142</td>\n",
       "<td>0.5971105</td>\n",
       "<td>1.1895665</td>\n",
       "<td>1.4185680</td>\n",
       "<td>0.6613727</td>\n",
       "<td>0.6172018</td>\n",
       "<td>0.7886924</td>\n",
       "<td>0.7295764</td>\n",
       "<td>0.1189735</td>\n",
       "<td>0.4255905</td>\n",
       "<td>18.9566509</td>\n",
       "<td>41.8568041</td></tr>\n",
       "<tr><td></td>\n",
       "<td>10</td>\n",
       "<td>0.4</td>\n",
       "<td>0.5646087</td>\n",
       "<td>1.0745874</td>\n",
       "<td>1.3325851</td>\n",
       "<td>0.5974468</td>\n",
       "<td>0.5802827</td>\n",
       "<td>0.7408878</td>\n",
       "<td>0.6922583</td>\n",
       "<td>0.1074435</td>\n",
       "<td>0.5330340</td>\n",
       "<td>7.4587380</td>\n",
       "<td>33.2585072</td></tr>\n",
       "<tr><td></td>\n",
       "<td>11</td>\n",
       "<td>0.5000142</td>\n",
       "<td>0.5371779</td>\n",
       "<td>1.0033779</td>\n",
       "<td>1.2667362</td>\n",
       "<td>0.5578559</td>\n",
       "<td>0.5508330</td>\n",
       "<td>0.7042773</td>\n",
       "<td>0.6639700</td>\n",
       "<td>0.1003520</td>\n",
       "<td>0.6333861</td>\n",
       "<td>0.3377926</td>\n",
       "<td>26.6736173</td></tr>\n",
       "<tr><td></td>\n",
       "<td>12</td>\n",
       "<td>0.6</td>\n",
       "<td>0.5084850</td>\n",
       "<td>0.9414120</td>\n",
       "<td>1.2125232</td>\n",
       "<td>0.5234043</td>\n",
       "<td>0.5231028</td>\n",
       "<td>0.6741361</td>\n",
       "<td>0.6404955</td>\n",
       "<td>0.0941279</td>\n",
       "<td>0.7275139</td>\n",
       "<td>-5.8587979</td>\n",
       "<td>21.2523171</td></tr>\n",
       "<tr><td></td>\n",
       "<td>13</td>\n",
       "<td>0.6999858</td>\n",
       "<td>0.4770445</td>\n",
       "<td>0.8781410</td>\n",
       "<td>1.1647601</td>\n",
       "<td>0.4882270</td>\n",
       "<td>0.4930696</td>\n",
       "<td>0.6475808</td>\n",
       "<td>0.6194372</td>\n",
       "<td>0.0878016</td>\n",
       "<td>0.8153155</td>\n",
       "<td>-12.1859031</td>\n",
       "<td>16.4760092</td></tr>\n",
       "<tr><td></td>\n",
       "<td>14</td>\n",
       "<td>0.8</td>\n",
       "<td>0.4402296</td>\n",
       "<td>0.7881133</td>\n",
       "<td>1.1176726</td>\n",
       "<td>0.4381736</td>\n",
       "<td>0.4590951</td>\n",
       "<td>0.6214012</td>\n",
       "<td>0.5993916</td>\n",
       "<td>0.0788225</td>\n",
       "<td>0.8941381</td>\n",
       "<td>-21.1886683</td>\n",
       "<td>11.7672568</td></tr>\n",
       "<tr><td></td>\n",
       "<td>15</td>\n",
       "<td>0.8999858</td>\n",
       "<td>0.3901371</td>\n",
       "<td>0.6327105</td>\n",
       "<td>1.0637947</td>\n",
       "<td>0.3517730</td>\n",
       "<td>0.4162753</td>\n",
       "<td>0.5914463</td>\n",
       "<td>0.5790479</td>\n",
       "<td>0.0632621</td>\n",
       "<td>0.9574001</td>\n",
       "<td>-36.7289482</td>\n",
       "<td>6.3794689</td></tr>\n",
       "<tr><td></td>\n",
       "<td>16</td>\n",
       "<td>1.0</td>\n",
       "<td>0.2026460</td>\n",
       "<td>0.4259383</td>\n",
       "<td>1.0</td>\n",
       "<td>0.2368123</td>\n",
       "<td>0.3485325</td>\n",
       "<td>0.5559779</td>\n",
       "<td>0.5559931</td>\n",
       "<td>0.0425999</td>\n",
       "<td>1.0</td>\n",
       "<td>-57.4061735</td>\n",
       "<td>0.0</td></tr></table></div>"
      ],
      "text/plain": [
       "    group    cumulative_data_fraction    lower_threshold    lift      cumulative_lift    response_rate    score     cumulative_response_rate    cumulative_score    capture_rate    cumulative_capture_rate    gain      cumulative_gain\n",
       "--  -------  --------------------------  -----------------  --------  -----------------  ---------------  --------  --------------------------  ------------------  --------------  -------------------------  --------  -----------------\n",
       "    1        0.0100128                   0.974363           1.79863   1.79863            1                0.983568  1                           0.983568            0.0180093       0.0180093                  79.8633   79.8633\n",
       "    2        0.0200255                   0.946162           1.79863   1.79863            1                0.966059  1                           0.974813            0.0180093       0.0360186                  79.8633   79.8633\n",
       "    3        0.0300099                   0.906587           1.77819   1.79183            0.988636         0.921314  0.996219                    0.957014            0.0177542       0.0537728                  77.8194   79.1833\n",
       "    4        0.0400227                   0.878195           1.76297   1.78461            0.98017          0.891209  0.992204                    0.940551            0.0176522       0.0714249                  76.2966   78.4611\n",
       "    5        0.0500071                   0.85833            1.69644   1.76701            0.943182         0.867819  0.982416                    0.926029            0.0169379       0.0883628                  69.6438   76.7006\n",
       "    6        0.100014                    0.78286            1.60581   1.68641            0.892796         0.821743  0.937606                    0.873886            0.080302        0.168665                   60.5813   68.6409\n",
       "    7        0.150021                    0.686339           1.47523   1.61601            0.820193         0.73436   0.898469                    0.827377            0.0737717       0.242437                   47.5226   61.6015\n",
       "    8        0.2                         0.641803           1.28415   1.53309            0.713961         0.660884  0.852361                    0.785772            0.0641804       0.306617                   28.4154   53.3085\n",
       "    9        0.300014                    0.59711            1.18957   1.41857            0.661373         0.617202  0.788692                    0.729576            0.118974        0.425591                   18.9567   41.8568\n",
       "    10       0.4                         0.564609           1.07459   1.33259            0.597447         0.580283  0.740888                    0.692258            0.107443        0.533034                   7.45874   33.2585\n",
       "    11       0.500014                    0.537178           1.00338   1.26674            0.557856         0.550833  0.704277                    0.66397             0.100352        0.633386                   0.337793  26.6736\n",
       "    12       0.6                         0.508485           0.941412  1.21252            0.523404         0.523103  0.674136                    0.640495            0.0941279       0.727514                   -5.8588   21.2523\n",
       "    13       0.699986                    0.477044           0.878141  1.16476            0.488227         0.49307   0.647581                    0.619437            0.0878016       0.815316                   -12.1859  16.476\n",
       "    14       0.8                         0.44023            0.788113  1.11767            0.438174         0.459095  0.621401                    0.599392            0.0788225       0.894138                   -21.1887  11.7673\n",
       "    15       0.899986                    0.390137           0.632711  1.06379            0.351773         0.416275  0.591446                    0.579048            0.0632621       0.9574                     -36.7289  6.37947\n",
       "    16       1                           0.202646           0.425938  1                  0.236812         0.348532  0.555978                    0.555993            0.0425999       1                          -57.4062  0"
      ]
     },
     "metadata": {},
     "output_type": "display_data"
    },
    {
     "name": "stdout",
     "output_type": "stream",
     "text": [
      "\n",
      "\n",
      "ModelMetricsBinomialGLM: glm\n",
      "** Reported on validation data. **\n",
      "\n",
      "MSE: 0.21382213680598772\n",
      "RMSE: 0.4624090578762355\n",
      "LogLoss: 0.6120219280478063\n",
      "Null degrees of freedom: 4271\n",
      "Residual degrees of freedom: 4257\n",
      "Null deviance: 5884.842778868466\n",
      "Residual deviance: 5229.115353240457\n",
      "AIC: 5259.115353240457\n",
      "AUC: 0.714029323951344\n",
      "Gini: 0.428058647902688\n",
      "Confusion Matrix (Act/Pred) for max f1 @ threshold = 0.44258369201784503: \n"
     ]
    },
    {
     "data": {
      "text/html": [
       "<div style=\"overflow:auto\"><table style=\"width:50%\"><tr><td><b></b></td>\n",
       "<td><b>NO</b></td>\n",
       "<td><b>YES</b></td>\n",
       "<td><b>Error</b></td>\n",
       "<td><b>Rate</b></td></tr>\n",
       "<tr><td>NO</td>\n",
       "<td>625.0</td>\n",
       "<td>1308.0</td>\n",
       "<td>0.6767</td>\n",
       "<td> (1308.0/1933.0)</td></tr>\n",
       "<tr><td>YES</td>\n",
       "<td>266.0</td>\n",
       "<td>2073.0</td>\n",
       "<td>0.1137</td>\n",
       "<td> (266.0/2339.0)</td></tr>\n",
       "<tr><td>Total</td>\n",
       "<td>891.0</td>\n",
       "<td>3381.0</td>\n",
       "<td>0.3684</td>\n",
       "<td> (1574.0/4272.0)</td></tr></table></div>"
      ],
      "text/plain": [
       "       NO    YES    Error    Rate\n",
       "-----  ----  -----  -------  ---------------\n",
       "NO     625   1308   0.6767   (1308.0/1933.0)\n",
       "YES    266   2073   0.1137   (266.0/2339.0)\n",
       "Total  891   3381   0.3684   (1574.0/4272.0)"
      ]
     },
     "metadata": {},
     "output_type": "display_data"
    },
    {
     "name": "stdout",
     "output_type": "stream",
     "text": [
      "Maximum Metrics: Maximum metrics at their respective thresholds\n",
      "\n"
     ]
    },
    {
     "data": {
      "text/html": [
       "<div style=\"overflow:auto\"><table style=\"width:50%\"><tr><td><b>metric</b></td>\n",
       "<td><b>threshold</b></td>\n",
       "<td><b>value</b></td>\n",
       "<td><b>idx</b></td></tr>\n",
       "<tr><td>max f1</td>\n",
       "<td>0.4425837</td>\n",
       "<td>0.7248252</td>\n",
       "<td>303.0</td></tr>\n",
       "<tr><td>max f2</td>\n",
       "<td>0.3104575</td>\n",
       "<td>0.8597952</td>\n",
       "<td>382.0</td></tr>\n",
       "<tr><td>max f0point5</td>\n",
       "<td>0.5761530</td>\n",
       "<td>0.6845064</td>\n",
       "<td>188.0</td></tr>\n",
       "<tr><td>max accuracy</td>\n",
       "<td>0.5099311</td>\n",
       "<td>0.6498127</td>\n",
       "<td>249.0</td></tr>\n",
       "<tr><td>max precision</td>\n",
       "<td>0.9994758</td>\n",
       "<td>1.0</td>\n",
       "<td>0.0</td></tr>\n",
       "<tr><td>max recall</td>\n",
       "<td>0.2682152</td>\n",
       "<td>1.0</td>\n",
       "<td>393.0</td></tr>\n",
       "<tr><td>max specificity</td>\n",
       "<td>0.9994758</td>\n",
       "<td>1.0</td>\n",
       "<td>0.0</td></tr>\n",
       "<tr><td>max absolute_mcc</td>\n",
       "<td>0.5945062</td>\n",
       "<td>0.3153542</td>\n",
       "<td>173.0</td></tr>\n",
       "<tr><td>max min_per_class_accuracy</td>\n",
       "<td>0.5337548</td>\n",
       "<td>0.6378794</td>\n",
       "<td>227.0</td></tr>\n",
       "<tr><td>max mean_per_class_accuracy</td>\n",
       "<td>0.5761530</td>\n",
       "<td>0.6513416</td>\n",
       "<td>188.0</td></tr></table></div>"
      ],
      "text/plain": [
       "metric                       threshold    value     idx\n",
       "---------------------------  -----------  --------  -----\n",
       "max f1                       0.442584     0.724825  303\n",
       "max f2                       0.310457     0.859795  382\n",
       "max f0point5                 0.576153     0.684506  188\n",
       "max accuracy                 0.509931     0.649813  249\n",
       "max precision                0.999476     1         0\n",
       "max recall                   0.268215     1         393\n",
       "max specificity              0.999476     1         0\n",
       "max absolute_mcc             0.594506     0.315354  173\n",
       "max min_per_class_accuracy   0.533755     0.637879  227\n",
       "max mean_per_class_accuracy  0.576153     0.651342  188"
      ]
     },
     "metadata": {},
     "output_type": "display_data"
    },
    {
     "name": "stdout",
     "output_type": "stream",
     "text": [
      "Gains/Lift Table: Avg response rate: 54.75 %, avg score: 55.63 %\n",
      "\n"
     ]
    },
    {
     "data": {
      "text/html": [
       "<div style=\"overflow:auto\"><table style=\"width:50%\"><tr><td><b></b></td>\n",
       "<td><b>group</b></td>\n",
       "<td><b>cumulative_data_fraction</b></td>\n",
       "<td><b>lower_threshold</b></td>\n",
       "<td><b>lift</b></td>\n",
       "<td><b>cumulative_lift</b></td>\n",
       "<td><b>response_rate</b></td>\n",
       "<td><b>score</b></td>\n",
       "<td><b>cumulative_response_rate</b></td>\n",
       "<td><b>cumulative_score</b></td>\n",
       "<td><b>capture_rate</b></td>\n",
       "<td><b>cumulative_capture_rate</b></td>\n",
       "<td><b>gain</b></td>\n",
       "<td><b>cumulative_gain</b></td></tr>\n",
       "<tr><td></td>\n",
       "<td>1</td>\n",
       "<td>0.0100655</td>\n",
       "<td>0.9754492</td>\n",
       "<td>1.8264215</td>\n",
       "<td>1.8264215</td>\n",
       "<td>1.0</td>\n",
       "<td>0.9857426</td>\n",
       "<td>1.0</td>\n",
       "<td>0.9857426</td>\n",
       "<td>0.0183839</td>\n",
       "<td>0.0183839</td>\n",
       "<td>82.6421548</td>\n",
       "<td>82.6421548</td></tr>\n",
       "<tr><td></td>\n",
       "<td>2</td>\n",
       "<td>0.0201311</td>\n",
       "<td>0.9538892</td>\n",
       "<td>1.8264215</td>\n",
       "<td>1.8264215</td>\n",
       "<td>1.0</td>\n",
       "<td>0.9700480</td>\n",
       "<td>1.0</td>\n",
       "<td>0.9778953</td>\n",
       "<td>0.0183839</td>\n",
       "<td>0.0367678</td>\n",
       "<td>82.6421548</td>\n",
       "<td>82.6421548</td></tr>\n",
       "<tr><td></td>\n",
       "<td>3</td>\n",
       "<td>0.0301966</td>\n",
       "<td>0.9129754</td>\n",
       "<td>1.7839466</td>\n",
       "<td>1.8122632</td>\n",
       "<td>0.9767442</td>\n",
       "<td>0.9254288</td>\n",
       "<td>0.9922481</td>\n",
       "<td>0.9604065</td>\n",
       "<td>0.0179564</td>\n",
       "<td>0.0547242</td>\n",
       "<td>78.3946628</td>\n",
       "<td>81.2263241</td></tr>\n",
       "<tr><td></td>\n",
       "<td>4</td>\n",
       "<td>0.0400281</td>\n",
       "<td>0.8804148</td>\n",
       "<td>1.7394491</td>\n",
       "<td>1.7943791</td>\n",
       "<td>0.9523810</td>\n",
       "<td>0.8955063</td>\n",
       "<td>0.9824561</td>\n",
       "<td>0.9444661</td>\n",
       "<td>0.0171013</td>\n",
       "<td>0.0718256</td>\n",
       "<td>73.9449093</td>\n",
       "<td>79.4379064</td></tr>\n",
       "<tr><td></td>\n",
       "<td>5</td>\n",
       "<td>0.0500936</td>\n",
       "<td>0.8635265</td>\n",
       "<td>1.6989968</td>\n",
       "<td>1.7752135</td>\n",
       "<td>0.9302326</td>\n",
       "<td>0.8716105</td>\n",
       "<td>0.9719626</td>\n",
       "<td>0.9298269</td>\n",
       "<td>0.0171013</td>\n",
       "<td>0.0889269</td>\n",
       "<td>69.8996789</td>\n",
       "<td>77.5213467</td></tr>\n",
       "<tr><td></td>\n",
       "<td>6</td>\n",
       "<td>0.1001873</td>\n",
       "<td>0.7901681</td>\n",
       "<td>1.5874505</td>\n",
       "<td>1.6813320</td>\n",
       "<td>0.8691589</td>\n",
       "<td>0.8282669</td>\n",
       "<td>0.9205607</td>\n",
       "<td>0.8790469</td>\n",
       "<td>0.0795212</td>\n",
       "<td>0.1684481</td>\n",
       "<td>58.7450504</td>\n",
       "<td>68.1331985</td></tr>\n",
       "<tr><td></td>\n",
       "<td>7</td>\n",
       "<td>0.1500468</td>\n",
       "<td>0.6920401</td>\n",
       "<td>1.5520296</td>\n",
       "<td>1.6383657</td>\n",
       "<td>0.8497653</td>\n",
       "<td>0.7425410</td>\n",
       "<td>0.8970359</td>\n",
       "<td>0.8336869</td>\n",
       "<td>0.0773835</td>\n",
       "<td>0.2458316</td>\n",
       "<td>55.2029578</td>\n",
       "<td>63.8365663</td></tr>\n",
       "<tr><td></td>\n",
       "<td>8</td>\n",
       "<td>0.2001404</td>\n",
       "<td>0.6411575</td>\n",
       "<td>1.2289939</td>\n",
       "<td>1.5359030</td>\n",
       "<td>0.6728972</td>\n",
       "<td>0.6624220</td>\n",
       "<td>0.8409357</td>\n",
       "<td>0.7908206</td>\n",
       "<td>0.0615648</td>\n",
       "<td>0.3073963</td>\n",
       "<td>22.8993939</td>\n",
       "<td>53.5903032</td></tr>\n",
       "<tr><td></td>\n",
       "<td>9</td>\n",
       "<td>0.3000936</td>\n",
       "<td>0.5953214</td>\n",
       "<td>1.2233175</td>\n",
       "<td>1.4317891</td>\n",
       "<td>0.6697892</td>\n",
       "<td>0.6159391</td>\n",
       "<td>0.7839314</td>\n",
       "<td>0.7325722</td>\n",
       "<td>0.1222745</td>\n",
       "<td>0.4296708</td>\n",
       "<td>22.3317477</td>\n",
       "<td>43.1789123</td></tr>\n",
       "<tr><td></td>\n",
       "<td>10</td>\n",
       "<td>0.4000468</td>\n",
       "<td>0.5640642</td>\n",
       "<td>1.0351148</td>\n",
       "<td>1.3326786</td>\n",
       "<td>0.5667447</td>\n",
       "<td>0.5790860</td>\n",
       "<td>0.7296665</td>\n",
       "<td>0.6942231</td>\n",
       "<td>0.1034630</td>\n",
       "<td>0.5331338</td>\n",
       "<td>3.5114788</td>\n",
       "<td>33.2678566</td></tr>\n",
       "<tr><td></td>\n",
       "<td>11</td>\n",
       "<td>0.5</td>\n",
       "<td>0.5369171</td>\n",
       "<td>0.9239041</td>\n",
       "<td>1.2509619</td>\n",
       "<td>0.5058548</td>\n",
       "<td>0.5506097</td>\n",
       "<td>0.6849251</td>\n",
       "<td>0.6655139</td>\n",
       "<td>0.0923472</td>\n",
       "<td>0.6254810</td>\n",
       "<td>-7.6095892</td>\n",
       "<td>25.0961950</td></tr>\n",
       "<tr><td></td>\n",
       "<td>12</td>\n",
       "<td>0.5999532</td>\n",
       "<td>0.5083168</td>\n",
       "<td>1.0051735</td>\n",
       "<td>1.2100132</td>\n",
       "<td>0.5503513</td>\n",
       "<td>0.5231791</td>\n",
       "<td>0.6625049</td>\n",
       "<td>0.6418007</td>\n",
       "<td>0.1004703</td>\n",
       "<td>0.7259513</td>\n",
       "<td>0.5173451</td>\n",
       "<td>21.0013183</td></tr>\n",
       "<tr><td></td>\n",
       "<td>13</td>\n",
       "<td>0.6999064</td>\n",
       "<td>0.4749856</td>\n",
       "<td>0.8982401</td>\n",
       "<td>1.1654891</td>\n",
       "<td>0.4918033</td>\n",
       "<td>0.4925839</td>\n",
       "<td>0.6381271</td>\n",
       "<td>0.6204911</td>\n",
       "<td>0.0897820</td>\n",
       "<td>0.8157332</td>\n",
       "<td>-10.1759895</td>\n",
       "<td>16.5489068</td></tr>\n",
       "<tr><td></td>\n",
       "<td>14</td>\n",
       "<td>0.7998596</td>\n",
       "<td>0.4388366</td>\n",
       "<td>0.7613654</td>\n",
       "<td>1.1149884</td>\n",
       "<td>0.4168618</td>\n",
       "<td>0.4572426</td>\n",
       "<td>0.6104770</td>\n",
       "<td>0.6000910</td>\n",
       "<td>0.0761009</td>\n",
       "<td>0.8918341</td>\n",
       "<td>-23.8634577</td>\n",
       "<td>11.4988396</td></tr>\n",
       "<tr><td></td>\n",
       "<td>15</td>\n",
       "<td>0.8998127</td>\n",
       "<td>0.3883584</td>\n",
       "<td>0.5945494</td>\n",
       "<td>1.0571769</td>\n",
       "<td>0.3255269</td>\n",
       "<td>0.4150676</td>\n",
       "<td>0.5788241</td>\n",
       "<td>0.5795382</td>\n",
       "<td>0.0594271</td>\n",
       "<td>0.9512612</td>\n",
       "<td>-40.5450597</td>\n",
       "<td>5.7176884</td></tr>\n",
       "<tr><td></td>\n",
       "<td>16</td>\n",
       "<td>1.0</td>\n",
       "<td>0.2110078</td>\n",
       "<td>0.4864768</td>\n",
       "<td>1.0</td>\n",
       "<td>0.2663551</td>\n",
       "<td>0.3471573</td>\n",
       "<td>0.5475187</td>\n",
       "<td>0.5562566</td>\n",
       "<td>0.0487388</td>\n",
       "<td>1.0</td>\n",
       "<td>-51.3523233</td>\n",
       "<td>0.0</td></tr></table></div>"
      ],
      "text/plain": [
       "    group    cumulative_data_fraction    lower_threshold    lift      cumulative_lift    response_rate    score     cumulative_response_rate    cumulative_score    capture_rate    cumulative_capture_rate    gain      cumulative_gain\n",
       "--  -------  --------------------------  -----------------  --------  -----------------  ---------------  --------  --------------------------  ------------------  --------------  -------------------------  --------  -----------------\n",
       "    1        0.0100655                   0.975449           1.82642   1.82642            1                0.985743  1                           0.985743            0.0183839       0.0183839                  82.6422   82.6422\n",
       "    2        0.0201311                   0.953889           1.82642   1.82642            1                0.970048  1                           0.977895            0.0183839       0.0367678                  82.6422   82.6422\n",
       "    3        0.0301966                   0.912975           1.78395   1.81226            0.976744         0.925429  0.992248                    0.960406            0.0179564       0.0547242                  78.3947   81.2263\n",
       "    4        0.0400281                   0.880415           1.73945   1.79438            0.952381         0.895506  0.982456                    0.944466            0.0171013       0.0718256                  73.9449   79.4379\n",
       "    5        0.0500936                   0.863526           1.699     1.77521            0.930233         0.87161   0.971963                    0.929827            0.0171013       0.0889269                  69.8997   77.5213\n",
       "    6        0.100187                    0.790168           1.58745   1.68133            0.869159         0.828267  0.920561                    0.879047            0.0795212       0.168448                   58.7451   68.1332\n",
       "    7        0.150047                    0.69204            1.55203   1.63837            0.849765         0.742541  0.897036                    0.833687            0.0773835       0.245832                   55.203    63.8366\n",
       "    8        0.20014                     0.641157           1.22899   1.5359             0.672897         0.662422  0.840936                    0.790821            0.0615648       0.307396                   22.8994   53.5903\n",
       "    9        0.300094                    0.595321           1.22332   1.43179            0.669789         0.615939  0.783931                    0.732572            0.122274        0.429671                   22.3317   43.1789\n",
       "    10       0.400047                    0.564064           1.03511   1.33268            0.566745         0.579086  0.729666                    0.694223            0.103463        0.533134                   3.51148   33.2679\n",
       "    11       0.5                         0.536917           0.923904  1.25096            0.505855         0.55061   0.684925                    0.665514            0.0923472       0.625481                   -7.60959  25.0962\n",
       "    12       0.599953                    0.508317           1.00517   1.21001            0.550351         0.523179  0.662505                    0.641801            0.10047         0.725951                   0.517345  21.0013\n",
       "    13       0.699906                    0.474986           0.89824   1.16549            0.491803         0.492584  0.638127                    0.620491            0.089782        0.815733                   -10.176   16.5489\n",
       "    14       0.79986                     0.438837           0.761365  1.11499            0.416862         0.457243  0.610477                    0.600091            0.0761009       0.891834                   -23.8635  11.4988\n",
       "    15       0.899813                    0.388358           0.594549  1.05718            0.325527         0.415068  0.578824                    0.579538            0.0594271       0.951261                   -40.5451  5.71769\n",
       "    16       1                           0.211008           0.486477  1                  0.266355         0.347157  0.547519                    0.556257            0.0487388       1                          -51.3523  0"
      ]
     },
     "metadata": {},
     "output_type": "display_data"
    },
    {
     "name": "stdout",
     "output_type": "stream",
     "text": [
      "\n",
      "Scoring History: \n"
     ]
    },
    {
     "data": {
      "text/html": [
       "<div style=\"overflow:auto\"><table style=\"width:50%\"><tr><td><b></b></td>\n",
       "<td><b>timestamp</b></td>\n",
       "<td><b>duration</b></td>\n",
       "<td><b>iterations</b></td>\n",
       "<td><b>negative_log_likelihood</b></td>\n",
       "<td><b>objective</b></td></tr>\n",
       "<tr><td></td>\n",
       "<td>2018-08-07 12:20:10</td>\n",
       "<td> 0.000 sec</td>\n",
       "<td>0</td>\n",
       "<td>24215.4952896</td>\n",
       "<td>0.6868670</td></tr>\n",
       "<tr><td></td>\n",
       "<td>2018-08-07 12:20:10</td>\n",
       "<td> 0.100 sec</td>\n",
       "<td>1</td>\n",
       "<td>22003.4484791</td>\n",
       "<td>0.6399868</td></tr>\n",
       "<tr><td></td>\n",
       "<td>2018-08-07 12:20:10</td>\n",
       "<td> 0.100 sec</td>\n",
       "<td>2</td>\n",
       "<td>21649.0318827</td>\n",
       "<td>0.6362370</td></tr>\n",
       "<tr><td></td>\n",
       "<td>2018-08-07 12:20:10</td>\n",
       "<td> 0.116 sec</td>\n",
       "<td>3</td>\n",
       "<td>21599.4226942</td>\n",
       "<td>0.6361158</td></tr>\n",
       "<tr><td></td>\n",
       "<td>2018-08-07 12:20:10</td>\n",
       "<td> 0.132 sec</td>\n",
       "<td>4</td>\n",
       "<td>21597.2918254</td>\n",
       "<td>0.6361152</td></tr>\n",
       "<tr><td></td>\n",
       "<td>2018-08-07 12:20:10</td>\n",
       "<td> 0.182 sec</td>\n",
       "<td>5</td>\n",
       "<td>21450.6786922</td>\n",
       "<td>0.6350358</td></tr>\n",
       "<tr><td></td>\n",
       "<td>2018-08-07 12:20:10</td>\n",
       "<td> 0.184 sec</td>\n",
       "<td>6</td>\n",
       "<td>21448.7394843</td>\n",
       "<td>0.6350357</td></tr></table></div>"
      ],
      "text/plain": [
       "    timestamp            duration    iterations    negative_log_likelihood    objective\n",
       "--  -------------------  ----------  ------------  -------------------------  -----------\n",
       "    2018-08-07 12:20:10  0.000 sec   0             24215.5                    0.686867\n",
       "    2018-08-07 12:20:10  0.100 sec   1             22003.4                    0.639987\n",
       "    2018-08-07 12:20:10  0.100 sec   2             21649                      0.636237\n",
       "    2018-08-07 12:20:10  0.116 sec   3             21599.4                    0.636116\n",
       "    2018-08-07 12:20:10  0.132 sec   4             21597.3                    0.636115\n",
       "    2018-08-07 12:20:10  0.182 sec   5             21450.7                    0.635036\n",
       "    2018-08-07 12:20:10  0.184 sec   6             21448.7                    0.635036"
      ]
     },
     "metadata": {},
     "output_type": "display_data"
    },
    {
     "data": {
      "text/plain": []
     },
     "execution_count": 12,
     "metadata": {},
     "output_type": "execute_result"
    }
   ],
   "source": [
    "m_def"
   ]
  },
  {
   "cell_type": "code",
   "execution_count": 13,
   "metadata": {},
   "outputs": [
    {
     "data": {
      "text/plain": [
       "0.6083885827338443"
      ]
     },
     "execution_count": 13,
     "metadata": {},
     "output_type": "execute_result"
    }
   ],
   "source": [
    "m_def.logloss(train=True)"
   ]
  },
  {
   "cell_type": "code",
   "execution_count": 19,
   "metadata": {},
   "outputs": [
    {
     "ename": "NameError",
     "evalue": "name 'z' is not defined",
     "output_type": "error",
     "traceback": [
      "\u001b[1;31m---------------------------------------------------------------------------\u001b[0m",
      "\u001b[1;31mNameError\u001b[0m                                 Traceback (most recent call last)",
      "\u001b[1;32m<ipython-input-19-838a3b5de454>\u001b[0m in \u001b[0;36m<module>\u001b[1;34m()\u001b[0m\n\u001b[1;32m----> 1\u001b[1;33m \u001b[0mt\u001b[0m \u001b[1;33m=\u001b[0m \u001b[1;33m[\u001b[0m\u001b[0mz\u001b[0m \u001b[1;32mfor\u001b[0m \u001b[0mx\u001b[0m \u001b[1;32min\u001b[0m \u001b[0mrange\u001b[0m\u001b[1;33m(\u001b[0m\u001b[1;36m0\u001b[0m\u001b[1;33m,\u001b[0m\u001b[1;36m1\u001b[0m\u001b[1;33m)\u001b[0m\u001b[1;33m]\u001b[0m\u001b[1;33m\u001b[0m\u001b[0m\n\u001b[0m",
      "\u001b[1;32m<ipython-input-19-838a3b5de454>\u001b[0m in \u001b[0;36m<listcomp>\u001b[1;34m(.0)\u001b[0m\n\u001b[1;32m----> 1\u001b[1;33m \u001b[0mt\u001b[0m \u001b[1;33m=\u001b[0m \u001b[1;33m[\u001b[0m\u001b[0mz\u001b[0m \u001b[1;32mfor\u001b[0m \u001b[0mx\u001b[0m \u001b[1;32min\u001b[0m \u001b[0mrange\u001b[0m\u001b[1;33m(\u001b[0m\u001b[1;36m0\u001b[0m\u001b[1;33m,\u001b[0m\u001b[1;36m1\u001b[0m\u001b[1;33m)\u001b[0m\u001b[1;33m]\u001b[0m\u001b[1;33m\u001b[0m\u001b[0m\n\u001b[0m",
      "\u001b[1;31mNameError\u001b[0m: name 'z' is not defined"
     ]
    }
   ],
   "source": []
  },
  {
   "cell_type": "code",
   "execution_count": 20,
   "metadata": {},
   "outputs": [
    {
     "name": "stdout",
     "output_type": "stream",
     "text": [
      "glm Grid Build progress: |████████████████████████████████████████████████| 100%\n"
     ]
    }
   ],
   "source": [
    "g = h2o.grid.H2OGridSearch(\n",
    "    H2OGeneralizedLinearEstimator(\n",
    "        family = \"binomial\",\n",
    "        lambda_search =True),\n",
    "    hyper_params = {\n",
    "        \"alpha\" : [x*0.01  for x in range(0,100)]\n",
    "    },\n",
    "    search_criteria = {\n",
    "        \"strategy\" : \"RandomDiscrete\",\n",
    "        \"max_models\" : 8 ,\n",
    "        \"max_runtime_secs\" : 30 \n",
    "    }\n",
    ")\n",
    "g.train(xAll,y,train,validation_frame = valid)"
   ]
  },
  {
   "cell_type": "code",
   "execution_count": 21,
   "metadata": {},
   "outputs": [
    {
     "name": "stdout",
     "output_type": "stream",
     "text": [
      "                    alpha  \\\n",
      "0                  [0.97]   \n",
      "1    [0.7000000000000001]   \n",
      "2                  [0.55]   \n",
      "3                  [0.54]   \n",
      "4                  [0.42]   \n",
      "5                  [0.39]   \n",
      "6                  [0.24]   \n",
      "7                  [0.14]   \n",
      "\n",
      "                                                     model_ids  \\\n",
      "0  Grid_GLM_py_4_sid_a099_model_python_1533624537506_9_model_2   \n",
      "1  Grid_GLM_py_4_sid_a099_model_python_1533624537506_9_model_0   \n",
      "2  Grid_GLM_py_4_sid_a099_model_python_1533624537506_9_model_3   \n",
      "3  Grid_GLM_py_4_sid_a099_model_python_1533624537506_9_model_7   \n",
      "4  Grid_GLM_py_4_sid_a099_model_python_1533624537506_9_model_1   \n",
      "5  Grid_GLM_py_4_sid_a099_model_python_1533624537506_9_model_4   \n",
      "6  Grid_GLM_py_4_sid_a099_model_python_1533624537506_9_model_5   \n",
      "7  Grid_GLM_py_4_sid_a099_model_python_1533624537506_9_model_6   \n",
      "\n",
      "              logloss  \n",
      "0  0.5753606836568621  \n",
      "1  0.5774994292080659  \n",
      "2  0.5791966905591088  \n",
      "3  0.5793303267703214  \n",
      "4  0.5812399336028186  \n",
      "5  0.5818212587452121  \n",
      "6  0.5858809464770833  \n",
      "7  0.5909896397543999  \n"
     ]
    },
    {
     "data": {
      "text/plain": []
     },
     "execution_count": 21,
     "metadata": {},
     "output_type": "execute_result"
    }
   ],
   "source": [
    "g"
   ]
  },
  {
   "cell_type": "code",
   "execution_count": 22,
   "metadata": {},
   "outputs": [
    {
     "name": "stdout",
     "output_type": "stream",
     "text": [
      "glm Grid Build progress: |████████████████████████████████████████████████| 100%\n"
     ]
    }
   ],
   "source": [
    "g_cartesian = h2o.grid.H2OGridSearch(\n",
    "    H2OGeneralizedLinearEstimator(\n",
    "        family = \"binomial\",\n",
    "        lambda_search =True),\n",
    "    hyper_params = {\n",
    "        \"alpha\" : [0.97,0.98,0.99]\n",
    "    },\n",
    "    search_criteria = {\n",
    "        \"strategy\" : \"Cartesian\",\n",
    "\n",
    "    }\n",
    ")\n",
    "\n",
    "g_cartesian.train(xAll,y,train,validation_frame = valid)"
   ]
  },
  {
   "cell_type": "code",
   "execution_count": 23,
   "metadata": {},
   "outputs": [
    {
     "name": "stdout",
     "output_type": "stream",
     "text": [
      "      alpha                                                     model_ids  \\\n",
      "0    [0.99]  Grid_GLM_py_4_sid_a099_model_python_1533624537506_26_model_2   \n",
      "1    [0.98]  Grid_GLM_py_4_sid_a099_model_python_1533624537506_26_model_1   \n",
      "2    [0.97]  Grid_GLM_py_4_sid_a099_model_python_1533624537506_26_model_0   \n",
      "\n",
      "              logloss  \n",
      "0  0.5752300140927845  \n",
      "1  0.5752961818156153  \n",
      "2  0.5753606836568621  \n"
     ]
    },
    {
     "data": {
      "text/plain": []
     },
     "execution_count": 23,
     "metadata": {},
     "output_type": "execute_result"
    }
   ],
   "source": [
    "g_cartesian"
   ]
  },
  {
   "cell_type": "code",
   "execution_count": null,
   "metadata": {},
   "outputs": [],
   "source": []
  }
 ],
 "metadata": {
  "kernelspec": {
   "display_name": "Python 3",
   "language": "python",
   "name": "python3"
  },
  "language_info": {
   "codemirror_mode": {
    "name": "ipython",
    "version": 3
   },
   "file_extension": ".py",
   "mimetype": "text/x-python",
   "name": "python",
   "nbconvert_exporter": "python",
   "pygments_lexer": "ipython3",
   "version": "3.6.5"
  }
 },
 "nbformat": 4,
 "nbformat_minor": 2
}
