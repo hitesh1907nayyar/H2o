{
 "cells": [
  {
   "cell_type": "code",
   "execution_count": 1,
   "metadata": {},
   "outputs": [],
   "source": [
    "#Import H2o library \n",
    "import h2o"
   ]
  },
  {
   "cell_type": "code",
   "execution_count": 2,
   "metadata": {},
   "outputs": [
    {
     "name": "stdout",
     "output_type": "stream",
     "text": [
      "Checking whether there is an H2O instance running at http://localhost:54321. connected.\n"
     ]
    },
    {
     "data": {
      "text/html": [
       "<div style=\"overflow:auto\"><table style=\"width:50%\"><tr><td>H2O cluster uptime:</td>\n",
       "<td>3 hours 52 mins</td></tr>\n",
       "<tr><td>H2O cluster timezone:</td>\n",
       "<td>Asia/Kolkata</td></tr>\n",
       "<tr><td>H2O data parsing timezone:</td>\n",
       "<td>UTC</td></tr>\n",
       "<tr><td>H2O cluster version:</td>\n",
       "<td>3.20.0.4</td></tr>\n",
       "<tr><td>H2O cluster version age:</td>\n",
       "<td>3 days </td></tr>\n",
       "<tr><td>H2O cluster name:</td>\n",
       "<td>H2O_from_python_hitesh_n_y4aa4b</td></tr>\n",
       "<tr><td>H2O cluster total nodes:</td>\n",
       "<td>1</td></tr>\n",
       "<tr><td>H2O cluster free memory:</td>\n",
       "<td>81.9 Mb</td></tr>\n",
       "<tr><td>H2O cluster total cores:</td>\n",
       "<td>4</td></tr>\n",
       "<tr><td>H2O cluster allowed cores:</td>\n",
       "<td>4</td></tr>\n",
       "<tr><td>H2O cluster status:</td>\n",
       "<td>locked, healthy</td></tr>\n",
       "<tr><td>H2O connection url:</td>\n",
       "<td>http://localhost:54321</td></tr>\n",
       "<tr><td>H2O connection proxy:</td>\n",
       "<td>None</td></tr>\n",
       "<tr><td>H2O internal security:</td>\n",
       "<td>False</td></tr>\n",
       "<tr><td>H2O API Extensions:</td>\n",
       "<td>Algos, AutoML, Core V3, Core V4</td></tr>\n",
       "<tr><td>Python version:</td>\n",
       "<td>3.6.5 final</td></tr></table></div>"
      ],
      "text/plain": [
       "--------------------------  -------------------------------\n",
       "H2O cluster uptime:         3 hours 52 mins\n",
       "H2O cluster timezone:       Asia/Kolkata\n",
       "H2O data parsing timezone:  UTC\n",
       "H2O cluster version:        3.20.0.4\n",
       "H2O cluster version age:    3 days\n",
       "H2O cluster name:           H2O_from_python_hitesh_n_y4aa4b\n",
       "H2O cluster total nodes:    1\n",
       "H2O cluster free memory:    81.9 Mb\n",
       "H2O cluster total cores:    4\n",
       "H2O cluster allowed cores:  4\n",
       "H2O cluster status:         locked, healthy\n",
       "H2O connection url:         http://localhost:54321\n",
       "H2O connection proxy:\n",
       "H2O internal security:      False\n",
       "H2O API Extensions:         Algos, AutoML, Core V3, Core V4\n",
       "Python version:             3.6.5 final\n",
       "--------------------------  -------------------------------"
      ]
     },
     "metadata": {},
     "output_type": "display_data"
    }
   ],
   "source": [
    "#Initialize the server \n",
    "h2o.init()"
   ]
  },
  {
   "cell_type": "code",
   "execution_count": 3,
   "metadata": {},
   "outputs": [
    {
     "name": "stdout",
     "output_type": "stream",
     "text": [
      "Parse progress: |█████████████████████████████████████████████████████████| 100%\n"
     ]
    }
   ],
   "source": [
    "#File from which input needs to be taken\n",
    "url  = \"http://h2o-public-test-data.s3.amazonaws.com/smalldata/iris/iris_wheader.csv\"\n",
    "iris = h2o.import_file(url)"
   ]
  },
  {
   "cell_type": "code",
   "execution_count": 4,
   "metadata": {},
   "outputs": [],
   "source": [
    "#Split the DataSet\n",
    "train,test = iris.split_frame([0.8])"
   ]
  },
  {
   "cell_type": "code",
   "execution_count": 5,
   "metadata": {},
   "outputs": [
    {
     "data": {
      "text/html": [
       "<table>\n",
       "<thead>\n",
       "<tr><th style=\"text-align: right;\">  sepal_len</th><th style=\"text-align: right;\">  sepal_wid</th><th style=\"text-align: right;\">  petal_len</th><th style=\"text-align: right;\">  petal_wid</th><th>class          </th></tr>\n",
       "</thead>\n",
       "<tbody>\n",
       "<tr><td style=\"text-align: right;\">        5.1</td><td style=\"text-align: right;\">        3.5</td><td style=\"text-align: right;\">        1.4</td><td style=\"text-align: right;\">        0.2</td><td>Iris-setosa    </td></tr>\n",
       "<tr><td style=\"text-align: right;\">        4.7</td><td style=\"text-align: right;\">        3.2</td><td style=\"text-align: right;\">        1.3</td><td style=\"text-align: right;\">        0.2</td><td>Iris-setosa    </td></tr>\n",
       "<tr><td style=\"text-align: right;\">        4.6</td><td style=\"text-align: right;\">        3.1</td><td style=\"text-align: right;\">        1.5</td><td style=\"text-align: right;\">        0.2</td><td>Iris-setosa    </td></tr>\n",
       "<tr><td style=\"text-align: right;\">        5  </td><td style=\"text-align: right;\">        3.6</td><td style=\"text-align: right;\">        1.4</td><td style=\"text-align: right;\">        0.2</td><td>Iris-setosa    </td></tr>\n",
       "<tr><td style=\"text-align: right;\">        5.4</td><td style=\"text-align: right;\">        3.9</td><td style=\"text-align: right;\">        1.7</td><td style=\"text-align: right;\">        0.4</td><td>Iris-setosa    </td></tr>\n",
       "<tr><td style=\"text-align: right;\">        4.6</td><td style=\"text-align: right;\">        3.4</td><td style=\"text-align: right;\">        1.4</td><td style=\"text-align: right;\">        0.3</td><td>Iris-setosa    </td></tr>\n",
       "<tr><td style=\"text-align: right;\">        5  </td><td style=\"text-align: right;\">        3.4</td><td style=\"text-align: right;\">        1.5</td><td style=\"text-align: right;\">        0.2</td><td>Iris-setosa    </td></tr>\n",
       "<tr><td style=\"text-align: right;\">        4.4</td><td style=\"text-align: right;\">        2.9</td><td style=\"text-align: right;\">        1.4</td><td style=\"text-align: right;\">        0.2</td><td>Iris-setosa    </td></tr>\n",
       "<tr><td style=\"text-align: right;\">        5.4</td><td style=\"text-align: right;\">        3.7</td><td style=\"text-align: right;\">        1.5</td><td style=\"text-align: right;\">        0.2</td><td>Iris-setosa    </td></tr>\n",
       "<tr><td style=\"text-align: right;\">        4.8</td><td style=\"text-align: right;\">        3.4</td><td style=\"text-align: right;\">        1.6</td><td style=\"text-align: right;\">        0.2</td><td>Iris-setosa    </td></tr>\n",
       "<tr><td style=\"text-align: right;\">        4.8</td><td style=\"text-align: right;\">        3  </td><td style=\"text-align: right;\">        1.4</td><td style=\"text-align: right;\">        0.1</td><td>Iris-setosa    </td></tr>\n",
       "<tr><td style=\"text-align: right;\">        4.3</td><td style=\"text-align: right;\">        3  </td><td style=\"text-align: right;\">        1.1</td><td style=\"text-align: right;\">        0.1</td><td>Iris-setosa    </td></tr>\n",
       "<tr><td style=\"text-align: right;\">        5.8</td><td style=\"text-align: right;\">        4  </td><td style=\"text-align: right;\">        1.2</td><td style=\"text-align: right;\">        0.2</td><td>Iris-setosa    </td></tr>\n",
       "<tr><td style=\"text-align: right;\">        5.7</td><td style=\"text-align: right;\">        4.4</td><td style=\"text-align: right;\">        1.5</td><td style=\"text-align: right;\">        0.4</td><td>Iris-setosa    </td></tr>\n",
       "<tr><td style=\"text-align: right;\">        5.4</td><td style=\"text-align: right;\">        3.9</td><td style=\"text-align: right;\">        1.3</td><td style=\"text-align: right;\">        0.4</td><td>Iris-setosa    </td></tr>\n",
       "<tr><td style=\"text-align: right;\">        5.7</td><td style=\"text-align: right;\">        3.8</td><td style=\"text-align: right;\">        1.7</td><td style=\"text-align: right;\">        0.3</td><td>Iris-setosa    </td></tr>\n",
       "<tr><td style=\"text-align: right;\">        5.1</td><td style=\"text-align: right;\">        3.8</td><td style=\"text-align: right;\">        1.5</td><td style=\"text-align: right;\">        0.3</td><td>Iris-setosa    </td></tr>\n",
       "<tr><td style=\"text-align: right;\">        5.4</td><td style=\"text-align: right;\">        3.4</td><td style=\"text-align: right;\">        1.7</td><td style=\"text-align: right;\">        0.2</td><td>Iris-setosa    </td></tr>\n",
       "<tr><td style=\"text-align: right;\">        4.6</td><td style=\"text-align: right;\">        3.6</td><td style=\"text-align: right;\">        1  </td><td style=\"text-align: right;\">        0.2</td><td>Iris-setosa    </td></tr>\n",
       "<tr><td style=\"text-align: right;\">        5.1</td><td style=\"text-align: right;\">        3.3</td><td style=\"text-align: right;\">        1.7</td><td style=\"text-align: right;\">        0.5</td><td>Iris-setosa    </td></tr>\n",
       "<tr><td style=\"text-align: right;\">        4.8</td><td style=\"text-align: right;\">        3.4</td><td style=\"text-align: right;\">        1.9</td><td style=\"text-align: right;\">        0.2</td><td>Iris-setosa    </td></tr>\n",
       "<tr><td style=\"text-align: right;\">        5  </td><td style=\"text-align: right;\">        3  </td><td style=\"text-align: right;\">        1.6</td><td style=\"text-align: right;\">        0.2</td><td>Iris-setosa    </td></tr>\n",
       "<tr><td style=\"text-align: right;\">        5  </td><td style=\"text-align: right;\">        3.4</td><td style=\"text-align: right;\">        1.6</td><td style=\"text-align: right;\">        0.4</td><td>Iris-setosa    </td></tr>\n",
       "<tr><td style=\"text-align: right;\">        5.2</td><td style=\"text-align: right;\">        3.4</td><td style=\"text-align: right;\">        1.4</td><td style=\"text-align: right;\">        0.2</td><td>Iris-setosa    </td></tr>\n",
       "<tr><td style=\"text-align: right;\">        4.7</td><td style=\"text-align: right;\">        3.2</td><td style=\"text-align: right;\">        1.6</td><td style=\"text-align: right;\">        0.2</td><td>Iris-setosa    </td></tr>\n",
       "<tr><td style=\"text-align: right;\">        5.4</td><td style=\"text-align: right;\">        3.4</td><td style=\"text-align: right;\">        1.5</td><td style=\"text-align: right;\">        0.4</td><td>Iris-setosa    </td></tr>\n",
       "<tr><td style=\"text-align: right;\">        5.2</td><td style=\"text-align: right;\">        4.1</td><td style=\"text-align: right;\">        1.5</td><td style=\"text-align: right;\">        0.1</td><td>Iris-setosa    </td></tr>\n",
       "<tr><td style=\"text-align: right;\">        5.5</td><td style=\"text-align: right;\">        4.2</td><td style=\"text-align: right;\">        1.4</td><td style=\"text-align: right;\">        0.2</td><td>Iris-setosa    </td></tr>\n",
       "<tr><td style=\"text-align: right;\">        4.9</td><td style=\"text-align: right;\">        3.1</td><td style=\"text-align: right;\">        1.5</td><td style=\"text-align: right;\">        0.1</td><td>Iris-setosa    </td></tr>\n",
       "<tr><td style=\"text-align: right;\">        4.9</td><td style=\"text-align: right;\">        3.1</td><td style=\"text-align: right;\">        1.5</td><td style=\"text-align: right;\">        0.1</td><td>Iris-setosa    </td></tr>\n",
       "<tr><td style=\"text-align: right;\">        4.4</td><td style=\"text-align: right;\">        3  </td><td style=\"text-align: right;\">        1.3</td><td style=\"text-align: right;\">        0.2</td><td>Iris-setosa    </td></tr>\n",
       "<tr><td style=\"text-align: right;\">        5  </td><td style=\"text-align: right;\">        3.5</td><td style=\"text-align: right;\">        1.3</td><td style=\"text-align: right;\">        0.3</td><td>Iris-setosa    </td></tr>\n",
       "<tr><td style=\"text-align: right;\">        5  </td><td style=\"text-align: right;\">        3.5</td><td style=\"text-align: right;\">        1.6</td><td style=\"text-align: right;\">        0.6</td><td>Iris-setosa    </td></tr>\n",
       "<tr><td style=\"text-align: right;\">        5.1</td><td style=\"text-align: right;\">        3.8</td><td style=\"text-align: right;\">        1.9</td><td style=\"text-align: right;\">        0.4</td><td>Iris-setosa    </td></tr>\n",
       "<tr><td style=\"text-align: right;\">        4.8</td><td style=\"text-align: right;\">        3  </td><td style=\"text-align: right;\">        1.4</td><td style=\"text-align: right;\">        0.3</td><td>Iris-setosa    </td></tr>\n",
       "<tr><td style=\"text-align: right;\">        5.1</td><td style=\"text-align: right;\">        3.8</td><td style=\"text-align: right;\">        1.6</td><td style=\"text-align: right;\">        0.2</td><td>Iris-setosa    </td></tr>\n",
       "<tr><td style=\"text-align: right;\">        5.3</td><td style=\"text-align: right;\">        3.7</td><td style=\"text-align: right;\">        1.5</td><td style=\"text-align: right;\">        0.2</td><td>Iris-setosa    </td></tr>\n",
       "<tr><td style=\"text-align: right;\">        5  </td><td style=\"text-align: right;\">        3.3</td><td style=\"text-align: right;\">        1.4</td><td style=\"text-align: right;\">        0.2</td><td>Iris-setosa    </td></tr>\n",
       "<tr><td style=\"text-align: right;\">        7  </td><td style=\"text-align: right;\">        3.2</td><td style=\"text-align: right;\">        4.7</td><td style=\"text-align: right;\">        1.4</td><td>Iris-versicolor</td></tr>\n",
       "<tr><td style=\"text-align: right;\">        5.5</td><td style=\"text-align: right;\">        2.3</td><td style=\"text-align: right;\">        4  </td><td style=\"text-align: right;\">        1.3</td><td>Iris-versicolor</td></tr>\n",
       "<tr><td style=\"text-align: right;\">        6.5</td><td style=\"text-align: right;\">        2.8</td><td style=\"text-align: right;\">        4.6</td><td style=\"text-align: right;\">        1.5</td><td>Iris-versicolor</td></tr>\n",
       "<tr><td style=\"text-align: right;\">        5.7</td><td style=\"text-align: right;\">        2.8</td><td style=\"text-align: right;\">        4.5</td><td style=\"text-align: right;\">        1.3</td><td>Iris-versicolor</td></tr>\n",
       "<tr><td style=\"text-align: right;\">        6.3</td><td style=\"text-align: right;\">        3.3</td><td style=\"text-align: right;\">        4.7</td><td style=\"text-align: right;\">        1.6</td><td>Iris-versicolor</td></tr>\n",
       "<tr><td style=\"text-align: right;\">        4.9</td><td style=\"text-align: right;\">        2.4</td><td style=\"text-align: right;\">        3.3</td><td style=\"text-align: right;\">        1  </td><td>Iris-versicolor</td></tr>\n",
       "<tr><td style=\"text-align: right;\">        6.6</td><td style=\"text-align: right;\">        2.9</td><td style=\"text-align: right;\">        4.6</td><td style=\"text-align: right;\">        1.3</td><td>Iris-versicolor</td></tr>\n",
       "<tr><td style=\"text-align: right;\">        5  </td><td style=\"text-align: right;\">        2  </td><td style=\"text-align: right;\">        3.5</td><td style=\"text-align: right;\">        1  </td><td>Iris-versicolor</td></tr>\n",
       "<tr><td style=\"text-align: right;\">        5.9</td><td style=\"text-align: right;\">        3  </td><td style=\"text-align: right;\">        4.2</td><td style=\"text-align: right;\">        1.5</td><td>Iris-versicolor</td></tr>\n",
       "<tr><td style=\"text-align: right;\">        6  </td><td style=\"text-align: right;\">        2.2</td><td style=\"text-align: right;\">        4  </td><td style=\"text-align: right;\">        1  </td><td>Iris-versicolor</td></tr>\n",
       "<tr><td style=\"text-align: right;\">        6.1</td><td style=\"text-align: right;\">        2.9</td><td style=\"text-align: right;\">        4.7</td><td style=\"text-align: right;\">        1.4</td><td>Iris-versicolor</td></tr>\n",
       "<tr><td style=\"text-align: right;\">        5.6</td><td style=\"text-align: right;\">        2.9</td><td style=\"text-align: right;\">        3.6</td><td style=\"text-align: right;\">        1.3</td><td>Iris-versicolor</td></tr>\n",
       "<tr><td style=\"text-align: right;\">        6.7</td><td style=\"text-align: right;\">        3.1</td><td style=\"text-align: right;\">        4.4</td><td style=\"text-align: right;\">        1.4</td><td>Iris-versicolor</td></tr>\n",
       "<tr><td style=\"text-align: right;\">        5.6</td><td style=\"text-align: right;\">        3  </td><td style=\"text-align: right;\">        4.5</td><td style=\"text-align: right;\">        1.5</td><td>Iris-versicolor</td></tr>\n",
       "<tr><td style=\"text-align: right;\">        6.2</td><td style=\"text-align: right;\">        2.2</td><td style=\"text-align: right;\">        4.5</td><td style=\"text-align: right;\">        1.5</td><td>Iris-versicolor</td></tr>\n",
       "<tr><td style=\"text-align: right;\">        5.6</td><td style=\"text-align: right;\">        2.5</td><td style=\"text-align: right;\">        3.9</td><td style=\"text-align: right;\">        1.1</td><td>Iris-versicolor</td></tr>\n",
       "<tr><td style=\"text-align: right;\">        5.9</td><td style=\"text-align: right;\">        3.2</td><td style=\"text-align: right;\">        4.8</td><td style=\"text-align: right;\">        1.8</td><td>Iris-versicolor</td></tr>\n",
       "<tr><td style=\"text-align: right;\">        6.1</td><td style=\"text-align: right;\">        2.8</td><td style=\"text-align: right;\">        4  </td><td style=\"text-align: right;\">        1.3</td><td>Iris-versicolor</td></tr>\n",
       "<tr><td style=\"text-align: right;\">        6.1</td><td style=\"text-align: right;\">        2.8</td><td style=\"text-align: right;\">        4.7</td><td style=\"text-align: right;\">        1.2</td><td>Iris-versicolor</td></tr>\n",
       "<tr><td style=\"text-align: right;\">        6.6</td><td style=\"text-align: right;\">        3  </td><td style=\"text-align: right;\">        4.4</td><td style=\"text-align: right;\">        1.4</td><td>Iris-versicolor</td></tr>\n",
       "<tr><td style=\"text-align: right;\">        6.7</td><td style=\"text-align: right;\">        3  </td><td style=\"text-align: right;\">        5  </td><td style=\"text-align: right;\">        1.7</td><td>Iris-versicolor</td></tr>\n",
       "<tr><td style=\"text-align: right;\">        6  </td><td style=\"text-align: right;\">        2.9</td><td style=\"text-align: right;\">        4.5</td><td style=\"text-align: right;\">        1.5</td><td>Iris-versicolor</td></tr>\n",
       "<tr><td style=\"text-align: right;\">        5.5</td><td style=\"text-align: right;\">        2.4</td><td style=\"text-align: right;\">        3.7</td><td style=\"text-align: right;\">        1  </td><td>Iris-versicolor</td></tr>\n",
       "<tr><td style=\"text-align: right;\">        5.8</td><td style=\"text-align: right;\">        2.7</td><td style=\"text-align: right;\">        3.9</td><td style=\"text-align: right;\">        1.2</td><td>Iris-versicolor</td></tr>\n",
       "<tr><td style=\"text-align: right;\">        6  </td><td style=\"text-align: right;\">        2.7</td><td style=\"text-align: right;\">        5.1</td><td style=\"text-align: right;\">        1.6</td><td>Iris-versicolor</td></tr>\n",
       "<tr><td style=\"text-align: right;\">        6.7</td><td style=\"text-align: right;\">        3.1</td><td style=\"text-align: right;\">        4.7</td><td style=\"text-align: right;\">        1.5</td><td>Iris-versicolor</td></tr>\n",
       "<tr><td style=\"text-align: right;\">        6.3</td><td style=\"text-align: right;\">        2.3</td><td style=\"text-align: right;\">        4.4</td><td style=\"text-align: right;\">        1.3</td><td>Iris-versicolor</td></tr>\n",
       "<tr><td style=\"text-align: right;\">        5.6</td><td style=\"text-align: right;\">        3  </td><td style=\"text-align: right;\">        4.1</td><td style=\"text-align: right;\">        1.3</td><td>Iris-versicolor</td></tr>\n",
       "<tr><td style=\"text-align: right;\">        5.5</td><td style=\"text-align: right;\">        2.5</td><td style=\"text-align: right;\">        4  </td><td style=\"text-align: right;\">        1.3</td><td>Iris-versicolor</td></tr>\n",
       "<tr><td style=\"text-align: right;\">        5.5</td><td style=\"text-align: right;\">        2.6</td><td style=\"text-align: right;\">        4.4</td><td style=\"text-align: right;\">        1.2</td><td>Iris-versicolor</td></tr>\n",
       "<tr><td style=\"text-align: right;\">        6.1</td><td style=\"text-align: right;\">        3  </td><td style=\"text-align: right;\">        4.6</td><td style=\"text-align: right;\">        1.4</td><td>Iris-versicolor</td></tr>\n",
       "<tr><td style=\"text-align: right;\">        5.8</td><td style=\"text-align: right;\">        2.6</td><td style=\"text-align: right;\">        4  </td><td style=\"text-align: right;\">        1.2</td><td>Iris-versicolor</td></tr>\n",
       "<tr><td style=\"text-align: right;\">        5  </td><td style=\"text-align: right;\">        2.3</td><td style=\"text-align: right;\">        3.3</td><td style=\"text-align: right;\">        1  </td><td>Iris-versicolor</td></tr>\n",
       "<tr><td style=\"text-align: right;\">        5.6</td><td style=\"text-align: right;\">        2.7</td><td style=\"text-align: right;\">        4.2</td><td style=\"text-align: right;\">        1.3</td><td>Iris-versicolor</td></tr>\n",
       "<tr><td style=\"text-align: right;\">        5.7</td><td style=\"text-align: right;\">        3  </td><td style=\"text-align: right;\">        4.2</td><td style=\"text-align: right;\">        1.2</td><td>Iris-versicolor</td></tr>\n",
       "<tr><td style=\"text-align: right;\">        5.7</td><td style=\"text-align: right;\">        2.9</td><td style=\"text-align: right;\">        4.2</td><td style=\"text-align: right;\">        1.3</td><td>Iris-versicolor</td></tr>\n",
       "<tr><td style=\"text-align: right;\">        6.2</td><td style=\"text-align: right;\">        2.9</td><td style=\"text-align: right;\">        4.3</td><td style=\"text-align: right;\">        1.3</td><td>Iris-versicolor</td></tr>\n",
       "<tr><td style=\"text-align: right;\">        5.1</td><td style=\"text-align: right;\">        2.5</td><td style=\"text-align: right;\">        3  </td><td style=\"text-align: right;\">        1.1</td><td>Iris-versicolor</td></tr>\n",
       "<tr><td style=\"text-align: right;\">        5.7</td><td style=\"text-align: right;\">        2.8</td><td style=\"text-align: right;\">        4.1</td><td style=\"text-align: right;\">        1.3</td><td>Iris-versicolor</td></tr>\n",
       "<tr><td style=\"text-align: right;\">        6.3</td><td style=\"text-align: right;\">        3.3</td><td style=\"text-align: right;\">        6  </td><td style=\"text-align: right;\">        2.5</td><td>Iris-virginica </td></tr>\n",
       "<tr><td style=\"text-align: right;\">        5.8</td><td style=\"text-align: right;\">        2.7</td><td style=\"text-align: right;\">        5.1</td><td style=\"text-align: right;\">        1.9</td><td>Iris-virginica </td></tr>\n",
       "<tr><td style=\"text-align: right;\">        7.1</td><td style=\"text-align: right;\">        3  </td><td style=\"text-align: right;\">        5.9</td><td style=\"text-align: right;\">        2.1</td><td>Iris-virginica </td></tr>\n",
       "<tr><td style=\"text-align: right;\">        6.3</td><td style=\"text-align: right;\">        2.9</td><td style=\"text-align: right;\">        5.6</td><td style=\"text-align: right;\">        1.8</td><td>Iris-virginica </td></tr>\n",
       "<tr><td style=\"text-align: right;\">        6.5</td><td style=\"text-align: right;\">        3  </td><td style=\"text-align: right;\">        5.8</td><td style=\"text-align: right;\">        2.2</td><td>Iris-virginica </td></tr>\n",
       "<tr><td style=\"text-align: right;\">        4.9</td><td style=\"text-align: right;\">        2.5</td><td style=\"text-align: right;\">        4.5</td><td style=\"text-align: right;\">        1.7</td><td>Iris-virginica </td></tr>\n",
       "<tr><td style=\"text-align: right;\">        7.3</td><td style=\"text-align: right;\">        2.9</td><td style=\"text-align: right;\">        6.3</td><td style=\"text-align: right;\">        1.8</td><td>Iris-virginica </td></tr>\n",
       "<tr><td style=\"text-align: right;\">        6.7</td><td style=\"text-align: right;\">        2.5</td><td style=\"text-align: right;\">        5.8</td><td style=\"text-align: right;\">        1.8</td><td>Iris-virginica </td></tr>\n",
       "<tr><td style=\"text-align: right;\">        6.5</td><td style=\"text-align: right;\">        3.2</td><td style=\"text-align: right;\">        5.1</td><td style=\"text-align: right;\">        2  </td><td>Iris-virginica </td></tr>\n",
       "<tr><td style=\"text-align: right;\">        6.4</td><td style=\"text-align: right;\">        2.7</td><td style=\"text-align: right;\">        5.3</td><td style=\"text-align: right;\">        1.9</td><td>Iris-virginica </td></tr>\n",
       "<tr><td style=\"text-align: right;\">        6.8</td><td style=\"text-align: right;\">        3  </td><td style=\"text-align: right;\">        5.5</td><td style=\"text-align: right;\">        2.1</td><td>Iris-virginica </td></tr>\n",
       "<tr><td style=\"text-align: right;\">        5.7</td><td style=\"text-align: right;\">        2.5</td><td style=\"text-align: right;\">        5  </td><td style=\"text-align: right;\">        2  </td><td>Iris-virginica </td></tr>\n",
       "<tr><td style=\"text-align: right;\">        5.8</td><td style=\"text-align: right;\">        2.8</td><td style=\"text-align: right;\">        5.1</td><td style=\"text-align: right;\">        2.4</td><td>Iris-virginica </td></tr>\n",
       "<tr><td style=\"text-align: right;\">        6.5</td><td style=\"text-align: right;\">        3  </td><td style=\"text-align: right;\">        5.5</td><td style=\"text-align: right;\">        1.8</td><td>Iris-virginica </td></tr>\n",
       "<tr><td style=\"text-align: right;\">        7.7</td><td style=\"text-align: right;\">        3.8</td><td style=\"text-align: right;\">        6.7</td><td style=\"text-align: right;\">        2.2</td><td>Iris-virginica </td></tr>\n",
       "<tr><td style=\"text-align: right;\">        7.7</td><td style=\"text-align: right;\">        2.6</td><td style=\"text-align: right;\">        6.9</td><td style=\"text-align: right;\">        2.3</td><td>Iris-virginica </td></tr>\n",
       "<tr><td style=\"text-align: right;\">        6  </td><td style=\"text-align: right;\">        2.2</td><td style=\"text-align: right;\">        5  </td><td style=\"text-align: right;\">        1.5</td><td>Iris-virginica </td></tr>\n",
       "<tr><td style=\"text-align: right;\">        6.9</td><td style=\"text-align: right;\">        3.2</td><td style=\"text-align: right;\">        5.7</td><td style=\"text-align: right;\">        2.3</td><td>Iris-virginica </td></tr>\n",
       "<tr><td style=\"text-align: right;\">        5.6</td><td style=\"text-align: right;\">        2.8</td><td style=\"text-align: right;\">        4.9</td><td style=\"text-align: right;\">        2  </td><td>Iris-virginica </td></tr>\n",
       "<tr><td style=\"text-align: right;\">        7.7</td><td style=\"text-align: right;\">        2.8</td><td style=\"text-align: right;\">        6.7</td><td style=\"text-align: right;\">        2  </td><td>Iris-virginica </td></tr>\n",
       "<tr><td style=\"text-align: right;\">        6.3</td><td style=\"text-align: right;\">        2.7</td><td style=\"text-align: right;\">        4.9</td><td style=\"text-align: right;\">        1.8</td><td>Iris-virginica </td></tr>\n",
       "<tr><td style=\"text-align: right;\">        7.2</td><td style=\"text-align: right;\">        3.2</td><td style=\"text-align: right;\">        6  </td><td style=\"text-align: right;\">        1.8</td><td>Iris-virginica </td></tr>\n",
       "<tr><td style=\"text-align: right;\">        6.2</td><td style=\"text-align: right;\">        2.8</td><td style=\"text-align: right;\">        4.8</td><td style=\"text-align: right;\">        1.8</td><td>Iris-virginica </td></tr>\n",
       "<tr><td style=\"text-align: right;\">        6.1</td><td style=\"text-align: right;\">        3  </td><td style=\"text-align: right;\">        4.9</td><td style=\"text-align: right;\">        1.8</td><td>Iris-virginica </td></tr>\n",
       "<tr><td style=\"text-align: right;\">        6.4</td><td style=\"text-align: right;\">        2.8</td><td style=\"text-align: right;\">        5.6</td><td style=\"text-align: right;\">        2.1</td><td>Iris-virginica </td></tr>\n",
       "<tr><td style=\"text-align: right;\">        7.2</td><td style=\"text-align: right;\">        3  </td><td style=\"text-align: right;\">        5.8</td><td style=\"text-align: right;\">        1.6</td><td>Iris-virginica </td></tr>\n",
       "<tr><td style=\"text-align: right;\">        7.4</td><td style=\"text-align: right;\">        2.8</td><td style=\"text-align: right;\">        6.1</td><td style=\"text-align: right;\">        1.9</td><td>Iris-virginica </td></tr>\n",
       "<tr><td style=\"text-align: right;\">        7.9</td><td style=\"text-align: right;\">        3.8</td><td style=\"text-align: right;\">        6.4</td><td style=\"text-align: right;\">        2  </td><td>Iris-virginica </td></tr>\n",
       "<tr><td style=\"text-align: right;\">        6.4</td><td style=\"text-align: right;\">        2.8</td><td style=\"text-align: right;\">        5.6</td><td style=\"text-align: right;\">        2.2</td><td>Iris-virginica </td></tr>\n",
       "<tr><td style=\"text-align: right;\">        6.3</td><td style=\"text-align: right;\">        2.8</td><td style=\"text-align: right;\">        5.1</td><td style=\"text-align: right;\">        1.5</td><td>Iris-virginica </td></tr>\n",
       "<tr><td style=\"text-align: right;\">        6.1</td><td style=\"text-align: right;\">        2.6</td><td style=\"text-align: right;\">        5.6</td><td style=\"text-align: right;\">        1.4</td><td>Iris-virginica </td></tr>\n",
       "<tr><td style=\"text-align: right;\">        6.4</td><td style=\"text-align: right;\">        3.1</td><td style=\"text-align: right;\">        5.5</td><td style=\"text-align: right;\">        1.8</td><td>Iris-virginica </td></tr>\n",
       "<tr><td style=\"text-align: right;\">        6  </td><td style=\"text-align: right;\">        3  </td><td style=\"text-align: right;\">        4.8</td><td style=\"text-align: right;\">        1.8</td><td>Iris-virginica </td></tr>\n",
       "<tr><td style=\"text-align: right;\">        6.9</td><td style=\"text-align: right;\">        3.1</td><td style=\"text-align: right;\">        5.4</td><td style=\"text-align: right;\">        2.1</td><td>Iris-virginica </td></tr>\n",
       "<tr><td style=\"text-align: right;\">        6.7</td><td style=\"text-align: right;\">        3.1</td><td style=\"text-align: right;\">        5.6</td><td style=\"text-align: right;\">        2.4</td><td>Iris-virginica </td></tr>\n",
       "<tr><td style=\"text-align: right;\">        6.9</td><td style=\"text-align: right;\">        3.1</td><td style=\"text-align: right;\">        5.1</td><td style=\"text-align: right;\">        2.3</td><td>Iris-virginica </td></tr>\n",
       "<tr><td style=\"text-align: right;\">        5.8</td><td style=\"text-align: right;\">        2.7</td><td style=\"text-align: right;\">        5.1</td><td style=\"text-align: right;\">        1.9</td><td>Iris-virginica </td></tr>\n",
       "<tr><td style=\"text-align: right;\">        6.8</td><td style=\"text-align: right;\">        3.2</td><td style=\"text-align: right;\">        5.9</td><td style=\"text-align: right;\">        2.3</td><td>Iris-virginica </td></tr>\n",
       "<tr><td style=\"text-align: right;\">        6.7</td><td style=\"text-align: right;\">        3.3</td><td style=\"text-align: right;\">        5.7</td><td style=\"text-align: right;\">        2.5</td><td>Iris-virginica </td></tr>\n",
       "<tr><td style=\"text-align: right;\">        6.7</td><td style=\"text-align: right;\">        3  </td><td style=\"text-align: right;\">        5.2</td><td style=\"text-align: right;\">        2.3</td><td>Iris-virginica </td></tr>\n",
       "<tr><td style=\"text-align: right;\">        6.3</td><td style=\"text-align: right;\">        2.5</td><td style=\"text-align: right;\">        5  </td><td style=\"text-align: right;\">        1.9</td><td>Iris-virginica </td></tr>\n",
       "<tr><td style=\"text-align: right;\">        6.5</td><td style=\"text-align: right;\">        3  </td><td style=\"text-align: right;\">        5.2</td><td style=\"text-align: right;\">        2  </td><td>Iris-virginica </td></tr>\n",
       "<tr><td style=\"text-align: right;\">        5.9</td><td style=\"text-align: right;\">        3  </td><td style=\"text-align: right;\">        5.1</td><td style=\"text-align: right;\">        1.8</td><td>Iris-virginica </td></tr>\n",
       "</tbody>\n",
       "</table>"
      ]
     },
     "metadata": {},
     "output_type": "display_data"
    },
    {
     "data": {
      "text/plain": []
     },
     "execution_count": 5,
     "metadata": {},
     "output_type": "execute_result"
    }
   ],
   "source": [
    "#Command to show the Top rows and Columns \n",
    "train.head(150)"
   ]
  },
  {
   "cell_type": "code",
   "execution_count": 6,
   "metadata": {},
   "outputs": [
    {
     "data": {
      "text/html": [
       "<table>\n",
       "<thead>\n",
       "<tr><th>       </th><th>sepal_len         </th><th>sepal_wid        </th><th>petal_len         </th><th>petal_wid         </th><th>class          </th></tr>\n",
       "</thead>\n",
       "<tbody>\n",
       "<tr><td>type   </td><td>real              </td><td>real             </td><td>real              </td><td>real              </td><td>enum           </td></tr>\n",
       "<tr><td>mins   </td><td>4.3               </td><td>2.0              </td><td>1.0               </td><td>0.1               </td><td>               </td></tr>\n",
       "<tr><td>mean   </td><td>5.857500000000002 </td><td>3.043333333333333</td><td>3.8200000000000007</td><td>1.2191666666666663</td><td>               </td></tr>\n",
       "<tr><td>maxs   </td><td>7.9               </td><td>4.4              </td><td>6.9               </td><td>2.5               </td><td>               </td></tr>\n",
       "<tr><td>sigma  </td><td>0.8072843261164415</td><td>0.450719934531138</td><td>1.7390038682480016</td><td>0.7457775631309028</td><td>               </td></tr>\n",
       "<tr><td>zeros  </td><td>0                 </td><td>0                </td><td>0                 </td><td>0                 </td><td>               </td></tr>\n",
       "<tr><td>missing</td><td>0                 </td><td>0                </td><td>0                 </td><td>0                 </td><td>0              </td></tr>\n",
       "<tr><td>0      </td><td>5.1               </td><td>3.5              </td><td>1.4               </td><td>0.2               </td><td>Iris-setosa    </td></tr>\n",
       "<tr><td>1      </td><td>4.7               </td><td>3.2              </td><td>1.3               </td><td>0.2               </td><td>Iris-setosa    </td></tr>\n",
       "<tr><td>2      </td><td>4.6               </td><td>3.1              </td><td>1.5               </td><td>0.2               </td><td>Iris-setosa    </td></tr>\n",
       "<tr><td>3      </td><td>5.0               </td><td>3.6              </td><td>1.4               </td><td>0.2               </td><td>Iris-setosa    </td></tr>\n",
       "<tr><td>4      </td><td>5.4               </td><td>3.9              </td><td>1.7               </td><td>0.4               </td><td>Iris-setosa    </td></tr>\n",
       "<tr><td>5      </td><td>4.6               </td><td>3.4              </td><td>1.4               </td><td>0.3               </td><td>Iris-setosa    </td></tr>\n",
       "<tr><td>6      </td><td>5.0               </td><td>3.4              </td><td>1.5               </td><td>0.2               </td><td>Iris-setosa    </td></tr>\n",
       "<tr><td>7      </td><td>4.4               </td><td>2.9              </td><td>1.4               </td><td>0.2               </td><td>Iris-setosa    </td></tr>\n",
       "<tr><td>8      </td><td>5.4               </td><td>3.7              </td><td>1.5               </td><td>0.2               </td><td>Iris-setosa    </td></tr>\n",
       "<tr><td>9      </td><td>4.8               </td><td>3.4              </td><td>1.6               </td><td>0.2               </td><td>Iris-setosa    </td></tr>\n",
       "<tr><td>10     </td><td>4.8               </td><td>3.0              </td><td>1.4               </td><td>0.1               </td><td>Iris-setosa    </td></tr>\n",
       "<tr><td>11     </td><td>4.3               </td><td>3.0              </td><td>1.1               </td><td>0.1               </td><td>Iris-setosa    </td></tr>\n",
       "<tr><td>12     </td><td>5.8               </td><td>4.0              </td><td>1.2               </td><td>0.2               </td><td>Iris-setosa    </td></tr>\n",
       "<tr><td>13     </td><td>5.7               </td><td>4.4              </td><td>1.5               </td><td>0.4               </td><td>Iris-setosa    </td></tr>\n",
       "<tr><td>14     </td><td>5.4               </td><td>3.9              </td><td>1.3               </td><td>0.4               </td><td>Iris-setosa    </td></tr>\n",
       "<tr><td>15     </td><td>5.7               </td><td>3.8              </td><td>1.7               </td><td>0.3               </td><td>Iris-setosa    </td></tr>\n",
       "<tr><td>16     </td><td>5.1               </td><td>3.8              </td><td>1.5               </td><td>0.3               </td><td>Iris-setosa    </td></tr>\n",
       "<tr><td>17     </td><td>5.4               </td><td>3.4              </td><td>1.7               </td><td>0.2               </td><td>Iris-setosa    </td></tr>\n",
       "<tr><td>18     </td><td>4.6               </td><td>3.6              </td><td>1.0               </td><td>0.2               </td><td>Iris-setosa    </td></tr>\n",
       "<tr><td>19     </td><td>5.1               </td><td>3.3              </td><td>1.7               </td><td>0.5               </td><td>Iris-setosa    </td></tr>\n",
       "<tr><td>20     </td><td>4.8               </td><td>3.4              </td><td>1.9               </td><td>0.2               </td><td>Iris-setosa    </td></tr>\n",
       "<tr><td>21     </td><td>5.0               </td><td>3.0              </td><td>1.6               </td><td>0.2               </td><td>Iris-setosa    </td></tr>\n",
       "<tr><td>22     </td><td>5.0               </td><td>3.4              </td><td>1.6               </td><td>0.4               </td><td>Iris-setosa    </td></tr>\n",
       "<tr><td>23     </td><td>5.2               </td><td>3.4              </td><td>1.4               </td><td>0.2               </td><td>Iris-setosa    </td></tr>\n",
       "<tr><td>24     </td><td>4.7               </td><td>3.2              </td><td>1.6               </td><td>0.2               </td><td>Iris-setosa    </td></tr>\n",
       "<tr><td>25     </td><td>5.4               </td><td>3.4              </td><td>1.5               </td><td>0.4               </td><td>Iris-setosa    </td></tr>\n",
       "<tr><td>26     </td><td>5.2               </td><td>4.1              </td><td>1.5               </td><td>0.1               </td><td>Iris-setosa    </td></tr>\n",
       "<tr><td>27     </td><td>5.5               </td><td>4.2              </td><td>1.4               </td><td>0.2               </td><td>Iris-setosa    </td></tr>\n",
       "<tr><td>28     </td><td>4.9               </td><td>3.1              </td><td>1.5               </td><td>0.1               </td><td>Iris-setosa    </td></tr>\n",
       "<tr><td>29     </td><td>4.9               </td><td>3.1              </td><td>1.5               </td><td>0.1               </td><td>Iris-setosa    </td></tr>\n",
       "<tr><td>30     </td><td>4.4               </td><td>3.0              </td><td>1.3               </td><td>0.2               </td><td>Iris-setosa    </td></tr>\n",
       "<tr><td>31     </td><td>5.0               </td><td>3.5              </td><td>1.3               </td><td>0.3               </td><td>Iris-setosa    </td></tr>\n",
       "<tr><td>32     </td><td>5.0               </td><td>3.5              </td><td>1.6               </td><td>0.6               </td><td>Iris-setosa    </td></tr>\n",
       "<tr><td>33     </td><td>5.1               </td><td>3.8              </td><td>1.9               </td><td>0.4               </td><td>Iris-setosa    </td></tr>\n",
       "<tr><td>34     </td><td>4.8               </td><td>3.0              </td><td>1.4               </td><td>0.3               </td><td>Iris-setosa    </td></tr>\n",
       "<tr><td>35     </td><td>5.1               </td><td>3.8              </td><td>1.6               </td><td>0.2               </td><td>Iris-setosa    </td></tr>\n",
       "<tr><td>36     </td><td>5.3               </td><td>3.7              </td><td>1.5               </td><td>0.2               </td><td>Iris-setosa    </td></tr>\n",
       "<tr><td>37     </td><td>5.0               </td><td>3.3              </td><td>1.4               </td><td>0.2               </td><td>Iris-setosa    </td></tr>\n",
       "<tr><td>38     </td><td>7.0               </td><td>3.2              </td><td>4.7               </td><td>1.4               </td><td>Iris-versicolor</td></tr>\n",
       "<tr><td>39     </td><td>5.5               </td><td>2.3              </td><td>4.0               </td><td>1.3               </td><td>Iris-versicolor</td></tr>\n",
       "<tr><td>40     </td><td>6.5               </td><td>2.8              </td><td>4.6               </td><td>1.5               </td><td>Iris-versicolor</td></tr>\n",
       "<tr><td>41     </td><td>5.7               </td><td>2.8              </td><td>4.5               </td><td>1.3               </td><td>Iris-versicolor</td></tr>\n",
       "<tr><td>42     </td><td>6.3               </td><td>3.3              </td><td>4.7               </td><td>1.6               </td><td>Iris-versicolor</td></tr>\n",
       "<tr><td>43     </td><td>4.9               </td><td>2.4              </td><td>3.3               </td><td>1.0               </td><td>Iris-versicolor</td></tr>\n",
       "<tr><td>44     </td><td>6.6               </td><td>2.9              </td><td>4.6               </td><td>1.3               </td><td>Iris-versicolor</td></tr>\n",
       "<tr><td>45     </td><td>5.0               </td><td>2.0              </td><td>3.5               </td><td>1.0               </td><td>Iris-versicolor</td></tr>\n",
       "<tr><td>46     </td><td>5.9               </td><td>3.0              </td><td>4.2               </td><td>1.5               </td><td>Iris-versicolor</td></tr>\n",
       "<tr><td>47     </td><td>6.0               </td><td>2.2              </td><td>4.0               </td><td>1.0               </td><td>Iris-versicolor</td></tr>\n",
       "<tr><td>48     </td><td>6.1               </td><td>2.9              </td><td>4.7               </td><td>1.4               </td><td>Iris-versicolor</td></tr>\n",
       "<tr><td>49     </td><td>5.6               </td><td>2.9              </td><td>3.6               </td><td>1.3               </td><td>Iris-versicolor</td></tr>\n",
       "<tr><td>50     </td><td>6.7               </td><td>3.1              </td><td>4.4               </td><td>1.4               </td><td>Iris-versicolor</td></tr>\n",
       "<tr><td>51     </td><td>5.6               </td><td>3.0              </td><td>4.5               </td><td>1.5               </td><td>Iris-versicolor</td></tr>\n",
       "<tr><td>52     </td><td>6.2               </td><td>2.2              </td><td>4.5               </td><td>1.5               </td><td>Iris-versicolor</td></tr>\n",
       "<tr><td>53     </td><td>5.6               </td><td>2.5              </td><td>3.9               </td><td>1.1               </td><td>Iris-versicolor</td></tr>\n",
       "<tr><td>54     </td><td>5.9               </td><td>3.2              </td><td>4.8               </td><td>1.8               </td><td>Iris-versicolor</td></tr>\n",
       "<tr><td>55     </td><td>6.1               </td><td>2.8              </td><td>4.0               </td><td>1.3               </td><td>Iris-versicolor</td></tr>\n",
       "<tr><td>56     </td><td>6.1               </td><td>2.8              </td><td>4.7               </td><td>1.2               </td><td>Iris-versicolor</td></tr>\n",
       "<tr><td>57     </td><td>6.6               </td><td>3.0              </td><td>4.4               </td><td>1.4               </td><td>Iris-versicolor</td></tr>\n",
       "<tr><td>58     </td><td>6.7               </td><td>3.0              </td><td>5.0               </td><td>1.7               </td><td>Iris-versicolor</td></tr>\n",
       "<tr><td>59     </td><td>6.0               </td><td>2.9              </td><td>4.5               </td><td>1.5               </td><td>Iris-versicolor</td></tr>\n",
       "<tr><td>60     </td><td>5.5               </td><td>2.4              </td><td>3.7               </td><td>1.0               </td><td>Iris-versicolor</td></tr>\n",
       "<tr><td>61     </td><td>5.8               </td><td>2.7              </td><td>3.9               </td><td>1.2               </td><td>Iris-versicolor</td></tr>\n",
       "<tr><td>62     </td><td>6.0               </td><td>2.7              </td><td>5.1               </td><td>1.6               </td><td>Iris-versicolor</td></tr>\n",
       "<tr><td>63     </td><td>6.7               </td><td>3.1              </td><td>4.7               </td><td>1.5               </td><td>Iris-versicolor</td></tr>\n",
       "<tr><td>64     </td><td>6.3               </td><td>2.3              </td><td>4.4               </td><td>1.3               </td><td>Iris-versicolor</td></tr>\n",
       "<tr><td>65     </td><td>5.6               </td><td>3.0              </td><td>4.1               </td><td>1.3               </td><td>Iris-versicolor</td></tr>\n",
       "<tr><td>66     </td><td>5.5               </td><td>2.5              </td><td>4.0               </td><td>1.3               </td><td>Iris-versicolor</td></tr>\n",
       "<tr><td>67     </td><td>5.5               </td><td>2.6              </td><td>4.4               </td><td>1.2               </td><td>Iris-versicolor</td></tr>\n",
       "<tr><td>68     </td><td>6.1               </td><td>3.0              </td><td>4.6               </td><td>1.4               </td><td>Iris-versicolor</td></tr>\n",
       "<tr><td>69     </td><td>5.8               </td><td>2.6              </td><td>4.0               </td><td>1.2               </td><td>Iris-versicolor</td></tr>\n",
       "<tr><td>70     </td><td>5.0               </td><td>2.3              </td><td>3.3               </td><td>1.0               </td><td>Iris-versicolor</td></tr>\n",
       "<tr><td>71     </td><td>5.6               </td><td>2.7              </td><td>4.2               </td><td>1.3               </td><td>Iris-versicolor</td></tr>\n",
       "<tr><td>72     </td><td>5.7               </td><td>3.0              </td><td>4.2               </td><td>1.2               </td><td>Iris-versicolor</td></tr>\n",
       "<tr><td>73     </td><td>5.7               </td><td>2.9              </td><td>4.2               </td><td>1.3               </td><td>Iris-versicolor</td></tr>\n",
       "<tr><td>74     </td><td>6.2               </td><td>2.9              </td><td>4.3               </td><td>1.3               </td><td>Iris-versicolor</td></tr>\n",
       "<tr><td>75     </td><td>5.1               </td><td>2.5              </td><td>3.0               </td><td>1.1               </td><td>Iris-versicolor</td></tr>\n",
       "<tr><td>76     </td><td>5.7               </td><td>2.8              </td><td>4.1               </td><td>1.3               </td><td>Iris-versicolor</td></tr>\n",
       "<tr><td>77     </td><td>6.3               </td><td>3.3              </td><td>6.0               </td><td>2.5               </td><td>Iris-virginica </td></tr>\n",
       "<tr><td>78     </td><td>5.8               </td><td>2.7              </td><td>5.1               </td><td>1.9               </td><td>Iris-virginica </td></tr>\n",
       "<tr><td>79     </td><td>7.1               </td><td>3.0              </td><td>5.9               </td><td>2.1               </td><td>Iris-virginica </td></tr>\n",
       "<tr><td>80     </td><td>6.3               </td><td>2.9              </td><td>5.6               </td><td>1.8               </td><td>Iris-virginica </td></tr>\n",
       "<tr><td>81     </td><td>6.5               </td><td>3.0              </td><td>5.8               </td><td>2.2               </td><td>Iris-virginica </td></tr>\n",
       "<tr><td>82     </td><td>4.9               </td><td>2.5              </td><td>4.5               </td><td>1.7               </td><td>Iris-virginica </td></tr>\n",
       "<tr><td>83     </td><td>7.3               </td><td>2.9              </td><td>6.3               </td><td>1.8               </td><td>Iris-virginica </td></tr>\n",
       "<tr><td>84     </td><td>6.7               </td><td>2.5              </td><td>5.8               </td><td>1.8               </td><td>Iris-virginica </td></tr>\n",
       "<tr><td>85     </td><td>6.5               </td><td>3.2              </td><td>5.1               </td><td>2.0               </td><td>Iris-virginica </td></tr>\n",
       "<tr><td>86     </td><td>6.4               </td><td>2.7              </td><td>5.3               </td><td>1.9               </td><td>Iris-virginica </td></tr>\n",
       "<tr><td>87     </td><td>6.8               </td><td>3.0              </td><td>5.5               </td><td>2.1               </td><td>Iris-virginica </td></tr>\n",
       "<tr><td>88     </td><td>5.7               </td><td>2.5              </td><td>5.0               </td><td>2.0               </td><td>Iris-virginica </td></tr>\n",
       "<tr><td>89     </td><td>5.8               </td><td>2.8              </td><td>5.1               </td><td>2.4               </td><td>Iris-virginica </td></tr>\n",
       "<tr><td>90     </td><td>6.5               </td><td>3.0              </td><td>5.5               </td><td>1.8               </td><td>Iris-virginica </td></tr>\n",
       "<tr><td>91     </td><td>7.7               </td><td>3.8              </td><td>6.7               </td><td>2.2               </td><td>Iris-virginica </td></tr>\n",
       "<tr><td>92     </td><td>7.7               </td><td>2.6              </td><td>6.9               </td><td>2.3               </td><td>Iris-virginica </td></tr>\n",
       "<tr><td>93     </td><td>6.0               </td><td>2.2              </td><td>5.0               </td><td>1.5               </td><td>Iris-virginica </td></tr>\n",
       "<tr><td>94     </td><td>6.9               </td><td>3.2              </td><td>5.7               </td><td>2.3               </td><td>Iris-virginica </td></tr>\n",
       "<tr><td>95     </td><td>5.6               </td><td>2.8              </td><td>4.9               </td><td>2.0               </td><td>Iris-virginica </td></tr>\n",
       "<tr><td>96     </td><td>7.7               </td><td>2.8              </td><td>6.7               </td><td>2.0               </td><td>Iris-virginica </td></tr>\n",
       "<tr><td>97     </td><td>6.3               </td><td>2.7              </td><td>4.9               </td><td>1.8               </td><td>Iris-virginica </td></tr>\n",
       "<tr><td>98     </td><td>7.2               </td><td>3.2              </td><td>6.0               </td><td>1.8               </td><td>Iris-virginica </td></tr>\n",
       "<tr><td>99     </td><td>6.2               </td><td>2.8              </td><td>4.8               </td><td>1.8               </td><td>Iris-virginica </td></tr>\n",
       "<tr><td>100    </td><td>6.1               </td><td>3.0              </td><td>4.9               </td><td>1.8               </td><td>Iris-virginica </td></tr>\n",
       "<tr><td>101    </td><td>6.4               </td><td>2.8              </td><td>5.6               </td><td>2.1               </td><td>Iris-virginica </td></tr>\n",
       "<tr><td>102    </td><td>7.2               </td><td>3.0              </td><td>5.8               </td><td>1.6               </td><td>Iris-virginica </td></tr>\n",
       "<tr><td>103    </td><td>7.4               </td><td>2.8              </td><td>6.1               </td><td>1.9               </td><td>Iris-virginica </td></tr>\n",
       "<tr><td>104    </td><td>7.9               </td><td>3.8              </td><td>6.4               </td><td>2.0               </td><td>Iris-virginica </td></tr>\n",
       "<tr><td>105    </td><td>6.4               </td><td>2.8              </td><td>5.6               </td><td>2.2               </td><td>Iris-virginica </td></tr>\n",
       "<tr><td>106    </td><td>6.3               </td><td>2.8              </td><td>5.1               </td><td>1.5               </td><td>Iris-virginica </td></tr>\n",
       "<tr><td>107    </td><td>6.1               </td><td>2.6              </td><td>5.6               </td><td>1.4               </td><td>Iris-virginica </td></tr>\n",
       "<tr><td>108    </td><td>6.4               </td><td>3.1              </td><td>5.5               </td><td>1.8               </td><td>Iris-virginica </td></tr>\n",
       "<tr><td>109    </td><td>6.0               </td><td>3.0              </td><td>4.8               </td><td>1.8               </td><td>Iris-virginica </td></tr>\n",
       "<tr><td>110    </td><td>6.9               </td><td>3.1              </td><td>5.4               </td><td>2.1               </td><td>Iris-virginica </td></tr>\n",
       "<tr><td>111    </td><td>6.7               </td><td>3.1              </td><td>5.6               </td><td>2.4               </td><td>Iris-virginica </td></tr>\n",
       "<tr><td>112    </td><td>6.9               </td><td>3.1              </td><td>5.1               </td><td>2.3               </td><td>Iris-virginica </td></tr>\n",
       "<tr><td>113    </td><td>5.8               </td><td>2.7              </td><td>5.1               </td><td>1.9               </td><td>Iris-virginica </td></tr>\n",
       "<tr><td>114    </td><td>6.8               </td><td>3.2              </td><td>5.9               </td><td>2.3               </td><td>Iris-virginica </td></tr>\n",
       "<tr><td>115    </td><td>6.7               </td><td>3.3              </td><td>5.7               </td><td>2.5               </td><td>Iris-virginica </td></tr>\n",
       "<tr><td>116    </td><td>6.7               </td><td>3.0              </td><td>5.2               </td><td>2.3               </td><td>Iris-virginica </td></tr>\n",
       "<tr><td>117    </td><td>6.3               </td><td>2.5              </td><td>5.0               </td><td>1.9               </td><td>Iris-virginica </td></tr>\n",
       "<tr><td>118    </td><td>6.5               </td><td>3.0              </td><td>5.2               </td><td>2.0               </td><td>Iris-virginica </td></tr>\n",
       "<tr><td>119    </td><td>5.9               </td><td>3.0              </td><td>5.1               </td><td>1.8               </td><td>Iris-virginica </td></tr>\n",
       "</tbody>\n",
       "</table>"
      ]
     },
     "metadata": {},
     "output_type": "display_data"
    }
   ],
   "source": [
    "#Command to see the train summary \n",
    "train.summary()"
   ]
  },
  {
   "cell_type": "code",
   "execution_count": 7,
   "metadata": {},
   "outputs": [
    {
     "data": {
      "text/plain": [
       "120"
      ]
     },
     "execution_count": 7,
     "metadata": {},
     "output_type": "execute_result"
    }
   ],
   "source": [
    "#Number of rows in training set  \n",
    "train.nrows"
   ]
  },
  {
   "cell_type": "code",
   "execution_count": 8,
   "metadata": {},
   "outputs": [
    {
     "data": {
      "text/plain": [
       "30"
      ]
     },
     "execution_count": 8,
     "metadata": {},
     "output_type": "execute_result"
    }
   ],
   "source": [
    "#Number of rows in testing set \n",
    "test.nrows"
   ]
  },
  {
   "cell_type": "code",
   "execution_count": 9,
   "metadata": {},
   "outputs": [],
   "source": [
    "from h2o.automl import H2OAutoML"
   ]
  },
  {
   "cell_type": "code",
   "execution_count": 10,
   "metadata": {},
   "outputs": [
    {
     "name": "stdout",
     "output_type": "stream",
     "text": [
      "AutoML progress: |████████████████████████████"
     ]
    },
    {
     "ename": "H2OConnectionError",
     "evalue": "Unexpected HTTP error: HTTPConnectionPool(host='localhost', port=54321): Max retries exceeded with url: /3/Jobs/$03017f00000132d4ffffffff$_af86bf79675af6b9bd2512029e364a5b (Caused by NewConnectionError('<urllib3.connection.HTTPConnection object at 0x0BF188F0>: Failed to establish a new connection: [WinError 10061] No connection could be made because the target machine actively refused it',))",
     "output_type": "error",
     "traceback": [
      "\u001b[1;31m---------------------------------------------------------------------------\u001b[0m",
      "\u001b[1;31mConnectionRefusedError\u001b[0m                    Traceback (most recent call last)",
      "\u001b[1;32mc:\\users\\hitesh_n\\appdata\\local\\programs\\python\\python36-32\\lib\\site-packages\\urllib3\\connection.py\u001b[0m in \u001b[0;36m_new_conn\u001b[1;34m(self)\u001b[0m\n\u001b[0;32m    140\u001b[0m             conn = connection.create_connection(\n\u001b[1;32m--> 141\u001b[1;33m                 (self.host, self.port), self.timeout, **extra_kw)\n\u001b[0m\u001b[0;32m    142\u001b[0m \u001b[1;33m\u001b[0m\u001b[0m\n",
      "\u001b[1;32mc:\\users\\hitesh_n\\appdata\\local\\programs\\python\\python36-32\\lib\\site-packages\\urllib3\\util\\connection.py\u001b[0m in \u001b[0;36mcreate_connection\u001b[1;34m(address, timeout, source_address, socket_options)\u001b[0m\n\u001b[0;32m     82\u001b[0m     \u001b[1;32mif\u001b[0m \u001b[0merr\u001b[0m \u001b[1;32mis\u001b[0m \u001b[1;32mnot\u001b[0m \u001b[1;32mNone\u001b[0m\u001b[1;33m:\u001b[0m\u001b[1;33m\u001b[0m\u001b[0m\n\u001b[1;32m---> 83\u001b[1;33m         \u001b[1;32mraise\u001b[0m \u001b[0merr\u001b[0m\u001b[1;33m\u001b[0m\u001b[0m\n\u001b[0m\u001b[0;32m     84\u001b[0m \u001b[1;33m\u001b[0m\u001b[0m\n",
      "\u001b[1;32mc:\\users\\hitesh_n\\appdata\\local\\programs\\python\\python36-32\\lib\\site-packages\\urllib3\\util\\connection.py\u001b[0m in \u001b[0;36mcreate_connection\u001b[1;34m(address, timeout, source_address, socket_options)\u001b[0m\n\u001b[0;32m     72\u001b[0m                 \u001b[0msock\u001b[0m\u001b[1;33m.\u001b[0m\u001b[0mbind\u001b[0m\u001b[1;33m(\u001b[0m\u001b[0msource_address\u001b[0m\u001b[1;33m)\u001b[0m\u001b[1;33m\u001b[0m\u001b[0m\n\u001b[1;32m---> 73\u001b[1;33m             \u001b[0msock\u001b[0m\u001b[1;33m.\u001b[0m\u001b[0mconnect\u001b[0m\u001b[1;33m(\u001b[0m\u001b[0msa\u001b[0m\u001b[1;33m)\u001b[0m\u001b[1;33m\u001b[0m\u001b[0m\n\u001b[0m\u001b[0;32m     74\u001b[0m             \u001b[1;32mreturn\u001b[0m \u001b[0msock\u001b[0m\u001b[1;33m\u001b[0m\u001b[0m\n",
      "\u001b[1;31mConnectionRefusedError\u001b[0m: [WinError 10061] No connection could be made because the target machine actively refused it",
      "\nDuring handling of the above exception, another exception occurred:\n",
      "\u001b[1;31mNewConnectionError\u001b[0m                        Traceback (most recent call last)",
      "\u001b[1;32mc:\\users\\hitesh_n\\appdata\\local\\programs\\python\\python36-32\\lib\\site-packages\\urllib3\\connectionpool.py\u001b[0m in \u001b[0;36murlopen\u001b[1;34m(self, method, url, body, headers, retries, redirect, assert_same_host, timeout, pool_timeout, release_conn, chunked, body_pos, **response_kw)\u001b[0m\n\u001b[0;32m    600\u001b[0m                                                   \u001b[0mbody\u001b[0m\u001b[1;33m=\u001b[0m\u001b[0mbody\u001b[0m\u001b[1;33m,\u001b[0m \u001b[0mheaders\u001b[0m\u001b[1;33m=\u001b[0m\u001b[0mheaders\u001b[0m\u001b[1;33m,\u001b[0m\u001b[1;33m\u001b[0m\u001b[0m\n\u001b[1;32m--> 601\u001b[1;33m                                                   chunked=chunked)\n\u001b[0m\u001b[0;32m    602\u001b[0m \u001b[1;33m\u001b[0m\u001b[0m\n",
      "\u001b[1;32mc:\\users\\hitesh_n\\appdata\\local\\programs\\python\\python36-32\\lib\\site-packages\\urllib3\\connectionpool.py\u001b[0m in \u001b[0;36m_make_request\u001b[1;34m(self, conn, method, url, timeout, chunked, **httplib_request_kw)\u001b[0m\n\u001b[0;32m    356\u001b[0m         \u001b[1;32melse\u001b[0m\u001b[1;33m:\u001b[0m\u001b[1;33m\u001b[0m\u001b[0m\n\u001b[1;32m--> 357\u001b[1;33m             \u001b[0mconn\u001b[0m\u001b[1;33m.\u001b[0m\u001b[0mrequest\u001b[0m\u001b[1;33m(\u001b[0m\u001b[0mmethod\u001b[0m\u001b[1;33m,\u001b[0m \u001b[0murl\u001b[0m\u001b[1;33m,\u001b[0m \u001b[1;33m**\u001b[0m\u001b[0mhttplib_request_kw\u001b[0m\u001b[1;33m)\u001b[0m\u001b[1;33m\u001b[0m\u001b[0m\n\u001b[0m\u001b[0;32m    358\u001b[0m \u001b[1;33m\u001b[0m\u001b[0m\n",
      "\u001b[1;32mc:\\users\\hitesh_n\\appdata\\local\\programs\\python\\python36-32\\lib\\http\\client.py\u001b[0m in \u001b[0;36mrequest\u001b[1;34m(self, method, url, body, headers, encode_chunked)\u001b[0m\n\u001b[0;32m   1238\u001b[0m         \u001b[1;34m\"\"\"Send a complete request to the server.\"\"\"\u001b[0m\u001b[1;33m\u001b[0m\u001b[0m\n\u001b[1;32m-> 1239\u001b[1;33m         \u001b[0mself\u001b[0m\u001b[1;33m.\u001b[0m\u001b[0m_send_request\u001b[0m\u001b[1;33m(\u001b[0m\u001b[0mmethod\u001b[0m\u001b[1;33m,\u001b[0m \u001b[0murl\u001b[0m\u001b[1;33m,\u001b[0m \u001b[0mbody\u001b[0m\u001b[1;33m,\u001b[0m \u001b[0mheaders\u001b[0m\u001b[1;33m,\u001b[0m \u001b[0mencode_chunked\u001b[0m\u001b[1;33m)\u001b[0m\u001b[1;33m\u001b[0m\u001b[0m\n\u001b[0m\u001b[0;32m   1240\u001b[0m \u001b[1;33m\u001b[0m\u001b[0m\n",
      "\u001b[1;32mc:\\users\\hitesh_n\\appdata\\local\\programs\\python\\python36-32\\lib\\http\\client.py\u001b[0m in \u001b[0;36m_send_request\u001b[1;34m(self, method, url, body, headers, encode_chunked)\u001b[0m\n\u001b[0;32m   1284\u001b[0m             \u001b[0mbody\u001b[0m \u001b[1;33m=\u001b[0m \u001b[0m_encode\u001b[0m\u001b[1;33m(\u001b[0m\u001b[0mbody\u001b[0m\u001b[1;33m,\u001b[0m \u001b[1;34m'body'\u001b[0m\u001b[1;33m)\u001b[0m\u001b[1;33m\u001b[0m\u001b[0m\n\u001b[1;32m-> 1285\u001b[1;33m         \u001b[0mself\u001b[0m\u001b[1;33m.\u001b[0m\u001b[0mendheaders\u001b[0m\u001b[1;33m(\u001b[0m\u001b[0mbody\u001b[0m\u001b[1;33m,\u001b[0m \u001b[0mencode_chunked\u001b[0m\u001b[1;33m=\u001b[0m\u001b[0mencode_chunked\u001b[0m\u001b[1;33m)\u001b[0m\u001b[1;33m\u001b[0m\u001b[0m\n\u001b[0m\u001b[0;32m   1286\u001b[0m \u001b[1;33m\u001b[0m\u001b[0m\n",
      "\u001b[1;32mc:\\users\\hitesh_n\\appdata\\local\\programs\\python\\python36-32\\lib\\http\\client.py\u001b[0m in \u001b[0;36mendheaders\u001b[1;34m(self, message_body, encode_chunked)\u001b[0m\n\u001b[0;32m   1233\u001b[0m             \u001b[1;32mraise\u001b[0m \u001b[0mCannotSendHeader\u001b[0m\u001b[1;33m(\u001b[0m\u001b[1;33m)\u001b[0m\u001b[1;33m\u001b[0m\u001b[0m\n\u001b[1;32m-> 1234\u001b[1;33m         \u001b[0mself\u001b[0m\u001b[1;33m.\u001b[0m\u001b[0m_send_output\u001b[0m\u001b[1;33m(\u001b[0m\u001b[0mmessage_body\u001b[0m\u001b[1;33m,\u001b[0m \u001b[0mencode_chunked\u001b[0m\u001b[1;33m=\u001b[0m\u001b[0mencode_chunked\u001b[0m\u001b[1;33m)\u001b[0m\u001b[1;33m\u001b[0m\u001b[0m\n\u001b[0m\u001b[0;32m   1235\u001b[0m \u001b[1;33m\u001b[0m\u001b[0m\n",
      "\u001b[1;32mc:\\users\\hitesh_n\\appdata\\local\\programs\\python\\python36-32\\lib\\http\\client.py\u001b[0m in \u001b[0;36m_send_output\u001b[1;34m(self, message_body, encode_chunked)\u001b[0m\n\u001b[0;32m   1025\u001b[0m         \u001b[1;32mdel\u001b[0m \u001b[0mself\u001b[0m\u001b[1;33m.\u001b[0m\u001b[0m_buffer\u001b[0m\u001b[1;33m[\u001b[0m\u001b[1;33m:\u001b[0m\u001b[1;33m]\u001b[0m\u001b[1;33m\u001b[0m\u001b[0m\n\u001b[1;32m-> 1026\u001b[1;33m         \u001b[0mself\u001b[0m\u001b[1;33m.\u001b[0m\u001b[0msend\u001b[0m\u001b[1;33m(\u001b[0m\u001b[0mmsg\u001b[0m\u001b[1;33m)\u001b[0m\u001b[1;33m\u001b[0m\u001b[0m\n\u001b[0m\u001b[0;32m   1027\u001b[0m \u001b[1;33m\u001b[0m\u001b[0m\n",
      "\u001b[1;32mc:\\users\\hitesh_n\\appdata\\local\\programs\\python\\python36-32\\lib\\http\\client.py\u001b[0m in \u001b[0;36msend\u001b[1;34m(self, data)\u001b[0m\n\u001b[0;32m    963\u001b[0m             \u001b[1;32mif\u001b[0m \u001b[0mself\u001b[0m\u001b[1;33m.\u001b[0m\u001b[0mauto_open\u001b[0m\u001b[1;33m:\u001b[0m\u001b[1;33m\u001b[0m\u001b[0m\n\u001b[1;32m--> 964\u001b[1;33m                 \u001b[0mself\u001b[0m\u001b[1;33m.\u001b[0m\u001b[0mconnect\u001b[0m\u001b[1;33m(\u001b[0m\u001b[1;33m)\u001b[0m\u001b[1;33m\u001b[0m\u001b[0m\n\u001b[0m\u001b[0;32m    965\u001b[0m             \u001b[1;32melse\u001b[0m\u001b[1;33m:\u001b[0m\u001b[1;33m\u001b[0m\u001b[0m\n",
      "\u001b[1;32mc:\\users\\hitesh_n\\appdata\\local\\programs\\python\\python36-32\\lib\\site-packages\\urllib3\\connection.py\u001b[0m in \u001b[0;36mconnect\u001b[1;34m(self)\u001b[0m\n\u001b[0;32m    165\u001b[0m     \u001b[1;32mdef\u001b[0m \u001b[0mconnect\u001b[0m\u001b[1;33m(\u001b[0m\u001b[0mself\u001b[0m\u001b[1;33m)\u001b[0m\u001b[1;33m:\u001b[0m\u001b[1;33m\u001b[0m\u001b[0m\n\u001b[1;32m--> 166\u001b[1;33m         \u001b[0mconn\u001b[0m \u001b[1;33m=\u001b[0m \u001b[0mself\u001b[0m\u001b[1;33m.\u001b[0m\u001b[0m_new_conn\u001b[0m\u001b[1;33m(\u001b[0m\u001b[1;33m)\u001b[0m\u001b[1;33m\u001b[0m\u001b[0m\n\u001b[0m\u001b[0;32m    167\u001b[0m         \u001b[0mself\u001b[0m\u001b[1;33m.\u001b[0m\u001b[0m_prepare_conn\u001b[0m\u001b[1;33m(\u001b[0m\u001b[0mconn\u001b[0m\u001b[1;33m)\u001b[0m\u001b[1;33m\u001b[0m\u001b[0m\n",
      "\u001b[1;32mc:\\users\\hitesh_n\\appdata\\local\\programs\\python\\python36-32\\lib\\site-packages\\urllib3\\connection.py\u001b[0m in \u001b[0;36m_new_conn\u001b[1;34m(self)\u001b[0m\n\u001b[0;32m    149\u001b[0m             raise NewConnectionError(\n\u001b[1;32m--> 150\u001b[1;33m                 self, \"Failed to establish a new connection: %s\" % e)\n\u001b[0m\u001b[0;32m    151\u001b[0m \u001b[1;33m\u001b[0m\u001b[0m\n",
      "\u001b[1;31mNewConnectionError\u001b[0m: <urllib3.connection.HTTPConnection object at 0x0BF188F0>: Failed to establish a new connection: [WinError 10061] No connection could be made because the target machine actively refused it",
      "\nDuring handling of the above exception, another exception occurred:\n",
      "\u001b[1;31mMaxRetryError\u001b[0m                             Traceback (most recent call last)",
      "\u001b[1;32mc:\\users\\hitesh_n\\appdata\\local\\programs\\python\\python36-32\\lib\\site-packages\\requests\\adapters.py\u001b[0m in \u001b[0;36msend\u001b[1;34m(self, request, stream, timeout, verify, cert, proxies)\u001b[0m\n\u001b[0;32m    439\u001b[0m                     \u001b[0mretries\u001b[0m\u001b[1;33m=\u001b[0m\u001b[0mself\u001b[0m\u001b[1;33m.\u001b[0m\u001b[0mmax_retries\u001b[0m\u001b[1;33m,\u001b[0m\u001b[1;33m\u001b[0m\u001b[0m\n\u001b[1;32m--> 440\u001b[1;33m                     \u001b[0mtimeout\u001b[0m\u001b[1;33m=\u001b[0m\u001b[0mtimeout\u001b[0m\u001b[1;33m\u001b[0m\u001b[0m\n\u001b[0m\u001b[0;32m    441\u001b[0m                 )\n",
      "\u001b[1;32mc:\\users\\hitesh_n\\appdata\\local\\programs\\python\\python36-32\\lib\\site-packages\\urllib3\\connectionpool.py\u001b[0m in \u001b[0;36murlopen\u001b[1;34m(self, method, url, body, headers, retries, redirect, assert_same_host, timeout, pool_timeout, release_conn, chunked, body_pos, **response_kw)\u001b[0m\n\u001b[0;32m    638\u001b[0m             retries = retries.increment(method, url, error=e, _pool=self,\n\u001b[1;32m--> 639\u001b[1;33m                                         _stacktrace=sys.exc_info()[2])\n\u001b[0m\u001b[0;32m    640\u001b[0m             \u001b[0mretries\u001b[0m\u001b[1;33m.\u001b[0m\u001b[0msleep\u001b[0m\u001b[1;33m(\u001b[0m\u001b[1;33m)\u001b[0m\u001b[1;33m\u001b[0m\u001b[0m\n",
      "\u001b[1;32mc:\\users\\hitesh_n\\appdata\\local\\programs\\python\\python36-32\\lib\\site-packages\\urllib3\\util\\retry.py\u001b[0m in \u001b[0;36mincrement\u001b[1;34m(self, method, url, response, error, _pool, _stacktrace)\u001b[0m\n\u001b[0;32m    387\u001b[0m         \u001b[1;32mif\u001b[0m \u001b[0mnew_retry\u001b[0m\u001b[1;33m.\u001b[0m\u001b[0mis_exhausted\u001b[0m\u001b[1;33m(\u001b[0m\u001b[1;33m)\u001b[0m\u001b[1;33m:\u001b[0m\u001b[1;33m\u001b[0m\u001b[0m\n\u001b[1;32m--> 388\u001b[1;33m             \u001b[1;32mraise\u001b[0m \u001b[0mMaxRetryError\u001b[0m\u001b[1;33m(\u001b[0m\u001b[0m_pool\u001b[0m\u001b[1;33m,\u001b[0m \u001b[0murl\u001b[0m\u001b[1;33m,\u001b[0m \u001b[0merror\u001b[0m \u001b[1;32mor\u001b[0m \u001b[0mResponseError\u001b[0m\u001b[1;33m(\u001b[0m\u001b[0mcause\u001b[0m\u001b[1;33m)\u001b[0m\u001b[1;33m)\u001b[0m\u001b[1;33m\u001b[0m\u001b[0m\n\u001b[0m\u001b[0;32m    389\u001b[0m \u001b[1;33m\u001b[0m\u001b[0m\n",
      "\u001b[1;31mMaxRetryError\u001b[0m: HTTPConnectionPool(host='localhost', port=54321): Max retries exceeded with url: /3/Jobs/$03017f00000132d4ffffffff$_af86bf79675af6b9bd2512029e364a5b (Caused by NewConnectionError('<urllib3.connection.HTTPConnection object at 0x0BF188F0>: Failed to establish a new connection: [WinError 10061] No connection could be made because the target machine actively refused it',))",
      "\nDuring handling of the above exception, another exception occurred:\n",
      "\u001b[1;31mConnectionError\u001b[0m                           Traceback (most recent call last)",
      "\u001b[1;32mc:\\users\\hitesh_n\\appdata\\local\\programs\\python\\python36-32\\lib\\site-packages\\h2o\\backend\\connection.py\u001b[0m in \u001b[0;36mrequest\u001b[1;34m(self, endpoint, data, json, filename, save_to)\u001b[0m\n\u001b[0;32m    399\u001b[0m                                     \u001b[0mheaders\u001b[0m\u001b[1;33m=\u001b[0m\u001b[0mheaders\u001b[0m\u001b[1;33m,\u001b[0m \u001b[0mtimeout\u001b[0m\u001b[1;33m=\u001b[0m\u001b[0mself\u001b[0m\u001b[1;33m.\u001b[0m\u001b[0m_timeout\u001b[0m\u001b[1;33m,\u001b[0m \u001b[0mstream\u001b[0m\u001b[1;33m=\u001b[0m\u001b[0mstream\u001b[0m\u001b[1;33m,\u001b[0m\u001b[1;33m\u001b[0m\u001b[0m\n\u001b[1;32m--> 400\u001b[1;33m                                     auth=self._auth, verify=self._verify_ssl_cert, proxies=self._proxies)\n\u001b[0m\u001b[0;32m    401\u001b[0m             \u001b[0mself\u001b[0m\u001b[1;33m.\u001b[0m\u001b[0m_log_end_transaction\u001b[0m\u001b[1;33m(\u001b[0m\u001b[0mstart_time\u001b[0m\u001b[1;33m,\u001b[0m \u001b[0mresp\u001b[0m\u001b[1;33m)\u001b[0m\u001b[1;33m\u001b[0m\u001b[0m\n",
      "\u001b[1;32mc:\\users\\hitesh_n\\appdata\\local\\programs\\python\\python36-32\\lib\\site-packages\\requests\\api.py\u001b[0m in \u001b[0;36mrequest\u001b[1;34m(method, url, **kwargs)\u001b[0m\n\u001b[0;32m     57\u001b[0m     \u001b[1;32mwith\u001b[0m \u001b[0msessions\u001b[0m\u001b[1;33m.\u001b[0m\u001b[0mSession\u001b[0m\u001b[1;33m(\u001b[0m\u001b[1;33m)\u001b[0m \u001b[1;32mas\u001b[0m \u001b[0msession\u001b[0m\u001b[1;33m:\u001b[0m\u001b[1;33m\u001b[0m\u001b[0m\n\u001b[1;32m---> 58\u001b[1;33m         \u001b[1;32mreturn\u001b[0m \u001b[0msession\u001b[0m\u001b[1;33m.\u001b[0m\u001b[0mrequest\u001b[0m\u001b[1;33m(\u001b[0m\u001b[0mmethod\u001b[0m\u001b[1;33m=\u001b[0m\u001b[0mmethod\u001b[0m\u001b[1;33m,\u001b[0m \u001b[0murl\u001b[0m\u001b[1;33m=\u001b[0m\u001b[0murl\u001b[0m\u001b[1;33m,\u001b[0m \u001b[1;33m**\u001b[0m\u001b[0mkwargs\u001b[0m\u001b[1;33m)\u001b[0m\u001b[1;33m\u001b[0m\u001b[0m\n\u001b[0m\u001b[0;32m     59\u001b[0m \u001b[1;33m\u001b[0m\u001b[0m\n",
      "\u001b[1;32mc:\\users\\hitesh_n\\appdata\\local\\programs\\python\\python36-32\\lib\\site-packages\\requests\\sessions.py\u001b[0m in \u001b[0;36mrequest\u001b[1;34m(self, method, url, params, data, headers, cookies, files, auth, timeout, allow_redirects, proxies, hooks, stream, verify, cert, json)\u001b[0m\n\u001b[0;32m    507\u001b[0m         \u001b[0msend_kwargs\u001b[0m\u001b[1;33m.\u001b[0m\u001b[0mupdate\u001b[0m\u001b[1;33m(\u001b[0m\u001b[0msettings\u001b[0m\u001b[1;33m)\u001b[0m\u001b[1;33m\u001b[0m\u001b[0m\n\u001b[1;32m--> 508\u001b[1;33m         \u001b[0mresp\u001b[0m \u001b[1;33m=\u001b[0m \u001b[0mself\u001b[0m\u001b[1;33m.\u001b[0m\u001b[0msend\u001b[0m\u001b[1;33m(\u001b[0m\u001b[0mprep\u001b[0m\u001b[1;33m,\u001b[0m \u001b[1;33m**\u001b[0m\u001b[0msend_kwargs\u001b[0m\u001b[1;33m)\u001b[0m\u001b[1;33m\u001b[0m\u001b[0m\n\u001b[0m\u001b[0;32m    509\u001b[0m \u001b[1;33m\u001b[0m\u001b[0m\n",
      "\u001b[1;32mc:\\users\\hitesh_n\\appdata\\local\\programs\\python\\python36-32\\lib\\site-packages\\requests\\sessions.py\u001b[0m in \u001b[0;36msend\u001b[1;34m(self, request, **kwargs)\u001b[0m\n\u001b[0;32m    617\u001b[0m         \u001b[1;31m# Send the request\u001b[0m\u001b[1;33m\u001b[0m\u001b[1;33m\u001b[0m\u001b[0m\n\u001b[1;32m--> 618\u001b[1;33m         \u001b[0mr\u001b[0m \u001b[1;33m=\u001b[0m \u001b[0madapter\u001b[0m\u001b[1;33m.\u001b[0m\u001b[0msend\u001b[0m\u001b[1;33m(\u001b[0m\u001b[0mrequest\u001b[0m\u001b[1;33m,\u001b[0m \u001b[1;33m**\u001b[0m\u001b[0mkwargs\u001b[0m\u001b[1;33m)\u001b[0m\u001b[1;33m\u001b[0m\u001b[0m\n\u001b[0m\u001b[0;32m    619\u001b[0m \u001b[1;33m\u001b[0m\u001b[0m\n",
      "\u001b[1;32mc:\\users\\hitesh_n\\appdata\\local\\programs\\python\\python36-32\\lib\\site-packages\\requests\\adapters.py\u001b[0m in \u001b[0;36msend\u001b[1;34m(self, request, stream, timeout, verify, cert, proxies)\u001b[0m\n\u001b[0;32m    507\u001b[0m \u001b[1;33m\u001b[0m\u001b[0m\n\u001b[1;32m--> 508\u001b[1;33m             \u001b[1;32mraise\u001b[0m \u001b[0mConnectionError\u001b[0m\u001b[1;33m(\u001b[0m\u001b[0me\u001b[0m\u001b[1;33m,\u001b[0m \u001b[0mrequest\u001b[0m\u001b[1;33m=\u001b[0m\u001b[0mrequest\u001b[0m\u001b[1;33m)\u001b[0m\u001b[1;33m\u001b[0m\u001b[0m\n\u001b[0m\u001b[0;32m    509\u001b[0m \u001b[1;33m\u001b[0m\u001b[0m\n",
      "\u001b[1;31mConnectionError\u001b[0m: HTTPConnectionPool(host='localhost', port=54321): Max retries exceeded with url: /3/Jobs/$03017f00000132d4ffffffff$_af86bf79675af6b9bd2512029e364a5b (Caused by NewConnectionError('<urllib3.connection.HTTPConnection object at 0x0BF188F0>: Failed to establish a new connection: [WinError 10061] No connection could be made because the target machine actively refused it',))",
      "\nDuring handling of the above exception, another exception occurred:\n",
      "\u001b[1;31mH2OConnectionError\u001b[0m                        Traceback (most recent call last)",
      "\u001b[1;32m<ipython-input-10-8d103c81f36e>\u001b[0m in \u001b[0;36m<module>\u001b[1;34m()\u001b[0m\n\u001b[0;32m      1\u001b[0m \u001b[0mma\u001b[0m \u001b[1;33m=\u001b[0m \u001b[0mH2OAutoML\u001b[0m\u001b[1;33m(\u001b[0m\u001b[0mmax_runtime_secs\u001b[0m\u001b[1;33m=\u001b[0m\u001b[1;36m360\u001b[0m\u001b[1;33m)\u001b[0m\u001b[1;33m\u001b[0m\u001b[0m\n\u001b[1;32m----> 2\u001b[1;33m \u001b[0mma\u001b[0m\u001b[1;33m.\u001b[0m\u001b[0mtrain\u001b[0m\u001b[1;33m(\u001b[0m\u001b[1;33m[\u001b[0m\u001b[1;34m'sepal_len'\u001b[0m\u001b[1;33m,\u001b[0m\u001b[1;34m'sepal_wid'\u001b[0m\u001b[1;33m,\u001b[0m\u001b[1;34m'petal_len'\u001b[0m\u001b[1;33m,\u001b[0m\u001b[1;34m'petal_wid'\u001b[0m\u001b[1;33m]\u001b[0m\u001b[1;33m,\u001b[0m\u001b[1;34m'class'\u001b[0m\u001b[1;33m,\u001b[0m\u001b[0mtrain\u001b[0m\u001b[1;33m)\u001b[0m\u001b[1;33m\u001b[0m\u001b[0m\n\u001b[0m",
      "\u001b[1;32mc:\\users\\hitesh_n\\appdata\\local\\programs\\python\\python36-32\\lib\\site-packages\\h2o\\automl\\autoh2o.py\u001b[0m in \u001b[0;36mtrain\u001b[1;34m(self, x, y, training_frame, fold_column, weights_column, validation_frame, leaderboard_frame)\u001b[0m\n\u001b[0;32m    361\u001b[0m \u001b[1;33m\u001b[0m\u001b[0m\n\u001b[0;32m    362\u001b[0m         \u001b[0mself\u001b[0m\u001b[1;33m.\u001b[0m\u001b[0m_job\u001b[0m \u001b[1;33m=\u001b[0m \u001b[0mH2OJob\u001b[0m\u001b[1;33m(\u001b[0m\u001b[0mresp\u001b[0m\u001b[1;33m[\u001b[0m\u001b[1;34m'job'\u001b[0m\u001b[1;33m]\u001b[0m\u001b[1;33m,\u001b[0m \u001b[1;34m\"AutoML\"\u001b[0m\u001b[1;33m)\u001b[0m\u001b[1;33m\u001b[0m\u001b[0m\n\u001b[1;32m--> 363\u001b[1;33m         \u001b[0mself\u001b[0m\u001b[1;33m.\u001b[0m\u001b[0m_job\u001b[0m\u001b[1;33m.\u001b[0m\u001b[0mpoll\u001b[0m\u001b[1;33m(\u001b[0m\u001b[1;33m)\u001b[0m\u001b[1;33m\u001b[0m\u001b[0m\n\u001b[0m\u001b[0;32m    364\u001b[0m         \u001b[0mself\u001b[0m\u001b[1;33m.\u001b[0m\u001b[0m_fetch\u001b[0m\u001b[1;33m(\u001b[0m\u001b[1;33m)\u001b[0m\u001b[1;33m\u001b[0m\u001b[0m\n\u001b[0;32m    365\u001b[0m \u001b[1;33m\u001b[0m\u001b[0m\n",
      "\u001b[1;32mc:\\users\\hitesh_n\\appdata\\local\\programs\\python\\python36-32\\lib\\site-packages\\h2o\\job.py\u001b[0m in \u001b[0;36mpoll\u001b[1;34m(self, verbose_model_scoring_history)\u001b[0m\n\u001b[0;32m     56\u001b[0m                 \u001b[0mpb\u001b[0m\u001b[1;33m.\u001b[0m\u001b[0mexecute\u001b[0m\u001b[1;33m(\u001b[0m\u001b[0mself\u001b[0m\u001b[1;33m.\u001b[0m\u001b[0m_refresh_job_status\u001b[0m\u001b[1;33m,\u001b[0m \u001b[0mprint_verbose_info\u001b[0m\u001b[1;33m=\u001b[0m\u001b[1;32mlambda\u001b[0m \u001b[0mx\u001b[0m\u001b[1;33m:\u001b[0m \u001b[0mself\u001b[0m\u001b[1;33m.\u001b[0m\u001b[0m_print_verbose_info\u001b[0m\u001b[1;33m(\u001b[0m\u001b[1;33m)\u001b[0m \u001b[1;32mif\u001b[0m \u001b[0mint\u001b[0m\u001b[1;33m(\u001b[0m\u001b[0mx\u001b[0m \u001b[1;33m*\u001b[0m \u001b[1;36m10\u001b[0m\u001b[1;33m)\u001b[0m \u001b[1;33m%\u001b[0m \u001b[1;36m5\u001b[0m \u001b[1;33m==\u001b[0m \u001b[1;36m0\u001b[0m  \u001b[1;32melse\u001b[0m \u001b[1;34m\" \"\u001b[0m\u001b[1;33m)\u001b[0m\u001b[1;33m\u001b[0m\u001b[0m\n\u001b[0;32m     57\u001b[0m             \u001b[1;32melse\u001b[0m\u001b[1;33m:\u001b[0m\u001b[1;33m\u001b[0m\u001b[0m\n\u001b[1;32m---> 58\u001b[1;33m                 \u001b[0mpb\u001b[0m\u001b[1;33m.\u001b[0m\u001b[0mexecute\u001b[0m\u001b[1;33m(\u001b[0m\u001b[0mself\u001b[0m\u001b[1;33m.\u001b[0m\u001b[0m_refresh_job_status\u001b[0m\u001b[1;33m)\u001b[0m\u001b[1;33m\u001b[0m\u001b[0m\n\u001b[0m\u001b[0;32m     59\u001b[0m         \u001b[1;32mexcept\u001b[0m \u001b[0mStopIteration\u001b[0m \u001b[1;32mas\u001b[0m \u001b[0me\u001b[0m\u001b[1;33m:\u001b[0m\u001b[1;33m\u001b[0m\u001b[0m\n\u001b[0;32m     60\u001b[0m             \u001b[1;32mif\u001b[0m \u001b[0mstr\u001b[0m\u001b[1;33m(\u001b[0m\u001b[0me\u001b[0m\u001b[1;33m)\u001b[0m \u001b[1;33m==\u001b[0m \u001b[1;34m\"cancelled\"\u001b[0m\u001b[1;33m:\u001b[0m\u001b[1;33m\u001b[0m\u001b[0m\n",
      "\u001b[1;32mc:\\users\\hitesh_n\\appdata\\local\\programs\\python\\python36-32\\lib\\site-packages\\h2o\\utils\\progressbar.py\u001b[0m in \u001b[0;36mexecute\u001b[1;34m(self, progress_fn, print_verbose_info)\u001b[0m\n\u001b[0;32m    167\u001b[0m                 \u001b[1;31m# Query the progress level, but only if it's time already\u001b[0m\u001b[1;33m\u001b[0m\u001b[1;33m\u001b[0m\u001b[0m\n\u001b[0;32m    168\u001b[0m                 \u001b[1;32mif\u001b[0m \u001b[0mself\u001b[0m\u001b[1;33m.\u001b[0m\u001b[0m_next_poll_time\u001b[0m \u001b[1;33m<=\u001b[0m \u001b[0mnow\u001b[0m\u001b[1;33m:\u001b[0m\u001b[1;33m\u001b[0m\u001b[0m\n\u001b[1;32m--> 169\u001b[1;33m                     \u001b[0mres\u001b[0m \u001b[1;33m=\u001b[0m \u001b[0mprogress_fn\u001b[0m\u001b[1;33m(\u001b[0m\u001b[1;33m)\u001b[0m  \u001b[1;31m# may raise StopIteration\u001b[0m\u001b[1;33m\u001b[0m\u001b[0m\n\u001b[0m\u001b[0;32m    170\u001b[0m                     \u001b[0massert_is_type\u001b[0m\u001b[1;33m(\u001b[0m\u001b[0mres\u001b[0m\u001b[1;33m,\u001b[0m \u001b[1;33m(\u001b[0m\u001b[0mnumeric\u001b[0m\u001b[1;33m,\u001b[0m \u001b[0mnumeric\u001b[0m\u001b[1;33m)\u001b[0m\u001b[1;33m,\u001b[0m \u001b[0mnumeric\u001b[0m\u001b[1;33m)\u001b[0m\u001b[1;33m\u001b[0m\u001b[0m\n\u001b[0;32m    171\u001b[0m                     \u001b[1;32mif\u001b[0m \u001b[1;32mnot\u001b[0m \u001b[0misinstance\u001b[0m\u001b[1;33m(\u001b[0m\u001b[0mres\u001b[0m\u001b[1;33m,\u001b[0m \u001b[0mtuple\u001b[0m\u001b[1;33m)\u001b[0m\u001b[1;33m:\u001b[0m\u001b[1;33m\u001b[0m\u001b[0m\n",
      "\u001b[1;32mc:\\users\\hitesh_n\\appdata\\local\\programs\\python\\python36-32\\lib\\site-packages\\h2o\\job.py\u001b[0m in \u001b[0;36m_refresh_job_status\u001b[1;34m(self)\u001b[0m\n\u001b[0;32m     91\u001b[0m     \u001b[1;32mdef\u001b[0m \u001b[0m_refresh_job_status\u001b[0m\u001b[1;33m(\u001b[0m\u001b[0mself\u001b[0m\u001b[1;33m)\u001b[0m\u001b[1;33m:\u001b[0m\u001b[1;33m\u001b[0m\u001b[0m\n\u001b[0;32m     92\u001b[0m         \u001b[1;32mif\u001b[0m \u001b[0mself\u001b[0m\u001b[1;33m.\u001b[0m\u001b[0m_poll_count\u001b[0m \u001b[1;33m<=\u001b[0m \u001b[1;36m0\u001b[0m\u001b[1;33m:\u001b[0m \u001b[1;32mraise\u001b[0m \u001b[0mStopIteration\u001b[0m\u001b[1;33m(\u001b[0m\u001b[1;34m\"\"\u001b[0m\u001b[1;33m)\u001b[0m\u001b[1;33m\u001b[0m\u001b[0m\n\u001b[1;32m---> 93\u001b[1;33m         \u001b[0mjobs\u001b[0m \u001b[1;33m=\u001b[0m \u001b[0mh2o\u001b[0m\u001b[1;33m.\u001b[0m\u001b[0mapi\u001b[0m\u001b[1;33m(\u001b[0m\u001b[1;34m\"GET /3/Jobs/%s\"\u001b[0m \u001b[1;33m%\u001b[0m \u001b[0mself\u001b[0m\u001b[1;33m.\u001b[0m\u001b[0mjob_key\u001b[0m\u001b[1;33m)\u001b[0m\u001b[1;33m\u001b[0m\u001b[0m\n\u001b[0m\u001b[0;32m     94\u001b[0m         \u001b[0mself\u001b[0m\u001b[1;33m.\u001b[0m\u001b[0mjob\u001b[0m \u001b[1;33m=\u001b[0m \u001b[0mjobs\u001b[0m\u001b[1;33m[\u001b[0m\u001b[1;34m\"jobs\"\u001b[0m\u001b[1;33m]\u001b[0m\u001b[1;33m[\u001b[0m\u001b[1;36m0\u001b[0m\u001b[1;33m]\u001b[0m \u001b[1;32mif\u001b[0m \u001b[1;34m\"jobs\"\u001b[0m \u001b[1;32min\u001b[0m \u001b[0mjobs\u001b[0m \u001b[1;32melse\u001b[0m \u001b[0mjobs\u001b[0m\u001b[1;33m[\u001b[0m\u001b[1;34m\"job\"\u001b[0m\u001b[1;33m]\u001b[0m\u001b[1;33m[\u001b[0m\u001b[1;36m0\u001b[0m\u001b[1;33m]\u001b[0m\u001b[1;33m\u001b[0m\u001b[0m\n\u001b[0;32m     95\u001b[0m         \u001b[0mself\u001b[0m\u001b[1;33m.\u001b[0m\u001b[0mstatus\u001b[0m \u001b[1;33m=\u001b[0m \u001b[0mself\u001b[0m\u001b[1;33m.\u001b[0m\u001b[0mjob\u001b[0m\u001b[1;33m[\u001b[0m\u001b[1;34m\"status\"\u001b[0m\u001b[1;33m]\u001b[0m\u001b[1;33m\u001b[0m\u001b[0m\n",
      "\u001b[1;32mc:\\users\\hitesh_n\\appdata\\local\\programs\\python\\python36-32\\lib\\site-packages\\h2o\\h2o.py\u001b[0m in \u001b[0;36mapi\u001b[1;34m(endpoint, data, json, filename, save_to)\u001b[0m\n\u001b[0;32m    101\u001b[0m     \u001b[1;31m# type checks are performed in H2OConnection class\u001b[0m\u001b[1;33m\u001b[0m\u001b[1;33m\u001b[0m\u001b[0m\n\u001b[0;32m    102\u001b[0m     \u001b[0m_check_connection\u001b[0m\u001b[1;33m(\u001b[0m\u001b[1;33m)\u001b[0m\u001b[1;33m\u001b[0m\u001b[0m\n\u001b[1;32m--> 103\u001b[1;33m     \u001b[1;32mreturn\u001b[0m \u001b[0mh2oconn\u001b[0m\u001b[1;33m.\u001b[0m\u001b[0mrequest\u001b[0m\u001b[1;33m(\u001b[0m\u001b[0mendpoint\u001b[0m\u001b[1;33m,\u001b[0m \u001b[0mdata\u001b[0m\u001b[1;33m=\u001b[0m\u001b[0mdata\u001b[0m\u001b[1;33m,\u001b[0m \u001b[0mjson\u001b[0m\u001b[1;33m=\u001b[0m\u001b[0mjson\u001b[0m\u001b[1;33m,\u001b[0m \u001b[0mfilename\u001b[0m\u001b[1;33m=\u001b[0m\u001b[0mfilename\u001b[0m\u001b[1;33m,\u001b[0m \u001b[0msave_to\u001b[0m\u001b[1;33m=\u001b[0m\u001b[0msave_to\u001b[0m\u001b[1;33m)\u001b[0m\u001b[1;33m\u001b[0m\u001b[0m\n\u001b[0m\u001b[0;32m    104\u001b[0m \u001b[1;33m\u001b[0m\u001b[0m\n\u001b[0;32m    105\u001b[0m \u001b[1;33m\u001b[0m\u001b[0m\n",
      "\u001b[1;32mc:\\users\\hitesh_n\\appdata\\local\\programs\\python\\python36-32\\lib\\site-packages\\h2o\\backend\\connection.py\u001b[0m in \u001b[0;36mrequest\u001b[1;34m(self, endpoint, data, json, filename, save_to)\u001b[0m\n\u001b[0;32m    408\u001b[0m             \u001b[1;32melse\u001b[0m\u001b[1;33m:\u001b[0m\u001b[1;33m\u001b[0m\u001b[0m\n\u001b[0;32m    409\u001b[0m                 \u001b[0mself\u001b[0m\u001b[1;33m.\u001b[0m\u001b[0m_log_end_exception\u001b[0m\u001b[1;33m(\u001b[0m\u001b[0me\u001b[0m\u001b[1;33m)\u001b[0m\u001b[1;33m\u001b[0m\u001b[0m\n\u001b[1;32m--> 410\u001b[1;33m                 \u001b[1;32mraise\u001b[0m \u001b[0mH2OConnectionError\u001b[0m\u001b[1;33m(\u001b[0m\u001b[1;34m\"Unexpected HTTP error: %s\"\u001b[0m \u001b[1;33m%\u001b[0m \u001b[0me\u001b[0m\u001b[1;33m)\u001b[0m\u001b[1;33m\u001b[0m\u001b[0m\n\u001b[0m\u001b[0;32m    411\u001b[0m         \u001b[1;32mexcept\u001b[0m \u001b[0mrequests\u001b[0m\u001b[1;33m.\u001b[0m\u001b[0mexceptions\u001b[0m\u001b[1;33m.\u001b[0m\u001b[0mTimeout\u001b[0m \u001b[1;32mas\u001b[0m \u001b[0me\u001b[0m\u001b[1;33m:\u001b[0m\u001b[1;33m\u001b[0m\u001b[0m\n\u001b[0;32m    412\u001b[0m             \u001b[0mself\u001b[0m\u001b[1;33m.\u001b[0m\u001b[0m_log_end_exception\u001b[0m\u001b[1;33m(\u001b[0m\u001b[0me\u001b[0m\u001b[1;33m)\u001b[0m\u001b[1;33m\u001b[0m\u001b[0m\n",
      "\u001b[1;31mH2OConnectionError\u001b[0m: Unexpected HTTP error: HTTPConnectionPool(host='localhost', port=54321): Max retries exceeded with url: /3/Jobs/$03017f00000132d4ffffffff$_af86bf79675af6b9bd2512029e364a5b (Caused by NewConnectionError('<urllib3.connection.HTTPConnection object at 0x0BF188F0>: Failed to establish a new connection: [WinError 10061] No connection could be made because the target machine actively refused it',))"
     ]
    }
   ],
   "source": [
    "ma = H2OAutoML(max_runtime_secs=360)\n",
    "ma.train(['sepal_len','sepal_wid','petal_len','petal_wid'],'class',train)"
   ]
  },
  {
   "cell_type": "code",
   "execution_count": null,
   "metadata": {},
   "outputs": [],
   "source": [
    "ma.predict(test)"
   ]
  },
  {
   "cell_type": "code",
   "execution_count": null,
   "metadata": {},
   "outputs": [],
   "source": []
  }
 ],
 "metadata": {
  "kernelspec": {
   "display_name": "Python 3",
   "language": "python",
   "name": "python3"
  },
  "language_info": {
   "codemirror_mode": {
    "name": "ipython",
    "version": 3
   },
   "file_extension": ".py",
   "mimetype": "text/x-python",
   "name": "python",
   "nbconvert_exporter": "python",
   "pygments_lexer": "ipython3",
   "version": "3.6.5"
  }
 },
 "nbformat": 4,
 "nbformat_minor": 2
}
