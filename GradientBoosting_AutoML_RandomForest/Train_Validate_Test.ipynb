{
 "cells": [
  {
   "cell_type": "code",
   "execution_count": 9,
   "metadata": {},
   "outputs": [],
   "source": [
    "import h2o"
   ]
  },
  {
   "cell_type": "code",
   "execution_count": 10,
   "metadata": {},
   "outputs": [
    {
     "name": "stdout",
     "output_type": "stream",
     "text": [
      "Checking whether there is an H2O instance running at http://localhost:54321. connected.\n"
     ]
    },
    {
     "data": {
      "text/html": [
       "<div style=\"overflow:auto\"><table style=\"width:50%\"><tr><td>H2O cluster uptime:</td>\n",
       "<td>6 hours 5 mins</td></tr>\n",
       "<tr><td>H2O cluster timezone:</td>\n",
       "<td>Asia/Kolkata</td></tr>\n",
       "<tr><td>H2O data parsing timezone:</td>\n",
       "<td>UTC</td></tr>\n",
       "<tr><td>H2O cluster version:</td>\n",
       "<td>3.20.0.4</td></tr>\n",
       "<tr><td>H2O cluster version age:</td>\n",
       "<td>3 days </td></tr>\n",
       "<tr><td>H2O cluster name:</td>\n",
       "<td>H2O_from_python_hitesh_n_8u7vh2</td></tr>\n",
       "<tr><td>H2O cluster total nodes:</td>\n",
       "<td>1</td></tr>\n",
       "<tr><td>H2O cluster free memory:</td>\n",
       "<td>84.4 Mb</td></tr>\n",
       "<tr><td>H2O cluster total cores:</td>\n",
       "<td>4</td></tr>\n",
       "<tr><td>H2O cluster allowed cores:</td>\n",
       "<td>4</td></tr>\n",
       "<tr><td>H2O cluster status:</td>\n",
       "<td>locked, healthy</td></tr>\n",
       "<tr><td>H2O connection url:</td>\n",
       "<td>http://localhost:54321</td></tr>\n",
       "<tr><td>H2O connection proxy:</td>\n",
       "<td>None</td></tr>\n",
       "<tr><td>H2O internal security:</td>\n",
       "<td>False</td></tr>\n",
       "<tr><td>H2O API Extensions:</td>\n",
       "<td>Algos, AutoML, Core V3, Core V4</td></tr>\n",
       "<tr><td>Python version:</td>\n",
       "<td>3.6.5 final</td></tr></table></div>"
      ],
      "text/plain": [
       "--------------------------  -------------------------------\n",
       "H2O cluster uptime:         6 hours 5 mins\n",
       "H2O cluster timezone:       Asia/Kolkata\n",
       "H2O data parsing timezone:  UTC\n",
       "H2O cluster version:        3.20.0.4\n",
       "H2O cluster version age:    3 days\n",
       "H2O cluster name:           H2O_from_python_hitesh_n_8u7vh2\n",
       "H2O cluster total nodes:    1\n",
       "H2O cluster free memory:    84.4 Mb\n",
       "H2O cluster total cores:    4\n",
       "H2O cluster allowed cores:  4\n",
       "H2O cluster status:         locked, healthy\n",
       "H2O connection url:         http://localhost:54321\n",
       "H2O connection proxy:\n",
       "H2O internal security:      False\n",
       "H2O API Extensions:         Algos, AutoML, Core V3, Core V4\n",
       "Python version:             3.6.5 final\n",
       "--------------------------  -------------------------------"
      ]
     },
     "metadata": {},
     "output_type": "display_data"
    }
   ],
   "source": [
    "h2o.init()"
   ]
  },
  {
   "cell_type": "code",
   "execution_count": 11,
   "metadata": {},
   "outputs": [
    {
     "name": "stdout",
     "output_type": "stream",
     "text": [
      "Parse progress: |█████████████████████████████████████████████████████████| 100%\n"
     ]
    }
   ],
   "source": [
    "#File from which input needs to be taken\n",
    "url  = \"http://h2o-public-test-data.s3.amazonaws.com/smalldata/iris/iris_wheader.csv\"\n",
    "iris = h2o.import_file(url)"
   ]
  },
  {
   "cell_type": "code",
   "execution_count": 12,
   "metadata": {},
   "outputs": [
    {
     "data": {
      "text/plain": [
       "h2o.frame.H2OFrame"
      ]
     },
     "execution_count": 12,
     "metadata": {},
     "output_type": "execute_result"
    }
   ],
   "source": [
    "type(iris)"
   ]
  },
  {
   "cell_type": "code",
   "execution_count": 13,
   "metadata": {},
   "outputs": [],
   "source": [
    "train,valid,test = iris.split_frame(\n",
    "    ratios = [0.8,0.1],\n",
    "    destination_frames = [\"iris_train\",\"iris_valid\",\"iris_test\"],\n",
    "    seed = 123\n",
    ")"
   ]
  },
  {
   "cell_type": "code",
   "execution_count": 14,
   "metadata": {},
   "outputs": [
    {
     "name": "stdout",
     "output_type": "stream",
     "text": [
      "1211415\n"
     ]
    }
   ],
   "source": [
    "print(\"%d%d%d\" % (train.nrows,valid.nrows,test.nrows))"
   ]
  },
  {
   "cell_type": "code",
   "execution_count": 15,
   "metadata": {},
   "outputs": [],
   "source": [
    "from h2o.estimators.gbm import H2OGradientBoostingEstimator"
   ]
  },
  {
   "cell_type": "code",
   "execution_count": 17,
   "metadata": {},
   "outputs": [
    {
     "name": "stdout",
     "output_type": "stream",
     "text": [
      "gbm Model Build progress: |███████████████████████████████████████████████| 100%\n"
     ]
    }
   ],
   "source": [
    "gbm = H2OGradientBoostingEstimator(model_id = 'Iris_data_default')\n",
    "gbm.train(['sepal_len','sepal_wid','petal_len','petal_wid'],'class',train,validation_frame = valid)"
   ]
  },
  {
   "cell_type": "code",
   "execution_count": 30,
   "metadata": {},
   "outputs": [
    {
     "name": "stdout",
     "output_type": "stream",
     "text": [
      "Model Details\n",
      "=============\n",
      "H2OGradientBoostingEstimator :  Gradient Boosting Machine\n",
      "Model Key:  Iris_data_default\n",
      "\n",
      "\n",
      "ModelMetricsMultinomial: gbm\n",
      "** Reported on train data. **\n",
      "\n",
      "MSE: 0.0006794781525544588\n",
      "RMSE: 0.02606680173236561\n",
      "LogLoss: 0.009334691187732336\n",
      "Mean Per-Class Error: 0.0\n",
      "Confusion Matrix: Row labels: Actual class; Column labels: Predicted class\n",
      "\n"
     ]
    },
    {
     "data": {
      "text/html": [
       "<div style=\"overflow:auto\"><table style=\"width:50%\"><tr><td><b>Iris-setosa</b></td>\n",
       "<td><b>Iris-versicolor</b></td>\n",
       "<td><b>Iris-virginica</b></td>\n",
       "<td><b>Error</b></td>\n",
       "<td><b>Rate</b></td></tr>\n",
       "<tr><td>42.0</td>\n",
       "<td>0.0</td>\n",
       "<td>0.0</td>\n",
       "<td>0.0</td>\n",
       "<td>0 / 42</td></tr>\n",
       "<tr><td>0.0</td>\n",
       "<td>40.0</td>\n",
       "<td>0.0</td>\n",
       "<td>0.0</td>\n",
       "<td>0 / 40</td></tr>\n",
       "<tr><td>0.0</td>\n",
       "<td>0.0</td>\n",
       "<td>39.0</td>\n",
       "<td>0.0</td>\n",
       "<td>0 / 39</td></tr>\n",
       "<tr><td>42.0</td>\n",
       "<td>40.0</td>\n",
       "<td>39.0</td>\n",
       "<td>0.0</td>\n",
       "<td>0 / 121</td></tr></table></div>"
      ],
      "text/plain": [
       "Iris-setosa    Iris-versicolor    Iris-virginica    Error    Rate\n",
       "-------------  -----------------  ----------------  -------  -------\n",
       "42             0                  0                 0        0 / 42\n",
       "0              40                 0                 0        0 / 40\n",
       "0              0                  39                0        0 / 39\n",
       "42             40                 39                0        0 / 121"
      ]
     },
     "metadata": {},
     "output_type": "display_data"
    },
    {
     "name": "stdout",
     "output_type": "stream",
     "text": [
      "Top-3 Hit Ratios: \n"
     ]
    },
    {
     "data": {
      "text/html": [
       "<div style=\"overflow:auto\"><table style=\"width:50%\"><tr><td><b>k</b></td>\n",
       "<td><b>hit_ratio</b></td></tr>\n",
       "<tr><td>1</td>\n",
       "<td>1.0</td></tr>\n",
       "<tr><td>2</td>\n",
       "<td>1.0</td></tr>\n",
       "<tr><td>3</td>\n",
       "<td>1.0</td></tr></table></div>"
      ],
      "text/plain": [
       "k    hit_ratio\n",
       "---  -----------\n",
       "1    1\n",
       "2    1\n",
       "3    1"
      ]
     },
     "metadata": {},
     "output_type": "display_data"
    },
    {
     "name": "stdout",
     "output_type": "stream",
     "text": [
      "\n",
      "ModelMetricsMultinomial: gbm\n",
      "** Reported on validation data. **\n",
      "\n",
      "MSE: 0.16288415928982083\n",
      "RMSE: 0.40358909708987534\n",
      "LogLoss: 0.5563583383352543\n",
      "Mean Per-Class Error: 0.14285714285714285\n",
      "Confusion Matrix: Row labels: Actual class; Column labels: Predicted class\n",
      "\n"
     ]
    },
    {
     "data": {
      "text/html": [
       "<div style=\"overflow:auto\"><table style=\"width:50%\"><tr><td><b>Iris-setosa</b></td>\n",
       "<td><b>Iris-versicolor</b></td>\n",
       "<td><b>Iris-virginica</b></td>\n",
       "<td><b>Error</b></td>\n",
       "<td><b>Rate</b></td></tr>\n",
       "<tr><td>2.0</td>\n",
       "<td>0.0</td>\n",
       "<td>0.0</td>\n",
       "<td>0.0</td>\n",
       "<td>0 / 2</td></tr>\n",
       "<tr><td>0.0</td>\n",
       "<td>5.0</td>\n",
       "<td>0.0</td>\n",
       "<td>0.0</td>\n",
       "<td>0 / 5</td></tr>\n",
       "<tr><td>0.0</td>\n",
       "<td>3.0</td>\n",
       "<td>4.0</td>\n",
       "<td>0.4285714</td>\n",
       "<td>3 / 7</td></tr>\n",
       "<tr><td>2.0</td>\n",
       "<td>8.0</td>\n",
       "<td>4.0</td>\n",
       "<td>0.2142857</td>\n",
       "<td>3 / 14</td></tr></table></div>"
      ],
      "text/plain": [
       "Iris-setosa    Iris-versicolor    Iris-virginica    Error     Rate\n",
       "-------------  -----------------  ----------------  --------  ------\n",
       "2              0                  0                 0         0 / 2\n",
       "0              5                  0                 0         0 / 5\n",
       "0              3                  4                 0.428571  3 / 7\n",
       "2              8                  4                 0.214286  3 / 14"
      ]
     },
     "metadata": {},
     "output_type": "display_data"
    },
    {
     "name": "stdout",
     "output_type": "stream",
     "text": [
      "Top-3 Hit Ratios: \n"
     ]
    },
    {
     "data": {
      "text/html": [
       "<div style=\"overflow:auto\"><table style=\"width:50%\"><tr><td><b>k</b></td>\n",
       "<td><b>hit_ratio</b></td></tr>\n",
       "<tr><td>1</td>\n",
       "<td>0.7857143</td></tr>\n",
       "<tr><td>2</td>\n",
       "<td>1.0</td></tr>\n",
       "<tr><td>3</td>\n",
       "<td>1.0</td></tr></table></div>"
      ],
      "text/plain": [
       "k    hit_ratio\n",
       "---  -----------\n",
       "1    0.785714\n",
       "2    1\n",
       "3    1"
      ]
     },
     "metadata": {},
     "output_type": "display_data"
    },
    {
     "name": "stdout",
     "output_type": "stream",
     "text": [
      "Scoring History: \n"
     ]
    },
    {
     "data": {
      "text/html": [
       "<div style=\"overflow:auto\"><table style=\"width:50%\"><tr><td><b></b></td>\n",
       "<td><b>timestamp</b></td>\n",
       "<td><b>duration</b></td>\n",
       "<td><b>number_of_trees</b></td>\n",
       "<td><b>training_rmse</b></td>\n",
       "<td><b>training_logloss</b></td>\n",
       "<td><b>training_classification_error</b></td>\n",
       "<td><b>validation_rmse</b></td>\n",
       "<td><b>validation_logloss</b></td>\n",
       "<td><b>validation_classification_error</b></td></tr>\n",
       "<tr><td></td>\n",
       "<td>2018-08-04 18:52:20</td>\n",
       "<td> 0.031 sec</td>\n",
       "<td>0.0</td>\n",
       "<td>0.6666667</td>\n",
       "<td>1.0986123</td>\n",
       "<td>0.6115702</td>\n",
       "<td>0.6666667</td>\n",
       "<td>1.0986123</td>\n",
       "<td>0.7142857</td></tr>\n",
       "<tr><td></td>\n",
       "<td>2018-08-04 18:52:20</td>\n",
       "<td> 0.200 sec</td>\n",
       "<td>1.0</td>\n",
       "<td>0.6003380</td>\n",
       "<td>0.9173774</td>\n",
       "<td>0.0165289</td>\n",
       "<td>0.6192530</td>\n",
       "<td>0.9681119</td>\n",
       "<td>0.2142857</td></tr>\n",
       "<tr><td></td>\n",
       "<td>2018-08-04 18:52:20</td>\n",
       "<td> 0.232 sec</td>\n",
       "<td>2.0</td>\n",
       "<td>0.5397391</td>\n",
       "<td>0.7765878</td>\n",
       "<td>0.0165289</td>\n",
       "<td>0.5782325</td>\n",
       "<td>0.8704240</td>\n",
       "<td>0.2142857</td></tr>\n",
       "<tr><td></td>\n",
       "<td>2018-08-04 18:52:20</td>\n",
       "<td> 0.247 sec</td>\n",
       "<td>3.0</td>\n",
       "<td>0.4847271</td>\n",
       "<td>0.6639606</td>\n",
       "<td>0.0165289</td>\n",
       "<td>0.5454009</td>\n",
       "<td>0.8001397</td>\n",
       "<td>0.2142857</td></tr>\n",
       "<tr><td></td>\n",
       "<td>2018-08-04 18:52:20</td>\n",
       "<td> 0.269 sec</td>\n",
       "<td>4.0</td>\n",
       "<td>0.4351556</td>\n",
       "<td>0.5721572</td>\n",
       "<td>0.0165289</td>\n",
       "<td>0.5181399</td>\n",
       "<td>0.7463927</td>\n",
       "<td>0.2142857</td></tr>\n",
       "<tr><td>---</td>\n",
       "<td>---</td>\n",
       "<td>---</td>\n",
       "<td>---</td>\n",
       "<td>---</td>\n",
       "<td>---</td>\n",
       "<td>---</td>\n",
       "<td>---</td>\n",
       "<td>---</td>\n",
       "<td>---</td></tr>\n",
       "<tr><td></td>\n",
       "<td>2018-08-04 18:52:20</td>\n",
       "<td> 0.639 sec</td>\n",
       "<td>46.0</td>\n",
       "<td>0.0322182</td>\n",
       "<td>0.0120581</td>\n",
       "<td>0.0</td>\n",
       "<td>0.3968002</td>\n",
       "<td>0.5118528</td>\n",
       "<td>0.2142857</td></tr>\n",
       "<tr><td></td>\n",
       "<td>2018-08-04 18:52:20</td>\n",
       "<td> 0.659 sec</td>\n",
       "<td>47.0</td>\n",
       "<td>0.0304956</td>\n",
       "<td>0.0113429</td>\n",
       "<td>0.0</td>\n",
       "<td>0.3976209</td>\n",
       "<td>0.5187182</td>\n",
       "<td>0.2142857</td></tr>\n",
       "<tr><td></td>\n",
       "<td>2018-08-04 18:52:20</td>\n",
       "<td> 0.668 sec</td>\n",
       "<td>48.0</td>\n",
       "<td>0.0284491</td>\n",
       "<td>0.0104717</td>\n",
       "<td>0.0</td>\n",
       "<td>0.4012636</td>\n",
       "<td>0.5397753</td>\n",
       "<td>0.2142857</td></tr>\n",
       "<tr><td></td>\n",
       "<td>2018-08-04 18:52:20</td>\n",
       "<td> 0.670 sec</td>\n",
       "<td>49.0</td>\n",
       "<td>0.0279668</td>\n",
       "<td>0.0101078</td>\n",
       "<td>0.0</td>\n",
       "<td>0.4001599</td>\n",
       "<td>0.5352014</td>\n",
       "<td>0.2142857</td></tr>\n",
       "<tr><td></td>\n",
       "<td>2018-08-04 18:52:20</td>\n",
       "<td> 0.686 sec</td>\n",
       "<td>50.0</td>\n",
       "<td>0.0260668</td>\n",
       "<td>0.0093347</td>\n",
       "<td>0.0</td>\n",
       "<td>0.4035891</td>\n",
       "<td>0.5563583</td>\n",
       "<td>0.2142857</td></tr></table></div>"
      ],
      "text/plain": [
       "     timestamp            duration    number_of_trees    training_rmse         training_logloss      training_classification_error    validation_rmse      validation_logloss    validation_classification_error\n",
       "---  -------------------  ----------  -----------------  --------------------  --------------------  -------------------------------  -------------------  --------------------  ---------------------------------\n",
       "     2018-08-04 18:52:20  0.031 sec   0.0                0.6666666666666659    1.0986122886681082    0.6115702479338843               0.6666666666666667   1.0986122886681104    0.7142857142857143\n",
       "     2018-08-04 18:52:20  0.200 sec   1.0                0.6003379647669593    0.9173773927019769    0.01652892561983471              0.6192530374434736   0.9681119354746667    0.21428571428571427\n",
       "     2018-08-04 18:52:20  0.232 sec   2.0                0.5397390673078569    0.77658779443777      0.01652892561983471              0.5782324969237073   0.8704240024633023    0.21428571428571427\n",
       "     2018-08-04 18:52:20  0.247 sec   3.0                0.4847271011529882    0.6639606310072064    0.01652892561983471              0.5454009130724005   0.800139731361014     0.21428571428571427\n",
       "     2018-08-04 18:52:20  0.269 sec   4.0                0.4351556253800167    0.5721572068099741    0.01652892561983471              0.518139867959808    0.7463926707447167    0.21428571428571427\n",
       "---  ---                  ---         ---                ---                   ---                   ---                              ---                  ---                   ---\n",
       "     2018-08-04 18:52:20  0.639 sec   46.0               0.03221818712699494   0.01205805093321175   0.0                              0.3968001672393526   0.5118528166983668    0.21428571428571427\n",
       "     2018-08-04 18:52:20  0.659 sec   47.0               0.03049555293932155   0.011342856302529207  0.0                              0.39762094530790226  0.5187182461099143    0.21428571428571427\n",
       "     2018-08-04 18:52:20  0.668 sec   48.0               0.028449067570778582  0.010471684655653436  0.0                              0.40126358239154053  0.5397753217765423    0.21428571428571427\n",
       "     2018-08-04 18:52:20  0.670 sec   49.0               0.02796676418798273   0.01010781173417744   0.0                              0.4001599213978173   0.5352014043615235    0.21428571428571427\n",
       "     2018-08-04 18:52:20  0.686 sec   50.0               0.02606680173236561   0.009334691187732336  0.0                              0.40358909708987534  0.5563583383352543    0.21428571428571427"
      ]
     },
     "metadata": {},
     "output_type": "display_data"
    },
    {
     "name": "stdout",
     "output_type": "stream",
     "text": [
      "\n",
      "See the whole table with table.as_data_frame()\n",
      "Variable Importances: \n"
     ]
    },
    {
     "data": {
      "text/html": [
       "<div style=\"overflow:auto\"><table style=\"width:50%\"><tr><td><b>variable</b></td>\n",
       "<td><b>relative_importance</b></td>\n",
       "<td><b>scaled_importance</b></td>\n",
       "<td><b>percentage</b></td></tr>\n",
       "<tr><td>petal_wid</td>\n",
       "<td>225.5773621</td>\n",
       "<td>1.0</td>\n",
       "<td>0.5998884</td></tr>\n",
       "<tr><td>petal_len</td>\n",
       "<td>147.6519928</td>\n",
       "<td>0.6545515</td>\n",
       "<td>0.3926578</td></tr>\n",
       "<tr><td>sepal_wid</td>\n",
       "<td>1.5172559</td>\n",
       "<td>0.0067261</td>\n",
       "<td>0.0040349</td></tr>\n",
       "<tr><td>sepal_len</td>\n",
       "<td>1.2856052</td>\n",
       "<td>0.0056992</td>\n",
       "<td>0.0034189</td></tr></table></div>"
      ],
      "text/plain": [
       "variable    relative_importance    scaled_importance    percentage\n",
       "----------  ---------------------  -------------------  ------------\n",
       "petal_wid   225.577                1                    0.599888\n",
       "petal_len   147.652                0.654551             0.392658\n",
       "sepal_wid   1.51726                0.0067261            0.00403491\n",
       "sepal_len   1.28561                0.00569918           0.00341887"
      ]
     },
     "metadata": {},
     "output_type": "display_data"
    },
    {
     "data": {
      "text/plain": []
     },
     "execution_count": 30,
     "metadata": {},
     "output_type": "execute_result"
    }
   ],
   "source": [
    "gbm"
   ]
  },
  {
   "cell_type": "code",
   "execution_count": 26,
   "metadata": {},
   "outputs": [
    {
     "name": "stdout",
     "output_type": "stream",
     "text": [
      "gbm prediction progress: |████████████████████████████████████████████████| 100%\n"
     ]
    },
    {
     "data": {
      "text/html": [
       "<table>\n",
       "<thead>\n",
       "<tr><th>predict        </th><th style=\"text-align: right;\">  Iris-setosa</th><th style=\"text-align: right;\">  Iris-versicolor</th><th style=\"text-align: right;\">  Iris-virginica</th></tr>\n",
       "</thead>\n",
       "<tbody>\n",
       "<tr><td>Iris-setosa    </td><td style=\"text-align: right;\">  0.998363   </td><td style=\"text-align: right;\">      0.000768395</td><td style=\"text-align: right;\">     0.000868305</td></tr>\n",
       "<tr><td>Iris-setosa    </td><td style=\"text-align: right;\">  0.998991   </td><td style=\"text-align: right;\">      0.00050463 </td><td style=\"text-align: right;\">     0.000504857</td></tr>\n",
       "<tr><td>Iris-setosa    </td><td style=\"text-align: right;\">  0.998944   </td><td style=\"text-align: right;\">      0.000505864</td><td style=\"text-align: right;\">     0.000550261</td></tr>\n",
       "<tr><td>Iris-setosa    </td><td style=\"text-align: right;\">  0.998991   </td><td style=\"text-align: right;\">      0.00050463 </td><td style=\"text-align: right;\">     0.000504857</td></tr>\n",
       "<tr><td>Iris-setosa    </td><td style=\"text-align: right;\">  0.99899    </td><td style=\"text-align: right;\">      0.000505053</td><td style=\"text-align: right;\">     0.000505236</td></tr>\n",
       "<tr><td>Iris-setosa    </td><td style=\"text-align: right;\">  0.998988   </td><td style=\"text-align: right;\">      0.000505884</td><td style=\"text-align: right;\">     0.00050622 </td></tr>\n",
       "<tr><td>Iris-versicolor</td><td style=\"text-align: right;\">  0.000672573</td><td style=\"text-align: right;\">      0.997748   </td><td style=\"text-align: right;\">     0.00157897 </td></tr>\n",
       "<tr><td>Iris-versicolor</td><td style=\"text-align: right;\">  0.000550534</td><td style=\"text-align: right;\">      0.998741   </td><td style=\"text-align: right;\">     0.000708852</td></tr>\n",
       "<tr><td>Iris-versicolor</td><td style=\"text-align: right;\">  0.000622802</td><td style=\"text-align: right;\">      0.998351   </td><td style=\"text-align: right;\">     0.00102625 </td></tr>\n",
       "<tr><td>Iris-versicolor</td><td style=\"text-align: right;\">  0.00110704 </td><td style=\"text-align: right;\">      0.997402   </td><td style=\"text-align: right;\">     0.00149138 </td></tr>\n",
       "</tbody>\n",
       "</table>"
      ]
     },
     "metadata": {},
     "output_type": "display_data"
    },
    {
     "data": {
      "text/plain": []
     },
     "execution_count": 26,
     "metadata": {},
     "output_type": "execute_result"
    }
   ],
   "source": [
    "gbm.predict(test)"
   ]
  },
  {
   "cell_type": "code",
   "execution_count": 27,
   "metadata": {},
   "outputs": [
    {
     "name": "stdout",
     "output_type": "stream",
     "text": [
      "\n",
      "ModelMetricsMultinomial: gbm\n",
      "** Reported on test data. **\n",
      "\n",
      "MSE: 0.06625358940934196\n",
      "RMSE: 0.2573977261153291\n",
      "LogLoss: 0.37505460783364086\n",
      "Mean Per-Class Error: 0.08333333333333333\n",
      "Confusion Matrix: Row labels: Actual class; Column labels: Predicted class\n",
      "\n"
     ]
    },
    {
     "data": {
      "text/html": [
       "<div style=\"overflow:auto\"><table style=\"width:50%\"><tr><td><b>Iris-setosa</b></td>\n",
       "<td><b>Iris-versicolor</b></td>\n",
       "<td><b>Iris-virginica</b></td>\n",
       "<td><b>Error</b></td>\n",
       "<td><b>Rate</b></td></tr>\n",
       "<tr><td>6.0</td>\n",
       "<td>0.0</td>\n",
       "<td>0.0</td>\n",
       "<td>0.0</td>\n",
       "<td>0 / 6</td></tr>\n",
       "<tr><td>0.0</td>\n",
       "<td>5.0</td>\n",
       "<td>0.0</td>\n",
       "<td>0.0</td>\n",
       "<td>0 / 5</td></tr>\n",
       "<tr><td>0.0</td>\n",
       "<td>1.0</td>\n",
       "<td>3.0</td>\n",
       "<td>0.25</td>\n",
       "<td>1 / 4</td></tr>\n",
       "<tr><td>6.0</td>\n",
       "<td>6.0</td>\n",
       "<td>3.0</td>\n",
       "<td>0.0666667</td>\n",
       "<td>1 / 15</td></tr></table></div>"
      ],
      "text/plain": [
       "Iris-setosa    Iris-versicolor    Iris-virginica    Error      Rate\n",
       "-------------  -----------------  ----------------  ---------  ------\n",
       "6              0                  0                 0          0 / 6\n",
       "0              5                  0                 0          0 / 5\n",
       "0              1                  3                 0.25       1 / 4\n",
       "6              6                  3                 0.0666667  1 / 15"
      ]
     },
     "metadata": {},
     "output_type": "display_data"
    },
    {
     "name": "stdout",
     "output_type": "stream",
     "text": [
      "Top-3 Hit Ratios: \n"
     ]
    },
    {
     "data": {
      "text/html": [
       "<div style=\"overflow:auto\"><table style=\"width:50%\"><tr><td><b>k</b></td>\n",
       "<td><b>hit_ratio</b></td></tr>\n",
       "<tr><td>1</td>\n",
       "<td>0.9333333</td></tr>\n",
       "<tr><td>2</td>\n",
       "<td>1.0</td></tr>\n",
       "<tr><td>3</td>\n",
       "<td>1.0</td></tr></table></div>"
      ],
      "text/plain": [
       "k    hit_ratio\n",
       "---  -----------\n",
       "1    0.933333\n",
       "2    1\n",
       "3    1"
      ]
     },
     "metadata": {},
     "output_type": "display_data"
    },
    {
     "data": {
      "text/plain": []
     },
     "execution_count": 27,
     "metadata": {},
     "output_type": "execute_result"
    }
   ],
   "source": [
    "gbm.model_performance(test)"
   ]
  },
  {
   "cell_type": "code",
   "execution_count": 29,
   "metadata": {},
   "outputs": [
    {
     "data": {
      "text/plain": [
       "0.16288415928982083"
      ]
     },
     "execution_count": 29,
     "metadata": {},
     "output_type": "execute_result"
    }
   ],
   "source": [
    "gbm.mse(valid=True)"
   ]
  },
  {
   "cell_type": "code",
   "execution_count": 32,
   "metadata": {},
   "outputs": [
    {
     "data": {
      "text/plain": [
       "0.0006794781525544588"
      ]
     },
     "execution_count": 32,
     "metadata": {},
     "output_type": "execute_result"
    }
   ],
   "source": [
    "gbm.mse(train=True)"
   ]
  },
  {
   "cell_type": "code",
   "execution_count": null,
   "metadata": {},
   "outputs": [],
   "source": []
  }
 ],
 "metadata": {
  "kernelspec": {
   "display_name": "Python 3",
   "language": "python",
   "name": "python3"
  },
  "language_info": {
   "codemirror_mode": {
    "name": "ipython",
    "version": 3
   },
   "file_extension": ".py",
   "mimetype": "text/x-python",
   "name": "python",
   "nbconvert_exporter": "python",
   "pygments_lexer": "ipython3",
   "version": "3.6.5"
  }
 },
 "nbformat": 4,
 "nbformat_minor": 2
}
